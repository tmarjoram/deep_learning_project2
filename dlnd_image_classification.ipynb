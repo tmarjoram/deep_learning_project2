{
 "cells": [
  {
   "cell_type": "markdown",
   "metadata": {
    "collapsed": true
   },
   "source": [
    "# Image Classification\n",
    "In this project, you'll classify images from the [CIFAR-10 dataset](https://www.cs.toronto.edu/~kriz/cifar.html).  The dataset consists of airplanes, dogs, cats, and other objects. You'll preprocess the images, then train a convolutional neural network on all the samples. The images need to be normalized and the labels need to be one-hot encoded.  You'll get to apply what you learned and build a convolutional, max pooling, dropout, and fully connected layers.  At the end, you'll get to see your neural network's predictions on the sample images.\n",
    "## Get the Data\n",
    "Run the following cell to download the [CIFAR-10 dataset for python](https://www.cs.toronto.edu/~kriz/cifar-10-python.tar.gz)."
   ]
  },
  {
   "cell_type": "code",
   "execution_count": 35,
   "metadata": {
    "collapsed": false
   },
   "outputs": [
    {
     "name": "stdout",
     "output_type": "stream",
     "text": [
      "All files found!\n"
     ]
    }
   ],
   "source": [
    "\"\"\"\n",
    "DON'T MODIFY ANYTHING IN THIS CELL THAT IS BELOW THIS LINE\n",
    "\"\"\"\n",
    "from urllib.request import urlretrieve\n",
    "from os.path import isfile, isdir\n",
    "from tqdm import tqdm\n",
    "import problem_unittests as tests\n",
    "import tarfile\n",
    "\n",
    "cifar10_dataset_folder_path = 'cifar-10-batches-py'\n",
    "\n",
    "# Use Floyd's cifar-10 dataset if present\n",
    "floyd_cifar10_location = '/cifar/cifar-10-python.tar.gz'\n",
    "if isfile(floyd_cifar10_location):\n",
    "    tar_gz_path = floyd_cifar10_location\n",
    "else:\n",
    "    tar_gz_path = 'cifar-10-python.tar.gz'\n",
    "\n",
    "class DLProgress(tqdm):\n",
    "    last_block = 0\n",
    "\n",
    "    def hook(self, block_num=1, block_size=1, total_size=None):\n",
    "        self.total = total_size\n",
    "        self.update((block_num - self.last_block) * block_size)\n",
    "        self.last_block = block_num\n",
    "\n",
    "if not isfile(tar_gz_path):\n",
    "    with DLProgress(unit='B', unit_scale=True, miniters=1, desc='CIFAR-10 Dataset') as pbar:\n",
    "        urlretrieve(\n",
    "            'https://www.cs.toronto.edu/~kriz/cifar-10-python.tar.gz',\n",
    "            tar_gz_path,\n",
    "            pbar.hook)\n",
    "\n",
    "if not isdir(cifar10_dataset_folder_path):\n",
    "    with tarfile.open(tar_gz_path) as tar:\n",
    "        tar.extractall()\n",
    "        tar.close()\n",
    "\n",
    "\n",
    "tests.test_folder_path(cifar10_dataset_folder_path)"
   ]
  },
  {
   "cell_type": "markdown",
   "metadata": {},
   "source": [
    "## Explore the Data\n",
    "The dataset is broken into batches to prevent your machine from running out of memory.  The CIFAR-10 dataset consists of 5 batches, named `data_batch_1`, `data_batch_2`, etc.. Each batch contains the labels and images that are one of the following:\n",
    "* airplane\n",
    "* automobile\n",
    "* bird\n",
    "* cat\n",
    "* deer\n",
    "* dog\n",
    "* frog\n",
    "* horse\n",
    "* ship\n",
    "* truck\n",
    "\n",
    "Understanding a dataset is part of making predictions on the data.  Play around with the code cell below by changing the `batch_id` and `sample_id`. The `batch_id` is the id for a batch (1-5). The `sample_id` is the id for a image and label pair in the batch.\n",
    "\n",
    "Ask yourself \"What are all possible labels?\", \"What is the range of values for the image data?\", \"Are the labels in order or random?\".  Answers to questions like these will help you preprocess the data and end up with better predictions."
   ]
  },
  {
   "cell_type": "code",
   "execution_count": 36,
   "metadata": {
    "collapsed": false
   },
   "outputs": [
    {
     "name": "stdout",
     "output_type": "stream",
     "text": [
      "\n",
      "Stats of batch 4:\n",
      "Samples: 10000\n",
      "Label Counts: {0: 1003, 1: 963, 2: 1041, 3: 976, 4: 1004, 5: 1021, 6: 1004, 7: 981, 8: 1024, 9: 983}\n",
      "First 20 Labels: [0, 6, 0, 2, 7, 2, 1, 2, 4, 1, 5, 6, 6, 3, 1, 3, 5, 5, 8, 1]\n",
      "\n",
      "Example of Image 5:\n",
      "Image - Min Value: 13 Max Value: 169\n",
      "Image - Shape: (32, 32, 3)\n",
      "Label - Label Id: 2 Name: bird\n"
     ]
    },
    {
     "data": {
      "image/png": "[encoded data removed]",
      "text/plain": [
       "<matplotlib.figure.Figure at 0x1d5375a2780>"
      ]
     },
     "metadata": {
      "image/png": {
       "height": 250,
       "width": 253
      }
     },
     "output_type": "display_data"
    }
   ],
   "source": [
    "%matplotlib inline\n",
    "%config InlineBackend.figure_format = 'retina'\n",
    "\n",
    "import helper\n",
    "import numpy as np\n",
    "\n",
    "# Explore the dataset\n",
    "batch_id = 4\n",
    "sample_id = 5\n",
    "helper.display_stats(cifar10_dataset_folder_path, batch_id, sample_id)"
   ]
  },
  {
   "cell_type": "markdown",
   "metadata": {},
   "source": [
    "## Implement Preprocess Functions\n",
    "### Normalize\n",
    "In the cell below, implement the `normalize` function to take in image data, `x`, and return it as a normalized Numpy array. The values should be in the range of 0 to 1, inclusive.  The return object should be the same shape as `x`."
   ]
  },
  {
   "cell_type": "code",
   "execution_count": 37,
   "metadata": {
    "collapsed": false
   },
   "outputs": [
    {
     "name": "stdout",
     "output_type": "stream",
     "text": [
      "Tests Passed\n"
     ]
    }
   ],
   "source": [
    "def normalize(x):\n",
    "    \"\"\"\n",
    "    Normalize a list of sample image data in the range of 0 to 1\n",
    "    : x: List of image data.  The image shape is (32, 32, 3)\n",
    "    : return: Numpy array of normalize data\n",
    "    \"\"\"\n",
    "    # TODO: Implement Function\n",
    "    return x/256\n",
    "\n",
    "\n",
    "\"\"\"\n",
    "DON'T MODIFY ANYTHING IN THIS CELL THAT IS BELOW THIS LINE\n",
    "\"\"\"\n",
    "tests.test_normalize(normalize)"
   ]
  },
  {
   "cell_type": "markdown",
   "metadata": {},
   "source": [
    "### One-hot encode\n",
    "Just like the previous code cell, you'll be implementing a function for preprocessing.  This time, you'll implement the `one_hot_encode` function. The input, `x`, are a list of labels.  Implement the function to return the list of labels as One-Hot encoded Numpy array.  The possible values for labels are 0 to 9. The one-hot encoding function should return the same encoding for each value between each call to `one_hot_encode`.  Make sure to save the map of encodings outside the function.\n",
    "\n",
    "Hint: Don't reinvent the wheel."
   ]
  },
  {
   "cell_type": "code",
   "execution_count": 38,
   "metadata": {
    "collapsed": false
   },
   "outputs": [
    {
     "name": "stdout",
     "output_type": "stream",
     "text": [
      "Tests Passed\n"
     ]
    }
   ],
   "source": [
    "import numpy as np\n",
    "def one_hot_encode(x):\n",
    "    \"\"\"\n",
    "    One hot encode a list of sample labels. Return a one-hot encoded vector for each label.\n",
    "    : x: List of sample Labels\n",
    "    : return: Numpy array of one-hot encoded labels\n",
    "    \"\"\"\n",
    "    result = np.zeros((len(x),10))\n",
    "    for i, label in enumerate(x):\n",
    "        result[i][label] = 1\n",
    "                              \n",
    "    return result\n",
    "\n",
    "\"\"\"\n",
    "DON'T MODIFY ANYTHING IN THIS CELL THAT IS BELOW THIS LINE\n",
    "\"\"\"\n",
    "tests.test_one_hot_encode(one_hot_encode)"
   ]
  },
  {
   "cell_type": "markdown",
   "metadata": {},
   "source": [
    "### Randomize Data\n",
    "As you saw from exploring the data above, the order of the samples are randomized.  It doesn't hurt to randomize it again, but you don't need to for this dataset."
   ]
  },
  {
   "cell_type": "markdown",
   "metadata": {},
   "source": [
    "## Preprocess all the data and save it\n",
    "Running the code cell below will preprocess all the CIFAR-10 data and save it to file. The code below also uses 10% of the training data for validation."
   ]
  },
  {
   "cell_type": "code",
   "execution_count": 39,
   "metadata": {
    "collapsed": false
   },
   "outputs": [
    {
     "name": "stdout",
     "output_type": "stream",
     "text": [
      "Completed\n"
     ]
    }
   ],
   "source": [
    "\"\"\"\n",
    "DON'T MODIFY ANYTHING IN THIS CELL\n",
    "\"\"\"\n",
    "# Preprocess Training, Validation, and Testing Data\n",
    "helper.preprocess_and_save_data(cifar10_dataset_folder_path, normalize, one_hot_encode)\n",
    "print(\"Completed\")"
   ]
  },
  {
   "cell_type": "markdown",
   "metadata": {},
   "source": [
    "# Check Point\n",
    "This is your first checkpoint.  If you ever decide to come back to this notebook or have to restart the notebook, you can start from here.  The preprocessed data has been saved to disk."
   ]
  },
  {
   "cell_type": "code",
   "execution_count": 40,
   "metadata": {
    "collapsed": true
   },
   "outputs": [],
   "source": [
    "\"\"\"\n",
    "DON'T MODIFY ANYTHING IN THIS CELL\n",
    "\"\"\"\n",
    "import pickle\n",
    "import problem_unittests as tests\n",
    "import helper\n",
    "\n",
    "# Load the Preprocessed Validation data\n",
    "valid_features, valid_labels = pickle.load(open('preprocess_validation.p', mode='rb'))\n",
    "\n",
    "#valid_features[:1], valid_labels[:1]"
   ]
  },
  {
   "cell_type": "markdown",
   "metadata": {},
   "source": [
    "## Build the network\n",
    "For the neural network, you'll build each layer into a function.  Most of the code you've seen has been outside of functions. To test your code more thoroughly, we require that you put each layer in a function.  This allows us to give you better feedback and test for simple mistakes using our unittests before you submit your project.\n",
    "\n",
    ">**Note:** If you're finding it hard to dedicate enough time for this course each week, we've provided a small shortcut to this part of the project. In the next couple of problems, you'll have the option to use classes from the [TensorFlow Layers](https://www.tensorflow.org/api_docs/python/tf/layers) or [TensorFlow Layers (contrib)](https://www.tensorflow.org/api_guides/python/contrib.layers) packages to build each layer, except the layers you build in the \"Convolutional and Max Pooling Layer\" section.  TF Layers is similar to Keras's and TFLearn's abstraction to layers, so it's easy to pickup.\n",
    "\n",
    ">However, if you would like to get the most out of this course, try to solve all the problems _without_ using anything from the TF Layers packages. You **can** still use classes from other packages that happen to have the same name as ones you find in TF Layers! For example, instead of using the TF Layers version of the `conv2d` class, [tf.layers.conv2d](https://www.tensorflow.org/api_docs/python/tf/layers/conv2d), you would want to use the TF Neural Network version of `conv2d`, [tf.nn.conv2d](https://www.tensorflow.org/api_docs/python/tf/nn/conv2d). \n",
    "\n",
    "Let's begin!\n",
    "\n",
    "### Input\n",
    "The neural network needs to read the image data, one-hot encoded labels, and dropout keep probability. Implement the following functions\n",
    "* Implement `neural_net_image_input`\n",
    " * Return a [TF Placeholder](https://www.tensorflow.org/api_docs/python/tf/placeholder)\n",
    " * Set the shape using `image_shape` with batch size set to `None`.\n",
    " * Name the TensorFlow placeholder \"x\" using the TensorFlow `name` parameter in the [TF Placeholder](https://www.tensorflow.org/api_docs/python/tf/placeholder).\n",
    "* Implement `neural_net_label_input`\n",
    " * Return a [TF Placeholder](https://www.tensorflow.org/api_docs/python/tf/placeholder)\n",
    " * Set the shape using `n_classes` with batch size set to `None`.\n",
    " * Name the TensorFlow placeholder \"y\" using the TensorFlow `name` parameter in the [TF Placeholder](https://www.tensorflow.org/api_docs/python/tf/placeholder).\n",
    "* Implement `neural_net_keep_prob_input`\n",
    " * Return a [TF Placeholder](https://www.tensorflow.org/api_docs/python/tf/placeholder) for dropout keep probability.\n",
    " * Name the TensorFlow placeholder \"keep_prob\" using the TensorFlow `name` parameter in the [TF Placeholder](https://www.tensorflow.org/api_docs/python/tf/placeholder).\n",
    "\n",
    "These names will be used at the end of the project to load your saved model.\n",
    "\n",
    "Note: `None` for shapes in TensorFlow allow for a dynamic size."
   ]
  },
  {
   "cell_type": "code",
   "execution_count": 41,
   "metadata": {
    "collapsed": false
   },
   "outputs": [
    {
     "name": "stdout",
     "output_type": "stream",
     "text": [
      "Image Input Tests Passed.\n",
      "Label Input Tests Passed.\n",
      "Keep Prob Tests Passed.\n"
     ]
    }
   ],
   "source": [
    "import tensorflow as tf\n",
    "\n",
    "def neural_net_image_input(image_shape):\n",
    "    \"\"\"\n",
    "    Return a Tensor for a batch of image input\n",
    "    : image_shape: Shape of the images\n",
    "    : return: Tensor for image input.\n",
    "    \"\"\"\n",
    "    # TODO: Implement Function\n",
    "    return tf.placeholder(tf.float32, shape=[None,image_shape[0],image_shape[1],image_shape[2]], name='x')\n",
    "\n",
    "\n",
    "def neural_net_label_input(n_classes):\n",
    "    \"\"\"\n",
    "    Return a Tensor for a batch of label input\n",
    "    : n_classes: Number of classes\n",
    "    : return: Tensor for label input.\n",
    "    \"\"\"\n",
    "    # TODO: Implement Function\n",
    "    return tf.placeholder(tf.uint8, shape=[None, n_classes], name='y')\n",
    "\n",
    "\n",
    "def neural_net_keep_prob_input():\n",
    "    \"\"\"\n",
    "    Return a Tensor for keep probability\n",
    "    : return: Tensor for keep probability.\n",
    "    \"\"\"\n",
    "    # TODO: Implement Function\n",
    "    return tf.placeholder(tf.float32, name='keep_prob')\n",
    "\n",
    "\n",
    "\"\"\"\n",
    "DON'T MODIFY ANYTHING IN THIS CELL THAT IS BELOW THIS LINE\n",
    "\"\"\"\n",
    "tf.reset_default_graph()\n",
    "tests.test_nn_image_inputs(neural_net_image_input)\n",
    "tests.test_nn_label_inputs(neural_net_label_input)\n",
    "tests.test_nn_keep_prob_inputs(neural_net_keep_prob_input)"
   ]
  },
  {
   "cell_type": "markdown",
   "metadata": {},
   "source": [
    "### Convolution and Max Pooling Layer\n",
    "Convolution layers have a lot of success with images. For this code cell, you should implement the function `conv2d_maxpool` to apply convolution then max pooling:\n",
    "* Create the weight and bias using `conv_ksize`, `conv_num_outputs` and the shape of `x_tensor`.\n",
    "* Apply a convolution to `x_tensor` using weight and `conv_strides`.\n",
    " * We recommend you use same padding, but you're welcome to use any padding.\n",
    "* Add bias\n",
    "* Add a nonlinear activation to the convolution.\n",
    "* Apply Max Pooling using `pool_ksize` and `pool_strides`.\n",
    " * We recommend you use same padding, but you're welcome to use any padding.\n",
    "\n",
    "**Note:** You **can't** use [TensorFlow Layers](https://www.tensorflow.org/api_docs/python/tf/layers) or [TensorFlow Layers (contrib)](https://www.tensorflow.org/api_guides/python/contrib.layers) for **this** layer, but you can still use TensorFlow's [Neural Network](https://www.tensorflow.org/api_docs/python/tf/nn) package. You may still use the shortcut option for all the **other** layers."
   ]
  },
  {
   "cell_type": "code",
   "execution_count": 42,
   "metadata": {
    "collapsed": false
   },
   "outputs": [
    {
     "name": "stdout",
     "output_type": "stream",
     "text": [
      "Tests Passed\n"
     ]
    }
   ],
   "source": [
    "def conv2d_maxpool(x_tensor, conv_num_outputs, conv_ksize, conv_strides, pool_ksize, pool_strides):\n",
    "    \"\"\"\n",
    "    Apply convolution then max pooling to x_tensor\n",
    "    :param x_tensor: TensorFlow Tensor\n",
    "    :param conv_num_outputs: Number of outputs for the convolutional layer\n",
    "    :param conv_ksize: kernal size 2-D Tuple for the convolutional layer\n",
    "    :param conv_strides: Stride 2-D Tuple for convolution\n",
    "    :param pool_ksize: kernal size 2-D Tuple for pool\n",
    "    :param pool_strides: Stride 2-D Tuple for pool\n",
    "    : return: A tensor that represents convolution and max pooling of x_tensor\n",
    "    \"\"\"\n",
    "    # TODO: Implement Function\n",
    "    # Convolution Weights and Bias\n",
    "    conv_weights = tf.Variable(tf.truncated_normal([conv_ksize[0], conv_ksize[1], \n",
    "                                                  x_tensor.get_shape().as_list()[3], conv_num_outputs ],stddev=0.1))\n",
    "    conv_bias = tf.Variable(tf.zeros(conv_num_outputs))\n",
    "    \n",
    "    # Convolution Layer\n",
    "    conv_layer=tf.nn.conv2d(x_tensor, conv_weights, strides=[1,conv_strides[0], conv_strides[1],1], padding='SAME')\n",
    "    conv_layer=tf.nn.bias_add(conv_layer,conv_bias)\n",
    "    conv_layer=tf.nn.relu(conv_layer)\n",
    "    \n",
    "    #Pooling Layer\n",
    "    pooling_layer=tf.nn.max_pool(conv_layer, ksize=[1,pool_ksize[0], pool_ksize[1],1], \n",
    "                                 strides=[1,pool_strides[0], pool_strides[1],1], padding='SAME')\n",
    "    \n",
    "    return pooling_layer \n",
    "\n",
    "\n",
    "\"\"\"\n",
    "DON'T MODIFY ANYTHING IN THIS CELL THAT IS BELOW THIS LINE\n",
    "\"\"\"\n",
    "tests.test_con_pool(conv2d_maxpool)"
   ]
  },
  {
   "cell_type": "markdown",
   "metadata": {},
   "source": [
    "### Flatten Layer\n",
    "Implement the `flatten` function to change the dimension of `x_tensor` from a 4-D tensor to a 2-D tensor.  The output should be the shape (*Batch Size*, *Flattened Image Size*). Shortcut option: you can use classes from the [TensorFlow Layers](https://www.tensorflow.org/api_docs/python/tf/layers) or [TensorFlow Layers (contrib)](https://www.tensorflow.org/api_guides/python/contrib.layers) packages for this layer. For more of a challenge, only use other TensorFlow packages."
   ]
  },
  {
   "cell_type": "code",
   "execution_count": 43,
   "metadata": {
    "collapsed": false
   },
   "outputs": [
    {
     "name": "stdout",
     "output_type": "stream",
     "text": [
      "Tests Passed\n"
     ]
    }
   ],
   "source": [
    "def flatten(x_tensor):\n",
    "    \"\"\"\n",
    "    Flatten x_tensor to (Batch Size, Flattened Image Size)\n",
    "    : x_tensor: A tensor of size (Batch Size, ...), where ... are the image dimensions.\n",
    "    : return: A tensor of size (Batch Size, Flattened Image Size).\n",
    "    \"\"\"\n",
    "    # TODO: Implement Function\n",
    "    shape_l = x_tensor.get_shape().as_list()\n",
    "    fc1 = tf.reshape(x_tensor, shape=[-1, shape_l[1]*shape_l[2]*shape_l[3]])\n",
    "    return fc1\n",
    "\n",
    "\n",
    "\"\"\"\n",
    "DON'T MODIFY ANYTHING IN THIS CELL THAT IS BELOW THIS LINE\n",
    "\"\"\"\n",
    "tests.test_flatten(flatten)"
   ]
  },
  {
   "cell_type": "markdown",
   "metadata": {},
   "source": [
    "### Fully-Connected Layer\n",
    "Implement the `fully_conn` function to apply a fully connected layer to `x_tensor` with the shape (*Batch Size*, *num_outputs*). Shortcut option: you can use classes from the [TensorFlow Layers](https://www.tensorflow.org/api_docs/python/tf/layers) or [TensorFlow Layers (contrib)](https://www.tensorflow.org/api_guides/python/contrib.layers) packages for this layer. For more of a challenge, only use other TensorFlow packages."
   ]
  },
  {
   "cell_type": "code",
   "execution_count": 44,
   "metadata": {
    "collapsed": false
   },
   "outputs": [
    {
     "name": "stdout",
     "output_type": "stream",
     "text": [
      "Tests Passed\n"
     ]
    }
   ],
   "source": [
    "def fully_conn(x_tensor, num_outputs):\n",
    "    \"\"\"\n",
    "    Apply a fully connected layer to x_tensor using weight and bias\n",
    "    : x_tensor: A 2-D tensor where the first dimension is batch size.\n",
    "    : num_outputs: The number of output that the new tensor should be.\n",
    "    : return: A 2-D tensor where the second dimension is num_outputs.\n",
    "    \"\"\"\n",
    "    shape_l = x_tensor.get_shape().as_list()\n",
    "    weights = tf.Variable(tf.truncated_normal([shape_l[1], num_outputs],stddev=0.1))\n",
    "    bias = tf.Variable(tf.random_normal([num_outputs]))\n",
    "\n",
    "    # Logits - xW + b\n",
    "    fc = tf.add(tf.matmul(x_tensor, weights), bias)\n",
    "    fc = tf.nn.relu(fc)\n",
    "\n",
    "    return fc\n",
    "\n",
    "\n",
    "\"\"\"\n",
    "DON'T MODIFY ANYTHING IN THIS CELL THAT IS BELOW THIS LINE\n",
    "\"\"\"\n",
    "tests.test_fully_conn(fully_conn)"
   ]
  },
  {
   "cell_type": "markdown",
   "metadata": {},
   "source": [
    "### Output Layer\n",
    "Implement the `output` function to apply a fully connected layer to `x_tensor` with the shape (*Batch Size*, *num_outputs*). Shortcut option: you can use classes from the [TensorFlow Layers](https://www.tensorflow.org/api_docs/python/tf/layers) or [TensorFlow Layers (contrib)](https://www.tensorflow.org/api_guides/python/contrib.layers) packages for this layer. For more of a challenge, only use other TensorFlow packages.\n",
    "\n",
    "**Note:** Activation, softmax, or cross entropy should **not** be applied to this."
   ]
  },
  {
   "cell_type": "code",
   "execution_count": 45,
   "metadata": {
    "collapsed": false
   },
   "outputs": [
    {
     "name": "stdout",
     "output_type": "stream",
     "text": [
      "Tests Passed\n"
     ]
    }
   ],
   "source": [
    "def output(x_tensor, num_outputs):\n",
    "    \"\"\"\n",
    "    Apply a output layer to x_tensor using weight and bias\n",
    "    : x_tensor: A 2-D tensor where the first dimension is batch size.\n",
    "    : num_outputs: The number of output that the new tensor should be.\n",
    "    : return: A 2-D tensor where the second dimension is num_outputs.\n",
    "    \"\"\"\n",
    "    shape_l = x_tensor.get_shape().as_list()\n",
    "    weights = tf.Variable(tf.truncated_normal([shape_l[1], num_outputs],stddev=0.1))\n",
    "    bias = tf.Variable(tf.random_normal([num_outputs]))\n",
    "\n",
    "    # Logits - xW + b\n",
    "    return tf.add(tf.matmul(x_tensor, weights), bias)\n",
    "\n",
    "\n",
    "\n",
    "\"\"\"\n",
    "DON'T MODIFY ANYTHING IN THIS CELL THAT IS BELOW THIS LINE\n",
    "\"\"\"\n",
    "tests.test_output(output)"
   ]
  },
  {
   "cell_type": "markdown",
   "metadata": {},
   "source": [
    "### Create Convolutional Model\n",
    "Implement the function `conv_net` to create a convolutional neural network model. The function takes in a batch of images, `x`, and outputs logits.  Use the layers you created above to create this model:\n",
    "\n",
    "* Apply 1, 2, or 3 Convolution and Max Pool layers\n",
    "* Apply a Flatten Layer\n",
    "* Apply 1, 2, or 3 Fully Connected Layers\n",
    "* Apply an Output Layer\n",
    "* Return the output\n",
    "* Apply [TensorFlow's Dropout](https://www.tensorflow.org/api_docs/python/tf/nn/dropout) to one or more layers in the model using `keep_prob`. "
   ]
  },
  {
   "cell_type": "code",
   "execution_count": 46,
   "metadata": {
    "collapsed": false
   },
   "outputs": [
    {
     "name": "stdout",
     "output_type": "stream",
     "text": [
      "x shape (?, 32, 32, 3)\n",
      "1st covnet shape (?, 16, 16, 32)\n",
      "2nd covnet shape (?, 8, 8, 128)\n",
      "3rd covnet shape (?, 4, 4, 512)\n",
      "Flatten shape (?, 8192)\n",
      "Fully Con 1 shape (?, 2048)\n",
      "Fully Con 2 shape (?, 512)\n",
      "Output shape (?, 10)\n",
      "x shape (?, 32, 32, 3)\n",
      "1st covnet shape (?, 16, 16, 32)\n",
      "2nd covnet shape (?, 8, 8, 128)\n",
      "3rd covnet shape (?, 4, 4, 512)\n",
      "Flatten shape (?, 8192)\n",
      "Fully Con 1 shape (?, 2048)\n",
      "Fully Con 2 shape (?, 512)\n",
      "Output shape (?, 10)\n",
      "Neural Network Built!\n"
     ]
    }
   ],
   "source": [
    "def conv_net(x, keep_prob):\n",
    "    \"\"\"\n",
    "    Create a convolutional neural network model\n",
    "    : x: Placeholder tensor that holds image data.\n",
    "    : keep_prob: Placeholder tensor that hold dropout keep probability.\n",
    "    : return: Tensor that represents logits\n",
    "    \"\"\"\n",
    "    # TODO: Apply 1, 2, or 3 Convolution and Max Pool layers\n",
    "    #    Play around with different number of outputs, kernel size and stride\n",
    "    # Function Definition from Above:\n",
    "    #    conv2d_maxpool(x_tensor, conv_num_outputs, conv_ksize, conv_strides, pool_ksize, pool_strides)\n",
    "    print (\"x shape {}\".format(x.get_shape()))\n",
    "    \n",
    "    cov_net = conv2d_maxpool(x, 32,(3,3), (2,2), (3,3), (1,1))\n",
    "    print (\"1st covnet shape {}\".format(cov_net.get_shape()))\n",
    "    \n",
    "    cov_net = conv2d_maxpool(cov_net, 128,(3,3), (2,2), (3,3), (1,1)) \n",
    "    print (\"2nd covnet shape {}\".format(cov_net.get_shape()))\n",
    "           \n",
    "    cov_net = conv2d_maxpool(cov_net, 512,(2,2), (2,2), (2,2), (1,1))\n",
    "    print (\"3rd covnet shape {}\".format(cov_net.get_shape()))\n",
    "           \n",
    "    # TODO: Apply a Flatten Layer\n",
    "    # Function Definition from Above:\n",
    "    #   flatten(x_tensor)\n",
    "    cov_net=flatten(cov_net)\n",
    "    print (\"Flatten shape {}\".format(cov_net.get_shape()))\n",
    "\n",
    "    cov_net = tf.nn.dropout(cov_net,keep_prob)\n",
    "\n",
    "    # TODO: Apply 1, 2, or 3 Fully Connected Layers\n",
    "    #    Play around with different number of outputs\n",
    "    # Function Definition from Above:\n",
    "    #   fully_conn(x_tensor, num_outputs)\n",
    "    cov_net = fully_conn(cov_net, 2048) \n",
    "    print (\"Fully Con 1 shape {}\".format(cov_net.get_shape()))\n",
    "   \n",
    "    cov_net = tf.nn.dropout(cov_net,keep_prob)\n",
    "\n",
    "    cov_net = fully_conn(cov_net, 512) \n",
    "    print (\"Fully Con 2 shape {}\".format(cov_net.get_shape()))\n",
    "    \n",
    "    # TODO: Apply an Output Layer\n",
    "    #    Set this to the number of classes\n",
    "    # Function Definition from Above:\n",
    "    #   output(x_tensor, num_outputs)\n",
    "    \n",
    "    cov_net = output(cov_net,10)\n",
    "    print (\"Output shape {}\".format(cov_net.get_shape()))\n",
    "\n",
    "    # TODO: return output\n",
    "    return cov_net\n",
    "\n",
    "\n",
    "\"\"\"\n",
    "DON'T MODIFY ANYTHING IN THIS CELL THAT IS BELOW THIS LINE\n",
    "\"\"\"\n",
    "\n",
    "##############################\n",
    "## Build the Neural Network ##\n",
    "##############################\n",
    "\n",
    "# Remove previous weights, bias, inputs, etc..\n",
    "tf.reset_default_graph()\n",
    "\n",
    "# Inputs\n",
    "x = neural_net_image_input((32, 32, 3))\n",
    "y = neural_net_label_input(10)\n",
    "keep_prob = neural_net_keep_prob_input()\n",
    "\n",
    "# Model\n",
    "logits = conv_net(x, keep_prob)\n",
    "\n",
    "# Name logits Tensor, so that is can be loaded from disk after training\n",
    "logits = tf.identity(logits, name='logits')\n",
    "\n",
    "# Loss and Optimizer\n",
    "cost = tf.reduce_mean(tf.nn.softmax_cross_entropy_with_logits(logits=logits, labels=y))\n",
    "optimizer = tf.train.AdamOptimizer().minimize(cost)\n",
    "\n",
    "# Accuracy\n",
    "correct_pred = tf.equal(tf.argmax(logits, 1), tf.argmax(y, 1))\n",
    "accuracy = tf.reduce_mean(tf.cast(correct_pred, tf.float32), name='accuracy')\n",
    "\n",
    "tests.test_conv_net(conv_net)"
   ]
  },
  {
   "cell_type": "markdown",
   "metadata": {},
   "source": [
    "## Train the Neural Network\n",
    "### Single Optimization\n",
    "Implement the function `train_neural_network` to do a single optimization.  The optimization should use `optimizer` to optimize in `session` with a `feed_dict` of the following:\n",
    "* `x` for image input\n",
    "* `y` for labels\n",
    "* `keep_prob` for keep probability for dropout\n",
    "\n",
    "This function will be called for each batch, so `tf.global_variables_initializer()` has already been called.\n",
    "\n",
    "Note: Nothing needs to be returned. This function is only optimizing the neural network."
   ]
  },
  {
   "cell_type": "code",
   "execution_count": 47,
   "metadata": {
    "collapsed": false
   },
   "outputs": [
    {
     "name": "stdout",
     "output_type": "stream",
     "text": [
      "Tests Passed\n"
     ]
    }
   ],
   "source": [
    "def train_neural_network(session, optimizer, keep_probability, feature_batch, label_batch):\n",
    "    \"\"\"\n",
    "    Optimize the session on a batch of images and labels\n",
    "    : session: Current TensorFlow session\n",
    "    : optimizer: TensorFlow optimizer function\n",
    "    : keep_probability: keep probability\n",
    "    : feature_batch: Batch of Numpy image data\n",
    "    : label_batch: Batch of Numpy label data\n",
    "    \"\"\"\n",
    "    # TODO: Implement Function\n",
    "    session.run(optimizer, feed_dict={x: feature_batch, y: label_batch, keep_prob: keep_probability})\n",
    "\n",
    "\n",
    "\n",
    "\n",
    "\"\"\"\n",
    "DON'T MODIFY ANYTHING IN THIS CELL THAT IS BELOW THIS LINE\n",
    "\"\"\"\n",
    "tests.test_train_nn(train_neural_network)"
   ]
  },
  {
   "cell_type": "markdown",
   "metadata": {},
   "source": [
    "### Show Stats\n",
    "Implement the function `print_stats` to print loss and validation accuracy.  Use the global variables `valid_features` and `valid_labels` to calculate validation accuracy.  Use a keep probability of `1.0` to calculate the loss and validation accuracy."
   ]
  },
  {
   "cell_type": "code",
   "execution_count": 48,
   "metadata": {
    "collapsed": true
   },
   "outputs": [],
   "source": [
    "def print_stats(session, feature_batch, label_batch, cost, accuracy):\n",
    "    \"\"\"\n",
    "    Print information about loss and validation accuracy\n",
    "    : session: Current TensorFlow session\n",
    "    : feature_batch: Batch of Numpy image data\n",
    "    : label_batch: Batch of Numpy label data\n",
    "    : cost: TensorFlow cost function\n",
    "    : accuracy: TensorFlow accuracy function\n",
    "    \"\"\"\n",
    "    # TODO: Implement Function\n",
    "    t_loss = session.run(cost, feed_dict={x: feature_batch, y: label_batch, keep_prob: 1.})\n",
    "\n",
    "    v_loss = session.run(cost, feed_dict={x: valid_features, y: valid_labels, keep_prob: 1.})\n",
    "    v_acc = session.run(accuracy, feed_dict={\n",
    "        x: valid_features,\n",
    "        y: valid_labels,\n",
    "        keep_prob: 1.})    \n",
    "    \n",
    "    print('Train Loss: {:>8.4f} Valid Loss: {:>8.4f} Valid Accuracy: {:.6f} '.format(\n",
    "        t_loss,\n",
    "        v_loss,\n",
    "        v_acc))"
   ]
  },
  {
   "cell_type": "markdown",
   "metadata": {},
   "source": [
    "### Hyperparameters\n",
    "Tune the following parameters:\n",
    "* Set `epochs` to the number of iterations until the network stops learning or start overfitting\n",
    "* Set `batch_size` to the highest number that your machine has memory for.  Most people set them to common sizes of memory:\n",
    " * 64\n",
    " * 128\n",
    " * 256\n",
    " * ...\n",
    "* Set `keep_probability` to the probability of keeping a node using dropout"
   ]
  },
  {
   "cell_type": "code",
   "execution_count": 49,
   "metadata": {
    "collapsed": true
   },
   "outputs": [],
   "source": [
    "# TODO: Tune Parameters\n",
    "epochs = 60\n",
    "batch_size = 512\n",
    "keep_probability = 0.5"
   ]
  },
  {
   "cell_type": "markdown",
   "metadata": {},
   "source": [
    "### Train on a Single CIFAR-10 Batch\n",
    "Instead of training the neural network on all the CIFAR-10 batches of data, let's use a single batch. This should save time while you iterate on the model to get a better accuracy.  Once the final validation accuracy is 50% or greater, run the model on all the data in the next section."
   ]
  },
  {
   "cell_type": "code",
   "execution_count": 50,
   "metadata": {
    "collapsed": false
   },
   "outputs": [
    {
     "name": "stdout",
     "output_type": "stream",
     "text": [
      "Checking the Training on a Single Batch...\n",
      "Epoch  1, CIFAR-10 Batch 1:  Train Loss:   2.5022 Valid Loss:   2.4359 Valid Accuracy: 0.133800 \n",
      "Epoch  2, CIFAR-10 Batch 1:  Train Loss:   2.1839 Valid Loss:   2.1234 Valid Accuracy: 0.217000 \n",
      "Epoch  3, CIFAR-10 Batch 1:  Train Loss:   1.9828 Valid Loss:   1.9220 Valid Accuracy: 0.283200 \n",
      "Epoch  4, CIFAR-10 Batch 1:  Train Loss:   1.8419 Valid Loss:   1.7897 Valid Accuracy: 0.333200 \n",
      "Epoch  5, CIFAR-10 Batch 1:  Train Loss:   1.7211 Valid Loss:   1.6827 Valid Accuracy: 0.389200 \n",
      "Epoch  6, CIFAR-10 Batch 1:  Train Loss:   1.6355 Valid Loss:   1.5904 Valid Accuracy: 0.414200 \n",
      "Epoch  7, CIFAR-10 Batch 1:  Train Loss:   1.5923 Valid Loss:   1.5484 Valid Accuracy: 0.435000 \n",
      "Epoch  8, CIFAR-10 Batch 1:  Train Loss:   1.5341 Valid Loss:   1.5137 Valid Accuracy: 0.436400 \n",
      "Epoch  9, CIFAR-10 Batch 1:  Train Loss:   1.4684 Valid Loss:   1.4672 Valid Accuracy: 0.458600 \n",
      "Epoch 10, CIFAR-10 Batch 1:  Train Loss:   1.4234 Valid Loss:   1.4244 Valid Accuracy: 0.468200 \n",
      "Epoch 11, CIFAR-10 Batch 1:  Train Loss:   1.3599 Valid Loss:   1.3914 Valid Accuracy: 0.489800 \n",
      "Epoch 12, CIFAR-10 Batch 1:  Train Loss:   1.3061 Valid Loss:   1.3619 Valid Accuracy: 0.509400 \n",
      "Epoch 13, CIFAR-10 Batch 1:  Train Loss:   1.2854 Valid Loss:   1.3557 Valid Accuracy: 0.507800 \n",
      "Epoch 14, CIFAR-10 Batch 1:  Train Loss:   1.2446 Valid Loss:   1.3367 Valid Accuracy: 0.514000 \n",
      "Epoch 15, CIFAR-10 Batch 1:  Train Loss:   1.2186 Valid Loss:   1.3187 Valid Accuracy: 0.522200 \n",
      "Epoch 16, CIFAR-10 Batch 1:  Train Loss:   1.1989 Valid Loss:   1.3121 Valid Accuracy: 0.520400 \n",
      "Epoch 17, CIFAR-10 Batch 1:  Train Loss:   1.1360 Valid Loss:   1.2864 Valid Accuracy: 0.528600 \n",
      "Epoch 18, CIFAR-10 Batch 1:  Train Loss:   1.0872 Valid Loss:   1.2672 Valid Accuracy: 0.541400 \n",
      "Epoch 19, CIFAR-10 Batch 1:  Train Loss:   1.0107 Valid Loss:   1.2405 Valid Accuracy: 0.556000 \n",
      "Epoch 20, CIFAR-10 Batch 1:  Train Loss:   0.9850 Valid Loss:   1.2454 Valid Accuracy: 0.554000 \n",
      "Epoch 21, CIFAR-10 Batch 1:  Train Loss:   0.9471 Valid Loss:   1.2191 Valid Accuracy: 0.557000 \n",
      "Epoch 22, CIFAR-10 Batch 1:  Train Loss:   0.8792 Valid Loss:   1.2021 Valid Accuracy: 0.564200 \n",
      "Epoch 23, CIFAR-10 Batch 1:  Train Loss:   0.8416 Valid Loss:   1.1906 Valid Accuracy: 0.576000 \n",
      "Epoch 24, CIFAR-10 Batch 1:  Train Loss:   0.8245 Valid Loss:   1.1985 Valid Accuracy: 0.571600 \n",
      "Epoch 25, CIFAR-10 Batch 1:  Train Loss:   0.8108 Valid Loss:   1.1959 Valid Accuracy: 0.572600 \n",
      "Epoch 26, CIFAR-10 Batch 1:  Train Loss:   0.7342 Valid Loss:   1.1763 Valid Accuracy: 0.581000 \n",
      "Epoch 27, CIFAR-10 Batch 1:  Train Loss:   0.6959 Valid Loss:   1.1842 Valid Accuracy: 0.576000 \n",
      "Epoch 28, CIFAR-10 Batch 1:  Train Loss:   0.6911 Valid Loss:   1.2015 Valid Accuracy: 0.577200 \n",
      "Epoch 29, CIFAR-10 Batch 1:  Train Loss:   0.6374 Valid Loss:   1.1703 Valid Accuracy: 0.587000 \n",
      "Epoch 30, CIFAR-10 Batch 1:  Train Loss:   0.6212 Valid Loss:   1.1916 Valid Accuracy: 0.585200 \n",
      "Epoch 31, CIFAR-10 Batch 1:  Train Loss:   0.5716 Valid Loss:   1.1837 Valid Accuracy: 0.586600 \n",
      "Epoch 32, CIFAR-10 Batch 1:  Train Loss:   0.5480 Valid Loss:   1.2226 Valid Accuracy: 0.577200 \n",
      "Epoch 33, CIFAR-10 Batch 1:  Train Loss:   0.4839 Valid Loss:   1.1710 Valid Accuracy: 0.592600 \n",
      "Epoch 34, CIFAR-10 Batch 1:  Train Loss:   0.4624 Valid Loss:   1.1778 Valid Accuracy: 0.592000 \n",
      "Epoch 35, CIFAR-10 Batch 1:  Train Loss:   0.4223 Valid Loss:   1.1462 Valid Accuracy: 0.605200 \n",
      "Epoch 36, CIFAR-10 Batch 1:  Train Loss:   0.4134 Valid Loss:   1.1854 Valid Accuracy: 0.595000 \n",
      "Epoch 37, CIFAR-10 Batch 1:  Train Loss:   0.3823 Valid Loss:   1.1838 Valid Accuracy: 0.604600 \n",
      "Epoch 38, CIFAR-10 Batch 1:  Train Loss:   0.3406 Valid Loss:   1.1777 Valid Accuracy: 0.606800 \n",
      "Epoch 39, CIFAR-10 Batch 1:  Train Loss:   0.3377 Valid Loss:   1.2421 Valid Accuracy: 0.593400 \n",
      "Epoch 40, CIFAR-10 Batch 1:  Train Loss:   0.3407 Valid Loss:   1.2877 Valid Accuracy: 0.586600 \n",
      "Epoch 41, CIFAR-10 Batch 1:  Train Loss:   0.3203 Valid Loss:   1.2858 Valid Accuracy: 0.583000 \n",
      "Epoch 42, CIFAR-10 Batch 1:  Train Loss:   0.3050 Valid Loss:   1.2286 Valid Accuracy: 0.598400 \n",
      "Epoch 43, CIFAR-10 Batch 1:  Train Loss:   0.2508 Valid Loss:   1.1915 Valid Accuracy: 0.613600 \n",
      "Epoch 44, CIFAR-10 Batch 1:  Train Loss:   0.2407 Valid Loss:   1.2541 Valid Accuracy: 0.598200 \n",
      "Epoch 45, CIFAR-10 Batch 1:  Train Loss:   0.2080 Valid Loss:   1.2408 Valid Accuracy: 0.607800 \n",
      "Epoch 46, CIFAR-10 Batch 1:  Train Loss:   0.1911 Valid Loss:   1.2644 Valid Accuracy: 0.607200 \n",
      "Epoch 47, CIFAR-10 Batch 1:  Train Loss:   0.1902 Valid Loss:   1.2892 Valid Accuracy: 0.597600 \n",
      "Epoch 48, CIFAR-10 Batch 1:  Train Loss:   0.1741 Valid Loss:   1.3491 Valid Accuracy: 0.591400 \n",
      "Epoch 49, CIFAR-10 Batch 1:  Train Loss:   0.1857 Valid Loss:   1.3923 Valid Accuracy: 0.588400 \n",
      "Epoch 50, CIFAR-10 Batch 1:  Train Loss:   0.1366 Valid Loss:   1.3103 Valid Accuracy: 0.599000 \n",
      "Epoch 51, CIFAR-10 Batch 1:  Train Loss:   0.1299 Valid Loss:   1.3847 Valid Accuracy: 0.600800 \n",
      "Epoch 52, CIFAR-10 Batch 1:  Train Loss:   0.1490 Valid Loss:   1.4416 Valid Accuracy: 0.586600 \n",
      "Epoch 53, CIFAR-10 Batch 1:  Train Loss:   0.1522 Valid Loss:   1.4164 Valid Accuracy: 0.592400 \n",
      "Epoch 54, CIFAR-10 Batch 1:  Train Loss:   0.1384 Valid Loss:   1.3159 Valid Accuracy: 0.603200 \n",
      "Epoch 55, CIFAR-10 Batch 1:  Train Loss:   0.1081 Valid Loss:   1.3019 Valid Accuracy: 0.612000 \n",
      "Epoch 56, CIFAR-10 Batch 1:  Train Loss:   0.1040 Valid Loss:   1.2723 Valid Accuracy: 0.619600 \n",
      "Epoch 57, CIFAR-10 Batch 1:  Train Loss:   0.1116 Valid Loss:   1.3717 Valid Accuracy: 0.599000 \n",
      "Epoch 58, CIFAR-10 Batch 1:  Train Loss:   0.0969 Valid Loss:   1.3553 Valid Accuracy: 0.601600 \n",
      "Epoch 59, CIFAR-10 Batch 1:  Train Loss:   0.1056 Valid Loss:   1.3804 Valid Accuracy: 0.598000 \n",
      "Epoch 60, CIFAR-10 Batch 1:  Train Loss:   0.0695 Valid Loss:   1.3705 Valid Accuracy: 0.608400 \n"
     ]
    }
   ],
   "source": [
    "\"\"\"\n",
    "DON'T MODIFY ANYTHING IN THIS CELL\n",
    "\"\"\"\n",
    "print('Checking the Training on a Single Batch...')\n",
    "with tf.Session() as sess:\n",
    "    # Initializing the variables\n",
    "    sess.run(tf.global_variables_initializer())\n",
    "    \n",
    "    # Training cycle\n",
    "    for epoch in range(epochs):\n",
    "        batch_i = 1\n",
    "        for batch_features, batch_labels in helper.load_preprocess_training_batch(batch_i, batch_size):\n",
    "            train_neural_network(sess, optimizer, keep_probability, batch_features, batch_labels)\n",
    "        print('Epoch {:>2}, CIFAR-10 Batch {}:  '.format(epoch + 1, batch_i), end='')\n",
    "        print_stats(sess, batch_features, batch_labels, cost, accuracy)"
   ]
  },
  {
   "cell_type": "markdown",
   "metadata": {},
   "source": [
    "### Fully Train the Model\n",
    "Now that you got a good accuracy with a single CIFAR-10 batch, try it with all five batches."
   ]
  },
  {
   "cell_type": "code",
   "execution_count": 51,
   "metadata": {
    "collapsed": false
   },
   "outputs": [
    {
     "name": "stdout",
     "output_type": "stream",
     "text": [
      "Training...\n",
      "Epoch  1, CIFAR-10 Batch 1:  Train Loss:   2.2910 Valid Loss:   2.2560 Valid Accuracy: 0.206400 \n",
      "Epoch  1, CIFAR-10 Batch 2:  Train Loss:   2.1662 Valid Loss:   2.1474 Valid Accuracy: 0.217200 \n",
      "Epoch  1, CIFAR-10 Batch 3:  Train Loss:   1.8864 Valid Loss:   1.8853 Valid Accuracy: 0.303200 \n",
      "Epoch  1, CIFAR-10 Batch 4:  Train Loss:   1.7155 Valid Loss:   1.7524 Valid Accuracy: 0.359800 \n",
      "Epoch  1, CIFAR-10 Batch 5:  Train Loss:   1.6372 Valid Loss:   1.6484 Valid Accuracy: 0.393200 \n",
      "Epoch  2, CIFAR-10 Batch 1:  Train Loss:   1.6834 Valid Loss:   1.5542 Valid Accuracy: 0.427800 \n",
      "Epoch  2, CIFAR-10 Batch 2:  Train Loss:   1.5780 Valid Loss:   1.5617 Valid Accuracy: 0.421600 \n",
      "Epoch  2, CIFAR-10 Batch 3:  Train Loss:   1.3753 Valid Loss:   1.4715 Valid Accuracy: 0.459000 \n",
      "Epoch  2, CIFAR-10 Batch 4:  Train Loss:   1.3991 Valid Loss:   1.4448 Valid Accuracy: 0.474400 \n",
      "Epoch  2, CIFAR-10 Batch 5:  Train Loss:   1.3607 Valid Loss:   1.4234 Valid Accuracy: 0.469200 \n",
      "Epoch  3, CIFAR-10 Batch 1:  Train Loss:   1.4638 Valid Loss:   1.3689 Valid Accuracy: 0.504800 \n",
      "Epoch  3, CIFAR-10 Batch 2:  Train Loss:   1.3608 Valid Loss:   1.3644 Valid Accuracy: 0.498000 \n",
      "Epoch  3, CIFAR-10 Batch 3:  Train Loss:   1.1874 Valid Loss:   1.3282 Valid Accuracy: 0.508200 \n",
      "Epoch  3, CIFAR-10 Batch 4:  Train Loss:   1.2250 Valid Loss:   1.3101 Valid Accuracy: 0.526600 \n",
      "Epoch  3, CIFAR-10 Batch 5:  Train Loss:   1.2145 Valid Loss:   1.3046 Valid Accuracy: 0.518600 \n",
      "Epoch  4, CIFAR-10 Batch 1:  Train Loss:   1.3279 Valid Loss:   1.2970 Valid Accuracy: 0.526400 \n",
      "Epoch  4, CIFAR-10 Batch 2:  Train Loss:   1.2506 Valid Loss:   1.2885 Valid Accuracy: 0.532200 \n",
      "Epoch  4, CIFAR-10 Batch 3:  Train Loss:   1.0860 Valid Loss:   1.2467 Valid Accuracy: 0.550200 \n",
      "Epoch  4, CIFAR-10 Batch 4:  Train Loss:   1.1220 Valid Loss:   1.2363 Valid Accuracy: 0.555400 \n",
      "Epoch  4, CIFAR-10 Batch 5:  Train Loss:   1.1118 Valid Loss:   1.2282 Valid Accuracy: 0.546400 \n",
      "Epoch  5, CIFAR-10 Batch 1:  Train Loss:   1.2255 Valid Loss:   1.2208 Valid Accuracy: 0.556200 \n",
      "Epoch  5, CIFAR-10 Batch 2:  Train Loss:   1.1572 Valid Loss:   1.2368 Valid Accuracy: 0.548800 \n",
      "Epoch  5, CIFAR-10 Batch 3:  Train Loss:   1.0090 Valid Loss:   1.1941 Valid Accuracy: 0.571200 \n",
      "Epoch  5, CIFAR-10 Batch 4:  Train Loss:   1.0339 Valid Loss:   1.1908 Valid Accuracy: 0.568200 \n",
      "Epoch  5, CIFAR-10 Batch 5:  Train Loss:   1.0428 Valid Loss:   1.1781 Valid Accuracy: 0.569000 \n",
      "Epoch  6, CIFAR-10 Batch 1:  Train Loss:   1.1522 Valid Loss:   1.1506 Valid Accuracy: 0.579600 \n",
      "Epoch  6, CIFAR-10 Batch 2:  Train Loss:   1.0879 Valid Loss:   1.1771 Valid Accuracy: 0.566600 \n",
      "Epoch  6, CIFAR-10 Batch 3:  Train Loss:   0.9295 Valid Loss:   1.1494 Valid Accuracy: 0.588800 \n",
      "Epoch  6, CIFAR-10 Batch 4:  Train Loss:   0.9401 Valid Loss:   1.1422 Valid Accuracy: 0.590000 \n",
      "Epoch  6, CIFAR-10 Batch 5:  Train Loss:   0.9683 Valid Loss:   1.1146 Valid Accuracy: 0.596800 \n",
      "Epoch  7, CIFAR-10 Batch 1:  Train Loss:   1.0624 Valid Loss:   1.0875 Valid Accuracy: 0.615600 \n",
      "Epoch  7, CIFAR-10 Batch 2:  Train Loss:   0.9898 Valid Loss:   1.1086 Valid Accuracy: 0.597600 \n",
      "Epoch  7, CIFAR-10 Batch 3:  Train Loss:   0.8837 Valid Loss:   1.1211 Valid Accuracy: 0.600800 \n",
      "Epoch  7, CIFAR-10 Batch 4:  Train Loss:   0.8435 Valid Loss:   1.0873 Valid Accuracy: 0.615800 \n",
      "Epoch  7, CIFAR-10 Batch 5:  Train Loss:   0.8921 Valid Loss:   1.0724 Valid Accuracy: 0.615600 \n",
      "Epoch  8, CIFAR-10 Batch 1:  Train Loss:   0.9907 Valid Loss:   1.0703 Valid Accuracy: 0.608600 \n",
      "Epoch  8, CIFAR-10 Batch 2:  Train Loss:   0.9315 Valid Loss:   1.0737 Valid Accuracy: 0.613000 \n",
      "Epoch  8, CIFAR-10 Batch 3:  Train Loss:   0.8062 Valid Loss:   1.0745 Valid Accuracy: 0.619600 \n",
      "Epoch  8, CIFAR-10 Batch 4:  Train Loss:   0.7876 Valid Loss:   1.0546 Valid Accuracy: 0.621000 \n",
      "Epoch  8, CIFAR-10 Batch 5:  Train Loss:   0.8343 Valid Loss:   1.0288 Valid Accuracy: 0.627000 \n",
      "Epoch  9, CIFAR-10 Batch 1:  Train Loss:   0.9218 Valid Loss:   1.0196 Valid Accuracy: 0.627600 \n",
      "Epoch  9, CIFAR-10 Batch 2:  Train Loss:   0.8637 Valid Loss:   1.0250 Valid Accuracy: 0.633400 \n",
      "Epoch  9, CIFAR-10 Batch 3:  Train Loss:   0.7396 Valid Loss:   1.0320 Valid Accuracy: 0.628800 \n",
      "Epoch  9, CIFAR-10 Batch 4:  Train Loss:   0.7115 Valid Loss:   1.0090 Valid Accuracy: 0.643000 \n",
      "Epoch  9, CIFAR-10 Batch 5:  Train Loss:   0.7651 Valid Loss:   0.9937 Valid Accuracy: 0.645800 \n",
      "Epoch 10, CIFAR-10 Batch 1:  Train Loss:   0.8799 Valid Loss:   1.0175 Valid Accuracy: 0.631200 \n",
      "Epoch 10, CIFAR-10 Batch 2:  Train Loss:   0.8024 Valid Loss:   1.0165 Valid Accuracy: 0.635000 \n",
      "Epoch 10, CIFAR-10 Batch 3:  Train Loss:   0.7049 Valid Loss:   1.0030 Valid Accuracy: 0.638200 \n",
      "Epoch 10, CIFAR-10 Batch 4:  Train Loss:   0.6897 Valid Loss:   0.9915 Valid Accuracy: 0.646000 \n",
      "Epoch 10, CIFAR-10 Batch 5:  Train Loss:   0.7111 Valid Loss:   0.9691 Valid Accuracy: 0.656000 \n",
      "Epoch 11, CIFAR-10 Batch 1:  Train Loss:   0.8037 Valid Loss:   0.9648 Valid Accuracy: 0.653000 \n",
      "Epoch 11, CIFAR-10 Batch 2:  Train Loss:   0.7616 Valid Loss:   0.9832 Valid Accuracy: 0.643000 \n",
      "Epoch 11, CIFAR-10 Batch 3:  Train Loss:   0.6575 Valid Loss:   0.9918 Valid Accuracy: 0.649200 \n",
      "Epoch 11, CIFAR-10 Batch 4:  Train Loss:   0.6264 Valid Loss:   0.9615 Valid Accuracy: 0.655400 \n",
      "Epoch 11, CIFAR-10 Batch 5:  Train Loss:   0.6763 Valid Loss:   0.9554 Valid Accuracy: 0.656600 \n",
      "Epoch 12, CIFAR-10 Batch 1:  Train Loss:   0.7463 Valid Loss:   0.9519 Valid Accuracy: 0.658000 \n",
      "Epoch 12, CIFAR-10 Batch 2:  Train Loss:   0.7089 Valid Loss:   0.9669 Valid Accuracy: 0.652600 \n",
      "Epoch 12, CIFAR-10 Batch 3:  Train Loss:   0.5799 Valid Loss:   0.9404 Valid Accuracy: 0.667800 \n",
      "Epoch 12, CIFAR-10 Batch 4:  Train Loss:   0.5892 Valid Loss:   0.9579 Valid Accuracy: 0.662800 \n",
      "Epoch 12, CIFAR-10 Batch 5:  Train Loss:   0.6630 Valid Loss:   0.9563 Valid Accuracy: 0.659600 \n",
      "Epoch 13, CIFAR-10 Batch 1:  Train Loss:   0.6965 Valid Loss:   0.9275 Valid Accuracy: 0.671000 \n",
      "Epoch 13, CIFAR-10 Batch 2:  Train Loss:   0.6302 Valid Loss:   0.9221 Valid Accuracy: 0.669400 \n",
      "Epoch 13, CIFAR-10 Batch 3:  Train Loss:   0.6110 Valid Loss:   0.9691 Valid Accuracy: 0.663200 \n",
      "Epoch 13, CIFAR-10 Batch 4:  Train Loss:   0.5532 Valid Loss:   0.9263 Valid Accuracy: 0.671200 \n",
      "Epoch 13, CIFAR-10 Batch 5:  Train Loss:   0.6174 Valid Loss:   0.9383 Valid Accuracy: 0.665800 \n",
      "Epoch 14, CIFAR-10 Batch 1:  Train Loss:   0.6613 Valid Loss:   0.9203 Valid Accuracy: 0.670600 \n",
      "Epoch 14, CIFAR-10 Batch 2:  Train Loss:   0.6176 Valid Loss:   0.9288 Valid Accuracy: 0.667200 \n",
      "Epoch 14, CIFAR-10 Batch 3:  Train Loss:   0.5753 Valid Loss:   0.9775 Valid Accuracy: 0.652600 \n",
      "Epoch 14, CIFAR-10 Batch 4:  Train Loss:   0.5340 Valid Loss:   0.9288 Valid Accuracy: 0.672600 \n",
      "Epoch 14, CIFAR-10 Batch 5:  Train Loss:   0.5553 Valid Loss:   0.8934 Valid Accuracy: 0.684400 \n",
      "Epoch 15, CIFAR-10 Batch 1:  Train Loss:   0.6222 Valid Loss:   0.9049 Valid Accuracy: 0.681600 \n",
      "Epoch 15, CIFAR-10 Batch 2:  Train Loss:   0.5614 Valid Loss:   0.9048 Valid Accuracy: 0.676800 \n",
      "Epoch 15, CIFAR-10 Batch 3:  Train Loss:   0.5003 Valid Loss:   0.9213 Valid Accuracy: 0.677600 \n",
      "Epoch 15, CIFAR-10 Batch 4:  Train Loss:   0.4898 Valid Loss:   0.8947 Valid Accuracy: 0.680800 \n",
      "Epoch 15, CIFAR-10 Batch 5:  Train Loss:   0.5453 Valid Loss:   0.9018 Valid Accuracy: 0.676200 \n",
      "Epoch 16, CIFAR-10 Batch 1:  Train Loss:   0.5916 Valid Loss:   0.8921 Valid Accuracy: 0.686800 \n",
      "Epoch 16, CIFAR-10 Batch 2:  Train Loss:   0.6047 Valid Loss:   1.0219 Valid Accuracy: 0.639600 \n",
      "Epoch 16, CIFAR-10 Batch 3:  Train Loss:   0.4735 Valid Loss:   0.8952 Valid Accuracy: 0.680400 \n",
      "Epoch 16, CIFAR-10 Batch 4:  Train Loss:   0.4899 Valid Loss:   0.8945 Valid Accuracy: 0.681000 \n",
      "Epoch 16, CIFAR-10 Batch 5:  Train Loss:   0.5248 Valid Loss:   0.8904 Valid Accuracy: 0.684800 \n",
      "Epoch 17, CIFAR-10 Batch 1:  Train Loss:   0.5638 Valid Loss:   0.8910 Valid Accuracy: 0.688400 \n",
      "Epoch 17, CIFAR-10 Batch 2:  Train Loss:   0.5027 Valid Loss:   0.9049 Valid Accuracy: 0.680000 \n",
      "Epoch 17, CIFAR-10 Batch 3:  Train Loss:   0.4282 Valid Loss:   0.9006 Valid Accuracy: 0.686800 \n",
      "Epoch 17, CIFAR-10 Batch 4:  Train Loss:   0.4610 Valid Loss:   0.9008 Valid Accuracy: 0.684600 \n",
      "Epoch 17, CIFAR-10 Batch 5:  Train Loss:   0.4739 Valid Loss:   0.8765 Valid Accuracy: 0.691000 \n",
      "Epoch 18, CIFAR-10 Batch 1:  Train Loss:   0.5040 Valid Loss:   0.8506 Valid Accuracy: 0.703800 \n",
      "Epoch 18, CIFAR-10 Batch 2:  Train Loss:   0.4734 Valid Loss:   0.9228 Valid Accuracy: 0.673800 \n",
      "Epoch 18, CIFAR-10 Batch 3:  Train Loss:   0.3927 Valid Loss:   0.8701 Valid Accuracy: 0.693800 \n",
      "Epoch 18, CIFAR-10 Batch 4:  Train Loss:   0.4380 Valid Loss:   0.8974 Valid Accuracy: 0.685400 \n",
      "Epoch 18, CIFAR-10 Batch 5:  Train Loss:   0.4463 Valid Loss:   0.8774 Valid Accuracy: 0.690600 \n",
      "Epoch 19, CIFAR-10 Batch 1:  Train Loss:   0.4870 Valid Loss:   0.8649 Valid Accuracy: 0.704800 \n",
      "Epoch 19, CIFAR-10 Batch 2:  Train Loss:   0.4404 Valid Loss:   0.9118 Valid Accuracy: 0.685000 \n",
      "Epoch 19, CIFAR-10 Batch 3:  Train Loss:   0.3430 Valid Loss:   0.8637 Valid Accuracy: 0.696800 \n",
      "Epoch 19, CIFAR-10 Batch 4:  Train Loss:   0.4174 Valid Loss:   0.9199 Valid Accuracy: 0.684800 \n",
      "Epoch 19, CIFAR-10 Batch 5:  Train Loss:   0.4162 Valid Loss:   0.8820 Valid Accuracy: 0.692800 \n",
      "Epoch 20, CIFAR-10 Batch 1:  Train Loss:   0.4589 Valid Loss:   0.8545 Valid Accuracy: 0.704200 \n",
      "Epoch 20, CIFAR-10 Batch 2:  Train Loss:   0.3933 Valid Loss:   0.8789 Valid Accuracy: 0.696200 \n",
      "Epoch 20, CIFAR-10 Batch 3:  Train Loss:   0.3204 Valid Loss:   0.8481 Valid Accuracy: 0.702000 \n",
      "Epoch 20, CIFAR-10 Batch 4:  Train Loss:   0.3727 Valid Loss:   0.8970 Valid Accuracy: 0.682200 \n",
      "Epoch 20, CIFAR-10 Batch 5:  Train Loss:   0.3990 Valid Loss:   0.8568 Valid Accuracy: 0.699400 \n",
      "Epoch 21, CIFAR-10 Batch 1:  Train Loss:   0.4067 Valid Loss:   0.8641 Valid Accuracy: 0.696600 \n",
      "Epoch 21, CIFAR-10 Batch 2:  Train Loss:   0.3860 Valid Loss:   0.8850 Valid Accuracy: 0.691600 \n",
      "Epoch 21, CIFAR-10 Batch 3:  Train Loss:   0.3391 Valid Loss:   0.8967 Valid Accuracy: 0.687800 \n",
      "Epoch 21, CIFAR-10 Batch 4:  Train Loss:   0.3228 Valid Loss:   0.8377 Valid Accuracy: 0.706600 \n",
      "Epoch 21, CIFAR-10 Batch 5:  Train Loss:   0.3402 Valid Loss:   0.8765 Valid Accuracy: 0.689200 \n",
      "Epoch 22, CIFAR-10 Batch 1:  Train Loss:   0.4340 Valid Loss:   0.8816 Valid Accuracy: 0.688600 \n",
      "Epoch 22, CIFAR-10 Batch 2:  Train Loss:   0.3705 Valid Loss:   0.8723 Valid Accuracy: 0.693200 \n",
      "Epoch 22, CIFAR-10 Batch 3:  Train Loss:   0.2992 Valid Loss:   0.9046 Valid Accuracy: 0.688600 \n",
      "Epoch 22, CIFAR-10 Batch 4:  Train Loss:   0.3717 Valid Loss:   0.8835 Valid Accuracy: 0.686200 \n",
      "Epoch 22, CIFAR-10 Batch 5:  Train Loss:   0.3347 Valid Loss:   0.8569 Valid Accuracy: 0.700800 \n",
      "Epoch 23, CIFAR-10 Batch 1:  Train Loss:   0.4094 Valid Loss:   0.8867 Valid Accuracy: 0.692200 \n",
      "Epoch 23, CIFAR-10 Batch 2:  Train Loss:   0.3358 Valid Loss:   0.8395 Valid Accuracy: 0.704000 \n",
      "Epoch 23, CIFAR-10 Batch 3:  Train Loss:   0.2685 Valid Loss:   0.8761 Valid Accuracy: 0.704800 \n",
      "Epoch 23, CIFAR-10 Batch 4:  Train Loss:   0.3170 Valid Loss:   0.8595 Valid Accuracy: 0.701000 \n",
      "Epoch 23, CIFAR-10 Batch 5:  Train Loss:   0.3040 Valid Loss:   0.8652 Valid Accuracy: 0.697200 \n",
      "Epoch 24, CIFAR-10 Batch 1:  Train Loss:   0.3280 Valid Loss:   0.8600 Valid Accuracy: 0.701200 \n",
      "Epoch 24, CIFAR-10 Batch 2:  Train Loss:   0.3056 Valid Loss:   0.8129 Valid Accuracy: 0.718000 \n",
      "Epoch 24, CIFAR-10 Batch 3:  Train Loss:   0.2490 Valid Loss:   0.8722 Valid Accuracy: 0.704800 \n",
      "Epoch 24, CIFAR-10 Batch 4:  Train Loss:   0.2766 Valid Loss:   0.8604 Valid Accuracy: 0.702200 \n",
      "Epoch 24, CIFAR-10 Batch 5:  Train Loss:   0.2838 Valid Loss:   0.8387 Valid Accuracy: 0.704400 \n",
      "Epoch 25, CIFAR-10 Batch 1:  Train Loss:   0.2920 Valid Loss:   0.8413 Valid Accuracy: 0.704000 \n",
      "Epoch 25, CIFAR-10 Batch 2:  Train Loss:   0.2976 Valid Loss:   0.8590 Valid Accuracy: 0.697000 \n",
      "Epoch 25, CIFAR-10 Batch 3:  Train Loss:   0.2248 Valid Loss:   0.8910 Valid Accuracy: 0.697800 \n",
      "Epoch 25, CIFAR-10 Batch 4:  Train Loss:   0.2817 Valid Loss:   0.8451 Valid Accuracy: 0.706600 \n",
      "Epoch 25, CIFAR-10 Batch 5:  Train Loss:   0.2601 Valid Loss:   0.8352 Valid Accuracy: 0.704400 \n",
      "Epoch 26, CIFAR-10 Batch 1:  Train Loss:   0.2931 Valid Loss:   0.8574 Valid Accuracy: 0.697600 \n",
      "Epoch 26, CIFAR-10 Batch 2:  Train Loss:   0.2627 Valid Loss:   0.8471 Valid Accuracy: 0.707200 \n",
      "Epoch 26, CIFAR-10 Batch 3:  Train Loss:   0.2120 Valid Loss:   0.8526 Valid Accuracy: 0.714000 \n",
      "Epoch 26, CIFAR-10 Batch 4:  Train Loss:   0.2931 Valid Loss:   0.9042 Valid Accuracy: 0.689200 \n",
      "Epoch 26, CIFAR-10 Batch 5:  Train Loss:   0.2277 Valid Loss:   0.8360 Valid Accuracy: 0.709800 \n",
      "Epoch 27, CIFAR-10 Batch 1:  Train Loss:   0.2729 Valid Loss:   0.8629 Valid Accuracy: 0.701200 \n",
      "Epoch 27, CIFAR-10 Batch 2:  Train Loss:   0.2389 Valid Loss:   0.8337 Valid Accuracy: 0.713200 \n",
      "Epoch 27, CIFAR-10 Batch 3:  Train Loss:   0.2060 Valid Loss:   0.9015 Valid Accuracy: 0.693000 \n",
      "Epoch 27, CIFAR-10 Batch 4:  Train Loss:   0.2725 Valid Loss:   0.8992 Valid Accuracy: 0.694400 \n",
      "Epoch 27, CIFAR-10 Batch 5:  Train Loss:   0.2635 Valid Loss:   0.8768 Valid Accuracy: 0.697000 \n",
      "Epoch 28, CIFAR-10 Batch 1:  Train Loss:   0.2482 Valid Loss:   0.8576 Valid Accuracy: 0.707600 \n",
      "Epoch 28, CIFAR-10 Batch 2:  Train Loss:   0.2693 Valid Loss:   0.9100 Valid Accuracy: 0.682800 \n",
      "Epoch 28, CIFAR-10 Batch 3:  Train Loss:   0.2180 Valid Loss:   0.9366 Valid Accuracy: 0.685800 \n",
      "Epoch 28, CIFAR-10 Batch 4:  Train Loss:   0.2387 Valid Loss:   0.8710 Valid Accuracy: 0.695600 \n",
      "Epoch 28, CIFAR-10 Batch 5:  Train Loss:   0.2894 Valid Loss:   0.9315 Valid Accuracy: 0.684800 \n",
      "Epoch 29, CIFAR-10 Batch 1:  Train Loss:   0.2585 Valid Loss:   0.8725 Valid Accuracy: 0.702000 \n",
      "Epoch 29, CIFAR-10 Batch 2:  Train Loss:   0.2414 Valid Loss:   0.8637 Valid Accuracy: 0.699800 \n",
      "Epoch 29, CIFAR-10 Batch 3:  Train Loss:   0.1861 Valid Loss:   0.8476 Valid Accuracy: 0.714400 \n",
      "Epoch 29, CIFAR-10 Batch 4:  Train Loss:   0.2123 Valid Loss:   0.8574 Valid Accuracy: 0.701000 \n",
      "Epoch 29, CIFAR-10 Batch 5:  Train Loss:   0.2253 Valid Loss:   0.8559 Valid Accuracy: 0.704600 \n",
      "Epoch 30, CIFAR-10 Batch 1:  Train Loss:   0.2172 Valid Loss:   0.8711 Valid Accuracy: 0.705800 \n",
      "Epoch 30, CIFAR-10 Batch 2:  Train Loss:   0.2211 Valid Loss:   0.8664 Valid Accuracy: 0.703400 \n",
      "Epoch 30, CIFAR-10 Batch 3:  Train Loss:   0.1864 Valid Loss:   0.9069 Valid Accuracy: 0.696200 \n",
      "Epoch 30, CIFAR-10 Batch 4:  Train Loss:   0.1886 Valid Loss:   0.8215 Valid Accuracy: 0.719400 \n",
      "Epoch 30, CIFAR-10 Batch 5:  Train Loss:   0.2129 Valid Loss:   0.8674 Valid Accuracy: 0.701400 \n",
      "Epoch 31, CIFAR-10 Batch 1:  Train Loss:   0.1855 Valid Loss:   0.8496 Valid Accuracy: 0.713800 \n",
      "Epoch 31, CIFAR-10 Batch 2:  Train Loss:   0.1924 Valid Loss:   0.8659 Valid Accuracy: 0.708200 \n",
      "Epoch 31, CIFAR-10 Batch 3:  Train Loss:   0.1883 Valid Loss:   0.9129 Valid Accuracy: 0.701000 \n",
      "Epoch 31, CIFAR-10 Batch 4:  Train Loss:   0.1906 Valid Loss:   0.8460 Valid Accuracy: 0.712800 \n",
      "Epoch 31, CIFAR-10 Batch 5:  Train Loss:   0.1736 Valid Loss:   0.8590 Valid Accuracy: 0.708200 \n",
      "Epoch 32, CIFAR-10 Batch 1:  Train Loss:   0.1922 Valid Loss:   0.8997 Valid Accuracy: 0.694800 \n",
      "Epoch 32, CIFAR-10 Batch 2:  Train Loss:   0.1515 Valid Loss:   0.8445 Valid Accuracy: 0.713200 \n",
      "Epoch 32, CIFAR-10 Batch 3:  Train Loss:   0.1466 Valid Loss:   0.9001 Valid Accuracy: 0.697800 \n",
      "Epoch 32, CIFAR-10 Batch 4:  Train Loss:   0.1722 Valid Loss:   0.8469 Valid Accuracy: 0.708200 \n",
      "Epoch 32, CIFAR-10 Batch 5:  Train Loss:   0.1705 Valid Loss:   0.8637 Valid Accuracy: 0.702400 \n",
      "Epoch 33, CIFAR-10 Batch 1:  Train Loss:   0.1803 Valid Loss:   0.9390 Valid Accuracy: 0.696000 \n",
      "Epoch 33, CIFAR-10 Batch 2:  Train Loss:   0.1545 Valid Loss:   0.9211 Valid Accuracy: 0.697800 \n",
      "Epoch 33, CIFAR-10 Batch 3:  Train Loss:   0.1419 Valid Loss:   0.8973 Valid Accuracy: 0.710200 \n",
      "Epoch 33, CIFAR-10 Batch 4:  Train Loss:   0.1992 Valid Loss:   0.8937 Valid Accuracy: 0.696400 \n",
      "Epoch 33, CIFAR-10 Batch 5:  Train Loss:   0.2057 Valid Loss:   0.9271 Valid Accuracy: 0.683000 \n",
      "Epoch 34, CIFAR-10 Batch 1:  Train Loss:   0.1554 Valid Loss:   0.8918 Valid Accuracy: 0.714400 \n",
      "Epoch 34, CIFAR-10 Batch 2:  Train Loss:   0.1199 Valid Loss:   0.8427 Valid Accuracy: 0.719200 \n",
      "Epoch 34, CIFAR-10 Batch 3:  Train Loss:   0.1164 Valid Loss:   0.8833 Valid Accuracy: 0.712200 \n",
      "Epoch 34, CIFAR-10 Batch 4:  Train Loss:   0.1406 Valid Loss:   0.8926 Valid Accuracy: 0.703000 \n",
      "Epoch 34, CIFAR-10 Batch 5:  Train Loss:   0.1613 Valid Loss:   0.9171 Valid Accuracy: 0.690400 \n",
      "Epoch 35, CIFAR-10 Batch 1:  Train Loss:   0.1670 Valid Loss:   0.9421 Valid Accuracy: 0.693800 \n",
      "Epoch 35, CIFAR-10 Batch 2:  Train Loss:   0.1409 Valid Loss:   0.8703 Valid Accuracy: 0.714000 \n",
      "Epoch 35, CIFAR-10 Batch 3:  Train Loss:   0.1169 Valid Loss:   0.8973 Valid Accuracy: 0.704600 \n",
      "Epoch 35, CIFAR-10 Batch 4:  Train Loss:   0.1628 Valid Loss:   0.9623 Valid Accuracy: 0.679600 \n",
      "Epoch 35, CIFAR-10 Batch 5:  Train Loss:   0.1545 Valid Loss:   0.8907 Valid Accuracy: 0.702000 \n",
      "Epoch 36, CIFAR-10 Batch 1:  Train Loss:   0.1270 Valid Loss:   0.8969 Valid Accuracy: 0.711400 \n",
      "Epoch 36, CIFAR-10 Batch 2:  Train Loss:   0.1415 Valid Loss:   0.8580 Valid Accuracy: 0.712800 \n",
      "Epoch 36, CIFAR-10 Batch 3:  Train Loss:   0.1122 Valid Loss:   0.9166 Valid Accuracy: 0.695400 \n",
      "Epoch 36, CIFAR-10 Batch 4:  Train Loss:   0.1537 Valid Loss:   0.9360 Valid Accuracy: 0.696200 \n",
      "Epoch 36, CIFAR-10 Batch 5:  Train Loss:   0.1400 Valid Loss:   0.9065 Valid Accuracy: 0.694600 \n",
      "Epoch 37, CIFAR-10 Batch 1:  Train Loss:   0.1250 Valid Loss:   0.8914 Valid Accuracy: 0.704800 \n",
      "Epoch 37, CIFAR-10 Batch 2:  Train Loss:   0.1305 Valid Loss:   0.8841 Valid Accuracy: 0.706800 \n",
      "Epoch 37, CIFAR-10 Batch 3:  Train Loss:   0.1035 Valid Loss:   0.8932 Valid Accuracy: 0.712800 \n",
      "Epoch 37, CIFAR-10 Batch 4:  Train Loss:   0.1586 Valid Loss:   0.9528 Valid Accuracy: 0.687000 \n",
      "Epoch 37, CIFAR-10 Batch 5:  Train Loss:   0.1315 Valid Loss:   0.9088 Valid Accuracy: 0.695600 \n",
      "Epoch 38, CIFAR-10 Batch 1:  Train Loss:   0.1137 Valid Loss:   0.8616 Valid Accuracy: 0.717600 \n",
      "Epoch 38, CIFAR-10 Batch 2:  Train Loss:   0.1151 Valid Loss:   0.8627 Valid Accuracy: 0.712800 \n",
      "Epoch 38, CIFAR-10 Batch 3:  Train Loss:   0.0921 Valid Loss:   0.8952 Valid Accuracy: 0.711400 \n",
      "Epoch 38, CIFAR-10 Batch 4:  Train Loss:   0.1011 Valid Loss:   0.9004 Valid Accuracy: 0.706600 \n",
      "Epoch 38, CIFAR-10 Batch 5:  Train Loss:   0.1071 Valid Loss:   0.8695 Valid Accuracy: 0.715800 \n",
      "Epoch 39, CIFAR-10 Batch 1:  Train Loss:   0.1041 Valid Loss:   0.8642 Valid Accuracy: 0.721000 \n",
      "Epoch 39, CIFAR-10 Batch 2:  Train Loss:   0.0934 Valid Loss:   0.8736 Valid Accuracy: 0.718400 \n",
      "Epoch 39, CIFAR-10 Batch 3:  Train Loss:   0.0859 Valid Loss:   0.8999 Valid Accuracy: 0.715000 \n",
      "Epoch 39, CIFAR-10 Batch 4:  Train Loss:   0.0862 Valid Loss:   0.8923 Valid Accuracy: 0.711400 \n",
      "Epoch 39, CIFAR-10 Batch 5:  Train Loss:   0.0993 Valid Loss:   0.8678 Valid Accuracy: 0.713600 \n",
      "Epoch 40, CIFAR-10 Batch 1:  Train Loss:   0.0944 Valid Loss:   0.8757 Valid Accuracy: 0.720800 \n",
      "Epoch 40, CIFAR-10 Batch 2:  Train Loss:   0.1120 Valid Loss:   0.8837 Valid Accuracy: 0.707000 \n",
      "Epoch 40, CIFAR-10 Batch 3:  Train Loss:   0.0917 Valid Loss:   0.8820 Valid Accuracy: 0.721200 \n",
      "Epoch 40, CIFAR-10 Batch 4:  Train Loss:   0.0927 Valid Loss:   0.8917 Valid Accuracy: 0.707000 \n",
      "Epoch 40, CIFAR-10 Batch 5:  Train Loss:   0.1076 Valid Loss:   0.9215 Valid Accuracy: 0.701200 \n",
      "Epoch 41, CIFAR-10 Batch 1:  Train Loss:   0.0982 Valid Loss:   0.8870 Valid Accuracy: 0.712200 \n",
      "Epoch 41, CIFAR-10 Batch 2:  Train Loss:   0.0991 Valid Loss:   0.8618 Valid Accuracy: 0.711600 \n",
      "Epoch 41, CIFAR-10 Batch 3:  Train Loss:   0.0938 Valid Loss:   0.9481 Valid Accuracy: 0.704600 \n",
      "Epoch 41, CIFAR-10 Batch 4:  Train Loss:   0.0823 Valid Loss:   0.9132 Valid Accuracy: 0.702800 \n",
      "Epoch 41, CIFAR-10 Batch 5:  Train Loss:   0.0957 Valid Loss:   0.9218 Valid Accuracy: 0.705400 \n",
      "Epoch 42, CIFAR-10 Batch 1:  Train Loss:   0.0688 Valid Loss:   0.9103 Valid Accuracy: 0.712000 \n",
      "Epoch 42, CIFAR-10 Batch 2:  Train Loss:   0.0991 Valid Loss:   0.8788 Valid Accuracy: 0.712000 \n",
      "Epoch 42, CIFAR-10 Batch 3:  Train Loss:   0.0933 Valid Loss:   0.9226 Valid Accuracy: 0.706200 \n",
      "Epoch 42, CIFAR-10 Batch 4:  Train Loss:   0.0755 Valid Loss:   0.9041 Valid Accuracy: 0.706400 \n",
      "Epoch 42, CIFAR-10 Batch 5:  Train Loss:   0.0709 Valid Loss:   0.8663 Valid Accuracy: 0.719000 \n",
      "Epoch 43, CIFAR-10 Batch 1:  Train Loss:   0.0819 Valid Loss:   0.9295 Valid Accuracy: 0.710800 \n",
      "Epoch 43, CIFAR-10 Batch 2:  Train Loss:   0.0824 Valid Loss:   0.8970 Valid Accuracy: 0.711400 \n",
      "Epoch 43, CIFAR-10 Batch 3:  Train Loss:   0.0938 Valid Loss:   0.9887 Valid Accuracy: 0.698800 \n",
      "Epoch 43, CIFAR-10 Batch 4:  Train Loss:   0.0679 Valid Loss:   0.9095 Valid Accuracy: 0.708200 \n",
      "Epoch 43, CIFAR-10 Batch 5:  Train Loss:   0.0611 Valid Loss:   0.8666 Valid Accuracy: 0.720400 \n",
      "Epoch 44, CIFAR-10 Batch 1:  Train Loss:   0.0603 Valid Loss:   0.9372 Valid Accuracy: 0.718800 \n",
      "Epoch 44, CIFAR-10 Batch 2:  Train Loss:   0.0643 Valid Loss:   0.9021 Valid Accuracy: 0.713800 \n",
      "Epoch 44, CIFAR-10 Batch 3:  Train Loss:   0.0707 Valid Loss:   0.9266 Valid Accuracy: 0.714000 \n",
      "Epoch 44, CIFAR-10 Batch 4:  Train Loss:   0.0666 Valid Loss:   0.9121 Valid Accuracy: 0.705200 \n",
      "Epoch 44, CIFAR-10 Batch 5:  Train Loss:   0.0653 Valid Loss:   0.8820 Valid Accuracy: 0.721600 \n",
      "Epoch 45, CIFAR-10 Batch 1:  Train Loss:   0.0605 Valid Loss:   0.9377 Valid Accuracy: 0.715200 \n",
      "Epoch 45, CIFAR-10 Batch 2:  Train Loss:   0.0559 Valid Loss:   0.8820 Valid Accuracy: 0.713200 \n",
      "Epoch 45, CIFAR-10 Batch 3:  Train Loss:   0.0571 Valid Loss:   0.8736 Valid Accuracy: 0.720000 \n",
      "Epoch 45, CIFAR-10 Batch 4:  Train Loss:   0.0588 Valid Loss:   0.9382 Valid Accuracy: 0.704600 \n",
      "Epoch 45, CIFAR-10 Batch 5:  Train Loss:   0.0615 Valid Loss:   0.8963 Valid Accuracy: 0.723000 \n",
      "Epoch 46, CIFAR-10 Batch 1:  Train Loss:   0.0502 Valid Loss:   0.9369 Valid Accuracy: 0.718000 \n",
      "Epoch 46, CIFAR-10 Batch 2:  Train Loss:   0.0419 Valid Loss:   0.8943 Valid Accuracy: 0.725600 \n",
      "Epoch 46, CIFAR-10 Batch 3:  Train Loss:   0.0520 Valid Loss:   0.9133 Valid Accuracy: 0.717000 \n",
      "Epoch 46, CIFAR-10 Batch 4:  Train Loss:   0.0497 Valid Loss:   0.9558 Valid Accuracy: 0.706000 \n",
      "Epoch 46, CIFAR-10 Batch 5:  Train Loss:   0.0560 Valid Loss:   0.9129 Valid Accuracy: 0.711000 \n",
      "Epoch 47, CIFAR-10 Batch 1:  Train Loss:   0.0503 Valid Loss:   0.9535 Valid Accuracy: 0.718400 \n",
      "Epoch 47, CIFAR-10 Batch 2:  Train Loss:   0.0389 Valid Loss:   0.8695 Valid Accuracy: 0.721800 \n",
      "Epoch 47, CIFAR-10 Batch 3:  Train Loss:   0.0488 Valid Loss:   0.9828 Valid Accuracy: 0.703400 \n",
      "Epoch 47, CIFAR-10 Batch 4:  Train Loss:   0.0500 Valid Loss:   0.9578 Valid Accuracy: 0.704200 \n",
      "Epoch 47, CIFAR-10 Batch 5:  Train Loss:   0.0371 Valid Loss:   0.9114 Valid Accuracy: 0.720400 \n",
      "Epoch 48, CIFAR-10 Batch 1:  Train Loss:   0.0451 Valid Loss:   0.9574 Valid Accuracy: 0.714000 \n",
      "Epoch 48, CIFAR-10 Batch 2:  Train Loss:   0.0394 Valid Loss:   0.8753 Valid Accuracy: 0.722600 \n",
      "Epoch 48, CIFAR-10 Batch 3:  Train Loss:   0.0571 Valid Loss:   0.9917 Valid Accuracy: 0.701200 \n",
      "Epoch 48, CIFAR-10 Batch 4:  Train Loss:   0.0507 Valid Loss:   0.9347 Valid Accuracy: 0.708800 \n",
      "Epoch 48, CIFAR-10 Batch 5:  Train Loss:   0.0598 Valid Loss:   0.9411 Valid Accuracy: 0.708800 \n",
      "Epoch 49, CIFAR-10 Batch 1:  Train Loss:   0.0455 Valid Loss:   0.9458 Valid Accuracy: 0.716800 \n",
      "Epoch 49, CIFAR-10 Batch 2:  Train Loss:   0.0606 Valid Loss:   0.8934 Valid Accuracy: 0.719000 \n",
      "Epoch 49, CIFAR-10 Batch 3:  Train Loss:   0.0323 Valid Loss:   0.9300 Valid Accuracy: 0.714600 \n",
      "Epoch 49, CIFAR-10 Batch 4:  Train Loss:   0.0498 Valid Loss:   0.9313 Valid Accuracy: 0.707400 \n",
      "Epoch 49, CIFAR-10 Batch 5:  Train Loss:   0.0567 Valid Loss:   0.9455 Valid Accuracy: 0.708800 \n",
      "Epoch 50, CIFAR-10 Batch 1:  Train Loss:   0.0376 Valid Loss:   0.9379 Valid Accuracy: 0.720000 \n",
      "Epoch 50, CIFAR-10 Batch 2:  Train Loss:   0.0461 Valid Loss:   0.9164 Valid Accuracy: 0.719000 \n",
      "Epoch 50, CIFAR-10 Batch 3:  Train Loss:   0.0420 Valid Loss:   0.9643 Valid Accuracy: 0.711600 \n",
      "Epoch 50, CIFAR-10 Batch 4:  Train Loss:   0.0395 Valid Loss:   0.9237 Valid Accuracy: 0.716600 \n",
      "Epoch 50, CIFAR-10 Batch 5:  Train Loss:   0.0443 Valid Loss:   0.9560 Valid Accuracy: 0.714200 \n",
      "Epoch 51, CIFAR-10 Batch 1:  Train Loss:   0.0311 Valid Loss:   0.9589 Valid Accuracy: 0.716600 \n",
      "Epoch 51, CIFAR-10 Batch 2:  Train Loss:   0.0377 Valid Loss:   0.9156 Valid Accuracy: 0.719800 \n",
      "Epoch 51, CIFAR-10 Batch 3:  Train Loss:   0.0276 Valid Loss:   0.9606 Valid Accuracy: 0.718600 \n",
      "Epoch 51, CIFAR-10 Batch 4:  Train Loss:   0.0279 Valid Loss:   0.8938 Valid Accuracy: 0.722200 \n",
      "Epoch 51, CIFAR-10 Batch 5:  Train Loss:   0.0411 Valid Loss:   0.9662 Valid Accuracy: 0.711000 \n",
      "Epoch 52, CIFAR-10 Batch 1:  Train Loss:   0.0315 Valid Loss:   1.0002 Valid Accuracy: 0.712600 \n",
      "Epoch 52, CIFAR-10 Batch 2:  Train Loss:   0.0461 Valid Loss:   0.9560 Valid Accuracy: 0.710400 \n",
      "Epoch 52, CIFAR-10 Batch 3:  Train Loss:   0.0289 Valid Loss:   0.9849 Valid Accuracy: 0.711800 \n",
      "Epoch 52, CIFAR-10 Batch 4:  Train Loss:   0.0265 Valid Loss:   0.9350 Valid Accuracy: 0.725800 \n",
      "Epoch 52, CIFAR-10 Batch 5:  Train Loss:   0.0314 Valid Loss:   0.9435 Valid Accuracy: 0.714200 \n",
      "Epoch 53, CIFAR-10 Batch 1:  Train Loss:   0.0380 Valid Loss:   1.0111 Valid Accuracy: 0.710000 \n",
      "Epoch 53, CIFAR-10 Batch 2:  Train Loss:   0.0312 Valid Loss:   0.9361 Valid Accuracy: 0.715600 \n",
      "Epoch 53, CIFAR-10 Batch 3:  Train Loss:   0.0328 Valid Loss:   0.9803 Valid Accuracy: 0.712000 \n",
      "Epoch 53, CIFAR-10 Batch 4:  Train Loss:   0.0195 Valid Loss:   0.9328 Valid Accuracy: 0.723200 \n",
      "Epoch 53, CIFAR-10 Batch 5:  Train Loss:   0.0250 Valid Loss:   0.9509 Valid Accuracy: 0.720600 \n",
      "Epoch 54, CIFAR-10 Batch 1:  Train Loss:   0.0409 Valid Loss:   1.0529 Valid Accuracy: 0.710600 \n",
      "Epoch 54, CIFAR-10 Batch 2:  Train Loss:   0.0354 Valid Loss:   0.9371 Valid Accuracy: 0.715600 \n",
      "Epoch 54, CIFAR-10 Batch 3:  Train Loss:   0.0228 Valid Loss:   1.0089 Valid Accuracy: 0.718400 \n",
      "Epoch 54, CIFAR-10 Batch 4:  Train Loss:   0.0205 Valid Loss:   0.9342 Valid Accuracy: 0.729600 \n",
      "Epoch 54, CIFAR-10 Batch 5:  Train Loss:   0.0233 Valid Loss:   0.9428 Valid Accuracy: 0.719400 \n",
      "Epoch 55, CIFAR-10 Batch 1:  Train Loss:   0.0294 Valid Loss:   1.0716 Valid Accuracy: 0.708800 \n",
      "Epoch 55, CIFAR-10 Batch 2:  Train Loss:   0.0262 Valid Loss:   0.9027 Valid Accuracy: 0.730400 \n",
      "Epoch 55, CIFAR-10 Batch 3:  Train Loss:   0.0303 Valid Loss:   1.0862 Valid Accuracy: 0.701200 \n",
      "Epoch 55, CIFAR-10 Batch 4:  Train Loss:   0.0301 Valid Loss:   0.9330 Valid Accuracy: 0.723800 \n",
      "Epoch 55, CIFAR-10 Batch 5:  Train Loss:   0.0230 Valid Loss:   0.9449 Valid Accuracy: 0.728200 \n",
      "Epoch 56, CIFAR-10 Batch 1:  Train Loss:   0.0239 Valid Loss:   1.0317 Valid Accuracy: 0.720200 \n",
      "Epoch 56, CIFAR-10 Batch 2:  Train Loss:   0.0231 Valid Loss:   0.9416 Valid Accuracy: 0.714800 \n",
      "Epoch 56, CIFAR-10 Batch 3:  Train Loss:   0.0239 Valid Loss:   0.9314 Valid Accuracy: 0.723600 \n",
      "Epoch 56, CIFAR-10 Batch 4:  Train Loss:   0.0276 Valid Loss:   0.9477 Valid Accuracy: 0.722400 \n",
      "Epoch 56, CIFAR-10 Batch 5:  Train Loss:   0.0312 Valid Loss:   0.9321 Valid Accuracy: 0.717600 \n",
      "Epoch 57, CIFAR-10 Batch 1:  Train Loss:   0.0336 Valid Loss:   1.0649 Valid Accuracy: 0.705400 \n",
      "Epoch 57, CIFAR-10 Batch 2:  Train Loss:   0.0374 Valid Loss:   0.9422 Valid Accuracy: 0.713200 \n",
      "Epoch 57, CIFAR-10 Batch 3:  Train Loss:   0.0211 Valid Loss:   0.9346 Valid Accuracy: 0.719800 \n",
      "Epoch 57, CIFAR-10 Batch 4:  Train Loss:   0.0263 Valid Loss:   0.9800 Valid Accuracy: 0.718800 \n",
      "Epoch 57, CIFAR-10 Batch 5:  Train Loss:   0.0254 Valid Loss:   0.9841 Valid Accuracy: 0.709200 \n",
      "Epoch 58, CIFAR-10 Batch 1:  Train Loss:   0.0259 Valid Loss:   1.1171 Valid Accuracy: 0.696800 \n",
      "Epoch 58, CIFAR-10 Batch 2:  Train Loss:   0.0236 Valid Loss:   0.9550 Valid Accuracy: 0.720200 \n",
      "Epoch 58, CIFAR-10 Batch 3:  Train Loss:   0.0195 Valid Loss:   0.9027 Valid Accuracy: 0.731200 \n",
      "Epoch 58, CIFAR-10 Batch 4:  Train Loss:   0.0209 Valid Loss:   0.9444 Valid Accuracy: 0.724200 \n",
      "Epoch 58, CIFAR-10 Batch 5:  Train Loss:   0.0206 Valid Loss:   0.9622 Valid Accuracy: 0.716800 \n",
      "Epoch 59, CIFAR-10 Batch 1:  Train Loss:   0.0174 Valid Loss:   1.0292 Valid Accuracy: 0.714800 \n",
      "Epoch 59, CIFAR-10 Batch 2:  Train Loss:   0.0299 Valid Loss:   0.9991 Valid Accuracy: 0.703000 \n",
      "Epoch 59, CIFAR-10 Batch 3:  Train Loss:   0.0196 Valid Loss:   0.9072 Valid Accuracy: 0.725200 \n",
      "Epoch 59, CIFAR-10 Batch 4:  Train Loss:   0.0201 Valid Loss:   0.9947 Valid Accuracy: 0.721800 \n",
      "Epoch 59, CIFAR-10 Batch 5:  Train Loss:   0.0275 Valid Loss:   1.0090 Valid Accuracy: 0.715800 \n",
      "Epoch 60, CIFAR-10 Batch 1:  Train Loss:   0.0153 Valid Loss:   1.0436 Valid Accuracy: 0.713600 \n",
      "Epoch 60, CIFAR-10 Batch 2:  Train Loss:   0.0220 Valid Loss:   0.9363 Valid Accuracy: 0.719200 \n",
      "Epoch 60, CIFAR-10 Batch 3:  Train Loss:   0.0176 Valid Loss:   0.9265 Valid Accuracy: 0.724800 \n",
      "Epoch 60, CIFAR-10 Batch 4:  Train Loss:   0.0278 Valid Loss:   1.0000 Valid Accuracy: 0.714800 \n",
      "Epoch 60, CIFAR-10 Batch 5:  Train Loss:   0.0172 Valid Loss:   0.9700 Valid Accuracy: 0.717800 \n"
     ]
    }
   ],
   "source": [
    "\"\"\"\n",
    "DON'T MODIFY ANYTHING IN THIS CELL\n",
    "\"\"\"\n",
    "save_model_path = './image_classification'\n",
    "\n",
    "print('Training...')\n",
    "with tf.Session() as sess:\n",
    "    # Initializing the variables\n",
    "    sess.run(tf.global_variables_initializer())\n",
    "    \n",
    "    # Training cycle\n",
    "    for epoch in range(epochs):\n",
    "        # Loop over all batches\n",
    "        n_batches = 5\n",
    "        for batch_i in range(1, n_batches + 1):\n",
    "            for batch_features, batch_labels in helper.load_preprocess_training_batch(batch_i, batch_size):\n",
    "                train_neural_network(sess, optimizer, keep_probability, batch_features, batch_labels)\n",
    "            print('Epoch {:>2}, CIFAR-10 Batch {}:  '.format(epoch + 1, batch_i), end='')\n",
    "            print_stats(sess, batch_features, batch_labels, cost, accuracy)\n",
    "            \n",
    "    # Save Model\n",
    "    saver = tf.train.Saver()\n",
    "    save_path = saver.save(sess, save_model_path)"
   ]
  },
  {
   "cell_type": "markdown",
   "metadata": {},
   "source": [
    "# Checkpoint\n",
    "The model has been saved to disk.\n",
    "## Test Model\n",
    "Test your model against the test dataset.  This will be your final accuracy. You should have an accuracy greater than 50%. If you don't, keep tweaking the model architecture and parameters."
   ]
  },
  {
   "cell_type": "code",
   "execution_count": 52,
   "metadata": {
    "collapsed": false
   },
   "outputs": [
    {
     "name": "stdout",
     "output_type": "stream",
     "text": [
      "Testing Accuracy: 0.7193014711141587\n",
      "\n"
     ]
    },
    {
     "data": {
      "image/png": "[encoded data removed]",
      "text/plain": [
       "<matplotlib.figure.Figure at 0x1d53752e470>"
      ]
     },
     "metadata": {
      "image/png": {
       "height": 319,
       "width": 355
      }
     },
     "output_type": "display_data"
    }
   ],
   "source": [
    "\"\"\"\n",
    "DON'T MODIFY ANYTHING IN THIS CELL\n",
    "\"\"\"\n",
    "%matplotlib inline\n",
    "%config InlineBackend.figure_format = 'retina'\n",
    "\n",
    "import tensorflow as tf\n",
    "import pickle\n",
    "import helper\n",
    "import random\n",
    "\n",
    "# Set batch size if not already set\n",
    "try:\n",
    "    if batch_size:\n",
    "        pass\n",
    "except NameError:\n",
    "    batch_size = 64\n",
    "\n",
    "save_model_path = './image_classification'\n",
    "n_samples = 4\n",
    "top_n_predictions = 3\n",
    "\n",
    "def test_model():\n",
    "    \"\"\"\n",
    "    Test the saved model against the test dataset\n",
    "    \"\"\"\n",
    "\n",
    "    test_features, test_labels = pickle.load(open('preprocess_test.p', mode='rb'))\n",
    "    loaded_graph = tf.Graph()\n",
    "\n",
    "    with tf.Session(graph=loaded_graph) as sess:\n",
    "        # Load model\n",
    "        loader = tf.train.import_meta_graph(save_model_path + '.meta')\n",
    "        loader.restore(sess, save_model_path)\n",
    "\n",
    "        # Get Tensors from loaded model\n",
    "        loaded_x = loaded_graph.get_tensor_by_name('x:0')\n",
    "        loaded_y = loaded_graph.get_tensor_by_name('y:0')\n",
    "        loaded_keep_prob = loaded_graph.get_tensor_by_name('keep_prob:0')\n",
    "        loaded_logits = loaded_graph.get_tensor_by_name('logits:0')\n",
    "        loaded_acc = loaded_graph.get_tensor_by_name('accuracy:0')\n",
    "        \n",
    "        # Get accuracy in batches for memory limitations\n",
    "        test_batch_acc_total = 0\n",
    "        test_batch_count = 0\n",
    "        \n",
    "        for test_feature_batch, test_label_batch in helper.batch_features_labels(test_features, test_labels, batch_size):\n",
    "            test_batch_acc_total += sess.run(\n",
    "                loaded_acc,\n",
    "                feed_dict={loaded_x: test_feature_batch, loaded_y: test_label_batch, loaded_keep_prob: 1.0})\n",
    "            test_batch_count += 1\n",
    "\n",
    "        print('Testing Accuracy: {}\\n'.format(test_batch_acc_total/test_batch_count))\n",
    "\n",
    "        # Print Random Samples\n",
    "        random_test_features, random_test_labels = tuple(zip(*random.sample(list(zip(test_features, test_labels)), n_samples)))\n",
    "        random_test_predictions = sess.run(\n",
    "            tf.nn.top_k(tf.nn.softmax(loaded_logits), top_n_predictions),\n",
    "            feed_dict={loaded_x: random_test_features, loaded_y: random_test_labels, loaded_keep_prob: 1.0})\n",
    "        helper.display_image_predictions(random_test_features, random_test_labels, random_test_predictions)\n",
    "\n",
    "\n",
    "test_model()"
   ]
  },
  {
   "cell_type": "markdown",
   "metadata": {},
   "source": [
    "## Why 50-80% Accuracy?\n",
    "You might be wondering why you can't get an accuracy any higher. First things first, 50% isn't bad for a simple CNN.  Pure guessing would get you 10% accuracy. However, you might notice people are getting scores [well above 80%](http://rodrigob.github.io/are_we_there_yet/build/classification_datasets_results.html#43494641522d3130).  That's because we haven't taught you all there is to know about neural networks. We still need to cover a few more techniques.\n",
    "## Submitting This Project\n",
    "When submitting this project, make sure to run all the cells before saving the notebook.  Save the notebook file as \"dlnd_image_classification.ipynb\" and save it as a HTML file under \"File\" -> \"Download as\".  Include the \"helper.py\" and \"problem_unittests.py\" files in your submission."
   ]
  },
  {
   "cell_type": "code",
   "execution_count": null,
   "metadata": {
    "collapsed": true
   },
   "outputs": [],
   "source": []
  }
 ],
 "metadata": {
  "kernelspec": {
   "display_name": "Python 3",
   "language": "python",
   "name": "python3"
  },
  "language_info": {
   "codemirror_mode": {
    "name": "ipython",
    "version": 3
   },
   "file_extension": ".py",
   "mimetype": "text/x-python",
   "name": "python",
   "nbconvert_exporter": "python",
   "pygments_lexer": "ipython3",
   "version": "3.5.2"
  }
 },
 "nbformat": 4,
 "nbformat_minor": 1
}
