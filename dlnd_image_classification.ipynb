{
 "cells": [
  {
   "cell_type": "markdown",
   "metadata": {
    "collapsed": true
   },
   "source": [
    "# Image Classification\n",
    "In this project, you'll classify images from the [CIFAR-10 dataset](https://www.cs.toronto.edu/~kriz/cifar.html).  The dataset consists of airplanes, dogs, cats, and other objects. You'll preprocess the images, then train a convolutional neural network on all the samples. The images need to be normalized and the labels need to be one-hot encoded.  You'll get to apply what you learned and build a convolutional, max pooling, dropout, and fully connected layers.  At the end, you'll get to see your neural network's predictions on the sample images.\n",
    "## Get the Data\n",
    "Run the following cell to download the [CIFAR-10 dataset for python](https://www.cs.toronto.edu/~kriz/cifar-10-python.tar.gz)."
   ]
  },
  {
   "cell_type": "code",
   "execution_count": 1,
   "metadata": {
    "collapsed": false
   },
   "outputs": [
    {
     "name": "stderr",
     "output_type": "stream",
     "text": [
      "CIFAR-10 Dataset: 171MB [04:00, 710KB/s]                                                                               \n"
     ]
    },
    {
     "name": "stdout",
     "output_type": "stream",
     "text": [
      "All files found!\n"
     ]
    }
   ],
   "source": [
    "\"\"\"\n",
    "DON'T MODIFY ANYTHING IN THIS CELL THAT IS BELOW THIS LINE\n",
    "\"\"\"\n",
    "from urllib.request import urlretrieve\n",
    "from os.path import isfile, isdir\n",
    "from tqdm import tqdm\n",
    "import problem_unittests as tests\n",
    "import tarfile\n",
    "\n",
    "cifar10_dataset_folder_path = 'cifar-10-batches-py'\n",
    "\n",
    "# Use Floyd's cifar-10 dataset if present\n",
    "floyd_cifar10_location = '/cifar/cifar-10-python.tar.gz'\n",
    "if isfile(floyd_cifar10_location):\n",
    "    tar_gz_path = floyd_cifar10_location\n",
    "else:\n",
    "    tar_gz_path = 'cifar-10-python.tar.gz'\n",
    "\n",
    "class DLProgress(tqdm):\n",
    "    last_block = 0\n",
    "\n",
    "    def hook(self, block_num=1, block_size=1, total_size=None):\n",
    "        self.total = total_size\n",
    "        self.update((block_num - self.last_block) * block_size)\n",
    "        self.last_block = block_num\n",
    "\n",
    "if not isfile(tar_gz_path):\n",
    "    with DLProgress(unit='B', unit_scale=True, miniters=1, desc='CIFAR-10 Dataset') as pbar:\n",
    "        urlretrieve(\n",
    "            'https://www.cs.toronto.edu/~kriz/cifar-10-python.tar.gz',\n",
    "            tar_gz_path,\n",
    "            pbar.hook)\n",
    "\n",
    "if not isdir(cifar10_dataset_folder_path):\n",
    "    with tarfile.open(tar_gz_path) as tar:\n",
    "        tar.extractall()\n",
    "        tar.close()\n",
    "\n",
    "\n",
    "tests.test_folder_path(cifar10_dataset_folder_path)"
   ]
  },
  {
   "cell_type": "markdown",
   "metadata": {},
   "source": [
    "## Explore the Data\n",
    "The dataset is broken into batches to prevent your machine from running out of memory.  The CIFAR-10 dataset consists of 5 batches, named `data_batch_1`, `data_batch_2`, etc.. Each batch contains the labels and images that are one of the following:\n",
    "* airplane\n",
    "* automobile\n",
    "* bird\n",
    "* cat\n",
    "* deer\n",
    "* dog\n",
    "* frog\n",
    "* horse\n",
    "* ship\n",
    "* truck\n",
    "\n",
    "Understanding a dataset is part of making predictions on the data.  Play around with the code cell below by changing the `batch_id` and `sample_id`. The `batch_id` is the id for a batch (1-5). The `sample_id` is the id for a image and label pair in the batch.\n",
    "\n",
    "Ask yourself \"What are all possible labels?\", \"What is the range of values for the image data?\", \"Are the labels in order or random?\".  Answers to questions like these will help you preprocess the data and end up with better predictions."
   ]
  },
  {
   "cell_type": "code",
   "execution_count": 2,
   "metadata": {
    "collapsed": false
   },
   "outputs": [
    {
     "name": "stdout",
     "output_type": "stream",
     "text": [
      "\n",
      "Stats of batch 4:\n",
      "Samples: 10000\n",
      "Label Counts: {0: 1003, 1: 963, 2: 1041, 3: 976, 4: 1004, 5: 1021, 6: 1004, 7: 981, 8: 1024, 9: 983}\n",
      "First 20 Labels: [0, 6, 0, 2, 7, 2, 1, 2, 4, 1, 5, 6, 6, 3, 1, 3, 5, 5, 8, 1]\n",
      "\n",
      "Example of Image 5:\n",
      "Image - Min Value: 13 Max Value: 169\n",
      "Image - Shape: (32, 32, 3)\n",
      "Label - Label Id: 2 Name: bird\n"
     ]
    },
    {
     "data": {
      "image/png": "[encoded data removed]",
      "text/plain": [
       "<matplotlib.figure.Figure at 0x1fb3fd14320>"
      ]
     },
     "metadata": {
      "image/png": {
       "height": 250,
       "width": 253
      }
     },
     "output_type": "display_data"
    }
   ],
   "source": [
    "%matplotlib inline\n",
    "%config InlineBackend.figure_format = 'retina'\n",
    "\n",
    "import helper\n",
    "import numpy as np\n",
    "\n",
    "# Explore the dataset\n",
    "batch_id = 4\n",
    "sample_id = 5\n",
    "helper.display_stats(cifar10_dataset_folder_path, batch_id, sample_id)"
   ]
  },
  {
   "cell_type": "markdown",
   "metadata": {},
   "source": [
    "## Implement Preprocess Functions\n",
    "### Normalize\n",
    "In the cell below, implement the `normalize` function to take in image data, `x`, and return it as a normalized Numpy array. The values should be in the range of 0 to 1, inclusive.  The return object should be the same shape as `x`."
   ]
  },
  {
   "cell_type": "code",
   "execution_count": 3,
   "metadata": {
    "collapsed": false
   },
   "outputs": [
    {
     "name": "stdout",
     "output_type": "stream",
     "text": [
      "Tests Passed\n"
     ]
    }
   ],
   "source": [
    "def normalize(x):\n",
    "    \"\"\"\n",
    "    Normalize a list of sample image data in the range of 0 to 1\n",
    "    : x: List of image data.  The image shape is (32, 32, 3)\n",
    "    : return: Numpy array of normalize data\n",
    "    \"\"\"\n",
    "    # TODO: Implement Function\n",
    "    return x/256\n",
    "\n",
    "\n",
    "\"\"\"\n",
    "DON'T MODIFY ANYTHING IN THIS CELL THAT IS BELOW THIS LINE\n",
    "\"\"\"\n",
    "tests.test_normalize(normalize)"
   ]
  },
  {
   "cell_type": "markdown",
   "metadata": {},
   "source": [
    "### One-hot encode\n",
    "Just like the previous code cell, you'll be implementing a function for preprocessing.  This time, you'll implement the `one_hot_encode` function. The input, `x`, are a list of labels.  Implement the function to return the list of labels as One-Hot encoded Numpy array.  The possible values for labels are 0 to 9. The one-hot encoding function should return the same encoding for each value between each call to `one_hot_encode`.  Make sure to save the map of encodings outside the function.\n",
    "\n",
    "Hint: Don't reinvent the wheel."
   ]
  },
  {
   "cell_type": "code",
   "execution_count": 4,
   "metadata": {
    "collapsed": false
   },
   "outputs": [
    {
     "name": "stdout",
     "output_type": "stream",
     "text": [
      "Tests Passed\n"
     ]
    }
   ],
   "source": [
    "def one_hot_encode(x):\n",
    "    \"\"\"\n",
    "    One hot encode a list of sample labels. Return a one-hot encoded vector for each label.\n",
    "    : x: List of sample Labels\n",
    "    : return: Numpy array of one-hot encoded labels\n",
    "    \"\"\"\n",
    "    result = np.zeros((len(x),10))\n",
    "    for i, label in enumerate(x):\n",
    "        result[i][label] = 1\n",
    "                              \n",
    "    return result\n",
    "\n",
    "\"\"\"\n",
    "DON'T MODIFY ANYTHING IN THIS CELL THAT IS BELOW THIS LINE\n",
    "\"\"\"\n",
    "tests.test_one_hot_encode(one_hot_encode)"
   ]
  },
  {
   "cell_type": "markdown",
   "metadata": {},
   "source": [
    "### Randomize Data\n",
    "As you saw from exploring the data above, the order of the samples are randomized.  It doesn't hurt to randomize it again, but you don't need to for this dataset."
   ]
  },
  {
   "cell_type": "markdown",
   "metadata": {},
   "source": [
    "## Preprocess all the data and save it\n",
    "Running the code cell below will preprocess all the CIFAR-10 data and save it to file. The code below also uses 10% of the training data for validation."
   ]
  },
  {
   "cell_type": "code",
   "execution_count": 5,
   "metadata": {
    "collapsed": false
   },
   "outputs": [
    {
     "name": "stdout",
     "output_type": "stream",
     "text": [
      "Completed\n"
     ]
    }
   ],
   "source": [
    "\"\"\"\n",
    "DON'T MODIFY ANYTHING IN THIS CELL\n",
    "\"\"\"\n",
    "# Preprocess Training, Validation, and Testing Data\n",
    "helper.preprocess_and_save_data(cifar10_dataset_folder_path, normalize, one_hot_encode)\n",
    "print(\"Completed\")"
   ]
  },
  {
   "cell_type": "markdown",
   "metadata": {},
   "source": [
    "# Check Point\n",
    "This is your first checkpoint.  If you ever decide to come back to this notebook or have to restart the notebook, you can start from here.  The preprocessed data has been saved to disk."
   ]
  },
  {
   "cell_type": "code",
   "execution_count": 12,
   "metadata": {
    "collapsed": false
   },
   "outputs": [],
   "source": [
    "\"\"\"\n",
    "DON'T MODIFY ANYTHING IN THIS CELL\n",
    "\"\"\"\n",
    "import pickle\n",
    "import problem_unittests as tests\n",
    "import helper\n",
    "\n",
    "# Load the Preprocessed Validation data\n",
    "valid_features, valid_labels = pickle.load(open('preprocess_validation.p', mode='rb'))\n",
    "\n",
    "#valid_features[:1], valid_labels[:1]"
   ]
  },
  {
   "cell_type": "markdown",
   "metadata": {},
   "source": [
    "## Build the network\n",
    "For the neural network, you'll build each layer into a function.  Most of the code you've seen has been outside of functions. To test your code more thoroughly, we require that you put each layer in a function.  This allows us to give you better feedback and test for simple mistakes using our unittests before you submit your project.\n",
    "\n",
    ">**Note:** If you're finding it hard to dedicate enough time for this course each week, we've provided a small shortcut to this part of the project. In the next couple of problems, you'll have the option to use classes from the [TensorFlow Layers](https://www.tensorflow.org/api_docs/python/tf/layers) or [TensorFlow Layers (contrib)](https://www.tensorflow.org/api_guides/python/contrib.layers) packages to build each layer, except the layers you build in the \"Convolutional and Max Pooling Layer\" section.  TF Layers is similar to Keras's and TFLearn's abstraction to layers, so it's easy to pickup.\n",
    "\n",
    ">However, if you would like to get the most out of this course, try to solve all the problems _without_ using anything from the TF Layers packages. You **can** still use classes from other packages that happen to have the same name as ones you find in TF Layers! For example, instead of using the TF Layers version of the `conv2d` class, [tf.layers.conv2d](https://www.tensorflow.org/api_docs/python/tf/layers/conv2d), you would want to use the TF Neural Network version of `conv2d`, [tf.nn.conv2d](https://www.tensorflow.org/api_docs/python/tf/nn/conv2d). \n",
    "\n",
    "Let's begin!\n",
    "\n",
    "### Input\n",
    "The neural network needs to read the image data, one-hot encoded labels, and dropout keep probability. Implement the following functions\n",
    "* Implement `neural_net_image_input`\n",
    " * Return a [TF Placeholder](https://www.tensorflow.org/api_docs/python/tf/placeholder)\n",
    " * Set the shape using `image_shape` with batch size set to `None`.\n",
    " * Name the TensorFlow placeholder \"x\" using the TensorFlow `name` parameter in the [TF Placeholder](https://www.tensorflow.org/api_docs/python/tf/placeholder).\n",
    "* Implement `neural_net_label_input`\n",
    " * Return a [TF Placeholder](https://www.tensorflow.org/api_docs/python/tf/placeholder)\n",
    " * Set the shape using `n_classes` with batch size set to `None`.\n",
    " * Name the TensorFlow placeholder \"y\" using the TensorFlow `name` parameter in the [TF Placeholder](https://www.tensorflow.org/api_docs/python/tf/placeholder).\n",
    "* Implement `neural_net_keep_prob_input`\n",
    " * Return a [TF Placeholder](https://www.tensorflow.org/api_docs/python/tf/placeholder) for dropout keep probability.\n",
    " * Name the TensorFlow placeholder \"keep_prob\" using the TensorFlow `name` parameter in the [TF Placeholder](https://www.tensorflow.org/api_docs/python/tf/placeholder).\n",
    "\n",
    "These names will be used at the end of the project to load your saved model.\n",
    "\n",
    "Note: `None` for shapes in TensorFlow allow for a dynamic size."
   ]
  },
  {
   "cell_type": "code",
   "execution_count": 13,
   "metadata": {
    "collapsed": false
   },
   "outputs": [
    {
     "name": "stdout",
     "output_type": "stream",
     "text": [
      "Image Input Tests Passed.\n",
      "Label Input Tests Passed.\n",
      "Keep Prob Tests Passed.\n"
     ]
    }
   ],
   "source": [
    "import tensorflow as tf\n",
    "\n",
    "def neural_net_image_input(image_shape):\n",
    "    \"\"\"\n",
    "    Return a Tensor for a batch of image input\n",
    "    : image_shape: Shape of the images\n",
    "    : return: Tensor for image input.\n",
    "    \"\"\"\n",
    "    # TODO: Implement Function\n",
    "    return tf.placeholder(tf.float32, shape=[None,32,32,3], name='x')\n",
    "\n",
    "\n",
    "def neural_net_label_input(n_classes):\n",
    "    \"\"\"\n",
    "    Return a Tensor for a batch of label input\n",
    "    : n_classes: Number of classes\n",
    "    : return: Tensor for label input.\n",
    "    \"\"\"\n",
    "    # TODO: Implement Function\n",
    "    return tf.placeholder(tf.uint8, shape=[None, 10], name='y')\n",
    "\n",
    "\n",
    "def neural_net_keep_prob_input():\n",
    "    \"\"\"\n",
    "    Return a Tensor for keep probability\n",
    "    : return: Tensor for keep probability.\n",
    "    \"\"\"\n",
    "    # TODO: Implement Function\n",
    "    return tf.placeholder(tf.float32, name='keep_prob')\n",
    "\n",
    "\n",
    "\"\"\"\n",
    "DON'T MODIFY ANYTHING IN THIS CELL THAT IS BELOW THIS LINE\n",
    "\"\"\"\n",
    "tf.reset_default_graph()\n",
    "tests.test_nn_image_inputs(neural_net_image_input)\n",
    "tests.test_nn_label_inputs(neural_net_label_input)\n",
    "tests.test_nn_keep_prob_inputs(neural_net_keep_prob_input)"
   ]
  },
  {
   "cell_type": "markdown",
   "metadata": {},
   "source": [
    "### Convolution and Max Pooling Layer\n",
    "Convolution layers have a lot of success with images. For this code cell, you should implement the function `conv2d_maxpool` to apply convolution then max pooling:\n",
    "* Create the weight and bias using `conv_ksize`, `conv_num_outputs` and the shape of `x_tensor`.\n",
    "* Apply a convolution to `x_tensor` using weight and `conv_strides`.\n",
    " * We recommend you use same padding, but you're welcome to use any padding.\n",
    "* Add bias\n",
    "* Add a nonlinear activation to the convolution.\n",
    "* Apply Max Pooling using `pool_ksize` and `pool_strides`.\n",
    " * We recommend you use same padding, but you're welcome to use any padding.\n",
    "\n",
    "**Note:** You **can't** use [TensorFlow Layers](https://www.tensorflow.org/api_docs/python/tf/layers) or [TensorFlow Layers (contrib)](https://www.tensorflow.org/api_guides/python/contrib.layers) for **this** layer, but you can still use TensorFlow's [Neural Network](https://www.tensorflow.org/api_docs/python/tf/nn) package. You may still use the shortcut option for all the **other** layers."
   ]
  },
  {
   "cell_type": "code",
   "execution_count": 14,
   "metadata": {
    "collapsed": false
   },
   "outputs": [
    {
     "name": "stdout",
     "output_type": "stream",
     "text": [
      "Tests Passed\n"
     ]
    }
   ],
   "source": [
    "def conv2d_maxpool(x_tensor, conv_num_outputs, conv_ksize, conv_strides, pool_ksize, pool_strides):\n",
    "    \"\"\"\n",
    "    Apply convolution then max pooling to x_tensor\n",
    "    :param x_tensor: TensorFlow Tensor\n",
    "    :param conv_num_outputs: Number of outputs for the convolutional layer\n",
    "    :param conv_ksize: kernal size 2-D Tuple for the convolutional layer\n",
    "    :param conv_strides: Stride 2-D Tuple for convolution\n",
    "    :param pool_ksize: kernal size 2-D Tuple for pool\n",
    "    :param pool_strides: Stride 2-D Tuple for pool\n",
    "    : return: A tensor that represents convolution and max pooling of x_tensor\n",
    "    \"\"\"\n",
    "    # TODO: Implement Function\n",
    "    # Convolution Weights and Bias\n",
    "    conv_weights = tf.Variable(tf.truncated_normal([conv_ksize[1], conv_ksize[0], \n",
    "                                                  x_tensor.get_shape().as_list()[3], conv_num_outputs ],stddev=0.1))\n",
    "    conv_bias = tf.Variable(tf.zeros(conv_num_outputs))\n",
    "    \n",
    "    # Convolution Layer\n",
    "    conv_layer=tf.nn.conv2d(x_tensor, conv_weights, strides=[1,conv_strides[1], conv_strides[0],1], padding='SAME')\n",
    "    conv_layer=tf.nn.bias_add(conv_layer,conv_bias)\n",
    "    conv_layer=tf.nn.relu(conv_layer)\n",
    "    \n",
    "    #Pooling Layer\n",
    "    pooling_layer=tf.nn.max_pool(conv_layer, ksize=[1,pool_ksize[1], pool_ksize[1],1], \n",
    "                                 strides=[1,pool_strides[1], pool_strides[0],1], padding='SAME')\n",
    "    \n",
    "    return pooling_layer \n",
    "\n",
    "\n",
    "\"\"\"\n",
    "DON'T MODIFY ANYTHING IN THIS CELL THAT IS BELOW THIS LINE\n",
    "\"\"\"\n",
    "tests.test_con_pool(conv2d_maxpool)"
   ]
  },
  {
   "cell_type": "markdown",
   "metadata": {},
   "source": [
    "### Flatten Layer\n",
    "Implement the `flatten` function to change the dimension of `x_tensor` from a 4-D tensor to a 2-D tensor.  The output should be the shape (*Batch Size*, *Flattened Image Size*). Shortcut option: you can use classes from the [TensorFlow Layers](https://www.tensorflow.org/api_docs/python/tf/layers) or [TensorFlow Layers (contrib)](https://www.tensorflow.org/api_guides/python/contrib.layers) packages for this layer. For more of a challenge, only use other TensorFlow packages."
   ]
  },
  {
   "cell_type": "code",
   "execution_count": 15,
   "metadata": {
    "collapsed": false
   },
   "outputs": [
    {
     "name": "stdout",
     "output_type": "stream",
     "text": [
      "Tests Passed\n"
     ]
    }
   ],
   "source": [
    "def flatten(x_tensor):\n",
    "    \"\"\"\n",
    "    Flatten x_tensor to (Batch Size, Flattened Image Size)\n",
    "    : x_tensor: A tensor of size (Batch Size, ...), where ... are the image dimensions.\n",
    "    : return: A tensor of size (Batch Size, Flattened Image Size).\n",
    "    \"\"\"\n",
    "    # TODO: Implement Function\n",
    "    shape_l = x_tensor.get_shape().as_list()\n",
    "    fc1 = tf.reshape(x_tensor, shape=[-1, shape_l[1]*shape_l[2]*shape_l[3]])\n",
    "    return fc1\n",
    "\n",
    "\n",
    "\"\"\"\n",
    "DON'T MODIFY ANYTHING IN THIS CELL THAT IS BELOW THIS LINE\n",
    "\"\"\"\n",
    "tests.test_flatten(flatten)"
   ]
  },
  {
   "cell_type": "markdown",
   "metadata": {},
   "source": [
    "### Fully-Connected Layer\n",
    "Implement the `fully_conn` function to apply a fully connected layer to `x_tensor` with the shape (*Batch Size*, *num_outputs*). Shortcut option: you can use classes from the [TensorFlow Layers](https://www.tensorflow.org/api_docs/python/tf/layers) or [TensorFlow Layers (contrib)](https://www.tensorflow.org/api_guides/python/contrib.layers) packages for this layer. For more of a challenge, only use other TensorFlow packages."
   ]
  },
  {
   "cell_type": "code",
   "execution_count": 16,
   "metadata": {
    "collapsed": false
   },
   "outputs": [
    {
     "name": "stdout",
     "output_type": "stream",
     "text": [
      "Tests Passed\n"
     ]
    }
   ],
   "source": [
    "def fully_conn(x_tensor, num_outputs):\n",
    "    \"\"\"\n",
    "    Apply a fully connected layer to x_tensor using weight and bias\n",
    "    : x_tensor: A 2-D tensor where the first dimension is batch size.\n",
    "    : num_outputs: The number of output that the new tensor should be.\n",
    "    : return: A 2-D tensor where the second dimension is num_outputs.\n",
    "    \"\"\"\n",
    "    shape_l = x_tensor.get_shape().as_list()\n",
    "    weights = tf.Variable(tf.truncated_normal([shape_l[1], num_outputs],stddev=0.1))\n",
    "    bias = tf.Variable(tf.random_normal([num_outputs]))\n",
    "\n",
    "    # Logits - xW + b\n",
    "    fc = tf.add(tf.matmul(x_tensor, weights), bias)\n",
    "    fc = tf.nn.relu(fc)\n",
    "\n",
    "    return fc\n",
    "\n",
    "\n",
    "\"\"\"\n",
    "DON'T MODIFY ANYTHING IN THIS CELL THAT IS BELOW THIS LINE\n",
    "\"\"\"\n",
    "tests.test_fully_conn(fully_conn)"
   ]
  },
  {
   "cell_type": "markdown",
   "metadata": {},
   "source": [
    "### Output Layer\n",
    "Implement the `output` function to apply a fully connected layer to `x_tensor` with the shape (*Batch Size*, *num_outputs*). Shortcut option: you can use classes from the [TensorFlow Layers](https://www.tensorflow.org/api_docs/python/tf/layers) or [TensorFlow Layers (contrib)](https://www.tensorflow.org/api_guides/python/contrib.layers) packages for this layer. For more of a challenge, only use other TensorFlow packages.\n",
    "\n",
    "**Note:** Activation, softmax, or cross entropy should **not** be applied to this."
   ]
  },
  {
   "cell_type": "code",
   "execution_count": 17,
   "metadata": {
    "collapsed": false
   },
   "outputs": [
    {
     "name": "stdout",
     "output_type": "stream",
     "text": [
      "Tests Passed\n"
     ]
    }
   ],
   "source": [
    "def output(x_tensor, num_outputs):\n",
    "    \"\"\"\n",
    "    Apply a output layer to x_tensor using weight and bias\n",
    "    : x_tensor: A 2-D tensor where the first dimension is batch size.\n",
    "    : num_outputs: The number of output that the new tensor should be.\n",
    "    : return: A 2-D tensor where the second dimension is num_outputs.\n",
    "    \"\"\"\n",
    "    shape_l = x_tensor.get_shape().as_list()\n",
    "    weights = tf.Variable(tf.truncated_normal([shape_l[1], num_outputs],stddev=0.1))\n",
    "    bias = tf.Variable(tf.random_normal([num_outputs]))\n",
    "\n",
    "    # Logits - xW + b\n",
    "    return tf.add(tf.matmul(x_tensor, weights), bias)\n",
    "\n",
    "\n",
    "\n",
    "\"\"\"\n",
    "DON'T MODIFY ANYTHING IN THIS CELL THAT IS BELOW THIS LINE\n",
    "\"\"\"\n",
    "tests.test_output(output)"
   ]
  },
  {
   "cell_type": "markdown",
   "metadata": {},
   "source": [
    "### Create Convolutional Model\n",
    "Implement the function `conv_net` to create a convolutional neural network model. The function takes in a batch of images, `x`, and outputs logits.  Use the layers you created above to create this model:\n",
    "\n",
    "* Apply 1, 2, or 3 Convolution and Max Pool layers\n",
    "* Apply a Flatten Layer\n",
    "* Apply 1, 2, or 3 Fully Connected Layers\n",
    "* Apply an Output Layer\n",
    "* Return the output\n",
    "* Apply [TensorFlow's Dropout](https://www.tensorflow.org/api_docs/python/tf/nn/dropout) to one or more layers in the model using `keep_prob`. "
   ]
  },
  {
   "cell_type": "code",
   "execution_count": 18,
   "metadata": {
    "collapsed": false
   },
   "outputs": [
    {
     "name": "stdout",
     "output_type": "stream",
     "text": [
      "Neural Network Built!\n"
     ]
    }
   ],
   "source": [
    "def conv_net(x, keep_prob):\n",
    "    \"\"\"\n",
    "    Create a convolutional neural network model\n",
    "    : x: Placeholder tensor that holds image data.\n",
    "    : keep_prob: Placeholder tensor that hold dropout keep probability.\n",
    "    : return: Tensor that represents logits\n",
    "    \"\"\"\n",
    "    # TODO: Apply 1, 2, or 3 Convolution and Max Pool layers\n",
    "    #    Play around with different number of outputs, kernel size and stride\n",
    "    # Function Definition from Above:\n",
    "    #    conv2d_maxpool(x_tensor, conv_num_outputs, conv_ksize, conv_strides, pool_ksize, pool_strides)\n",
    "    \n",
    "    # Layer 1 - 32*32*3 to 16*16*32\n",
    "\n",
    "    cov_net = conv2d_maxpool(x, 32,(2,2), (2,2), (2,2), (1,1))\n",
    "    cov_net = conv2d_maxpool(cov_net, 64,(2,2), (2,2), (2,2), (1,1))\n",
    "                             \n",
    "    # TODO: Apply a Flatten Layer\n",
    "    # Function Definition from Above:\n",
    "    #   flatten(x_tensor)\n",
    "    cov_net=flatten(cov_net)\n",
    "\n",
    "    # TODO: Apply 1, 2, or 3 Fully Connected Layers\n",
    "    #    Play around with different number of outputs\n",
    "    # Function Definition from Above:\n",
    "    #   fully_conn(x_tensor, num_outputs)\n",
    "    cov_net = fully_conn(cov_net, 1024)\n",
    "    cov_net = tf.nn.dropout(cov_net,keep_prob)\n",
    "\n",
    "    cov_net = fully_conn(cov_net, 512)    \n",
    "    cov_net = fully_conn(cov_net, 256)\n",
    "    \n",
    "    # TODO: Apply an Output Layer\n",
    "    #    Set this to the number of classes\n",
    "    # Function Definition from Above:\n",
    "    #   output(x_tensor, num_outputs)\n",
    "    \n",
    "    cov_net = output(cov_net,10)\n",
    "    # TODO: return output\n",
    "    return cov_net\n",
    "\n",
    "\n",
    "\"\"\"\n",
    "DON'T MODIFY ANYTHING IN THIS CELL THAT IS BELOW THIS LINE\n",
    "\"\"\"\n",
    "\n",
    "##############################\n",
    "## Build the Neural Network ##\n",
    "##############################\n",
    "\n",
    "# Remove previous weights, bias, inputs, etc..\n",
    "tf.reset_default_graph()\n",
    "\n",
    "# Inputs\n",
    "x = neural_net_image_input((32, 32, 3))\n",
    "y = neural_net_label_input(10)\n",
    "keep_prob = neural_net_keep_prob_input()\n",
    "\n",
    "# Model\n",
    "logits = conv_net(x, keep_prob)\n",
    "\n",
    "# Name logits Tensor, so that is can be loaded from disk after training\n",
    "logits = tf.identity(logits, name='logits')\n",
    "\n",
    "# Loss and Optimizer\n",
    "cost = tf.reduce_mean(tf.nn.softmax_cross_entropy_with_logits(logits=logits, labels=y))\n",
    "optimizer = tf.train.AdamOptimizer().minimize(cost)\n",
    "\n",
    "# Accuracy\n",
    "correct_pred = tf.equal(tf.argmax(logits, 1), tf.argmax(y, 1))\n",
    "accuracy = tf.reduce_mean(tf.cast(correct_pred, tf.float32), name='accuracy')\n",
    "\n",
    "tests.test_conv_net(conv_net)"
   ]
  },
  {
   "cell_type": "markdown",
   "metadata": {},
   "source": [
    "## Train the Neural Network\n",
    "### Single Optimization\n",
    "Implement the function `train_neural_network` to do a single optimization.  The optimization should use `optimizer` to optimize in `session` with a `feed_dict` of the following:\n",
    "* `x` for image input\n",
    "* `y` for labels\n",
    "* `keep_prob` for keep probability for dropout\n",
    "\n",
    "This function will be called for each batch, so `tf.global_variables_initializer()` has already been called.\n",
    "\n",
    "Note: Nothing needs to be returned. This function is only optimizing the neural network."
   ]
  },
  {
   "cell_type": "code",
   "execution_count": 19,
   "metadata": {
    "collapsed": false
   },
   "outputs": [
    {
     "name": "stdout",
     "output_type": "stream",
     "text": [
      "Tests Passed\n"
     ]
    }
   ],
   "source": [
    "def train_neural_network(session, optimizer, keep_probability, feature_batch, label_batch):\n",
    "    \"\"\"\n",
    "    Optimize the session on a batch of images and labels\n",
    "    : session: Current TensorFlow session\n",
    "    : optimizer: TensorFlow optimizer function\n",
    "    : keep_probability: keep probability\n",
    "    : feature_batch: Batch of Numpy image data\n",
    "    : label_batch: Batch of Numpy label data\n",
    "    \"\"\"\n",
    "    # TODO: Implement Function\n",
    "\n",
    "    session.run(optimizer, feed_dict={x: feature_batch, y: label_batch, keep_prob: keep_probability})\n",
    "\n",
    "\n",
    "\n",
    "\n",
    "\"\"\"\n",
    "DON'T MODIFY ANYTHING IN THIS CELL THAT IS BELOW THIS LINE\n",
    "\"\"\"\n",
    "tests.test_train_nn(train_neural_network)"
   ]
  },
  {
   "cell_type": "markdown",
   "metadata": {},
   "source": [
    "### Show Stats\n",
    "Implement the function `print_stats` to print loss and validation accuracy.  Use the global variables `valid_features` and `valid_labels` to calculate validation accuracy.  Use a keep probability of `1.0` to calculate the loss and validation accuracy."
   ]
  },
  {
   "cell_type": "code",
   "execution_count": 20,
   "metadata": {
    "collapsed": true
   },
   "outputs": [],
   "source": [
    "def print_stats(session, feature_batch, label_batch, cost, accuracy):\n",
    "    \"\"\"\n",
    "    Print information about loss and validation accuracy\n",
    "    : session: Current TensorFlow session\n",
    "    : feature_batch: Batch of Numpy image data\n",
    "    : label_batch: Batch of Numpy label data\n",
    "    : cost: TensorFlow cost function\n",
    "    : accuracy: TensorFlow accuracy function\n",
    "    \"\"\"\n",
    "    # TODO: Implement Function\n",
    "    loss = session.run(cost, feed_dict={x: feature_batch, y: label_batch, keep_prob: 1.})\n",
    "    acc = session.run(accuracy, feed_dict={\n",
    "        x: feature_batch,\n",
    "        y: label_batch,\n",
    "        keep_prob: 1.})\n",
    "\n",
    "    print('Loss: {:>10.4f} Validation Accuracy: {:.6f}'.format(\n",
    "        loss,\n",
    "        acc))\n",
    "    #sys.stdout.write(\"\\r\" + 'Epoch {:>2}, Batch {:>3} - Loss: {:>10.4f} Validation Accuracy: {:.6f}'.format(\n",
    "    #    epoch + 1,\n",
    "    #    batch + 1,\n",
    "    #    loss,\n",
    "    #    valid_acc))\n",
    "    #sys.stdout.flush()"
   ]
  },
  {
   "cell_type": "markdown",
   "metadata": {},
   "source": [
    "### Hyperparameters\n",
    "Tune the following parameters:\n",
    "* Set `epochs` to the number of iterations until the network stops learning or start overfitting\n",
    "* Set `batch_size` to the highest number that your machine has memory for.  Most people set them to common sizes of memory:\n",
    " * 64\n",
    " * 128\n",
    " * 256\n",
    " * ...\n",
    "* Set `keep_probability` to the probability of keeping a node using dropout"
   ]
  },
  {
   "cell_type": "code",
   "execution_count": 28,
   "metadata": {
    "collapsed": true
   },
   "outputs": [],
   "source": [
    "# TODO: Tune Parameters\n",
    "epochs = 50\n",
    "batch_size = 512\n",
    "keep_probability = 0.9"
   ]
  },
  {
   "cell_type": "markdown",
   "metadata": {},
   "source": [
    "### Train on a Single CIFAR-10 Batch\n",
    "Instead of training the neural network on all the CIFAR-10 batches of data, let's use a single batch. This should save time while you iterate on the model to get a better accuracy.  Once the final validation accuracy is 50% or greater, run the model on all the data in the next section."
   ]
  },
  {
   "cell_type": "code",
   "execution_count": 22,
   "metadata": {
    "collapsed": false
   },
   "outputs": [
    {
     "name": "stdout",
     "output_type": "stream",
     "text": [
      "Checking the Training on a Single Batch...\n",
      "Epoch  1, CIFAR-10 Batch 1:  Loss:     2.2700 Validation Accuracy: 0.199324\n",
      "Epoch  2, CIFAR-10 Batch 1:  Loss:     2.0032 Validation Accuracy: 0.283784\n",
      "Epoch  3, CIFAR-10 Batch 1:  Loss:     1.7453 Validation Accuracy: 0.361486\n",
      "Epoch  4, CIFAR-10 Batch 1:  Loss:     1.6023 Validation Accuracy: 0.442568\n",
      "Epoch  5, CIFAR-10 Batch 1:  Loss:     1.4798 Validation Accuracy: 0.472973\n",
      "Epoch  6, CIFAR-10 Batch 1:  Loss:     1.3868 Validation Accuracy: 0.472973\n",
      "Epoch  7, CIFAR-10 Batch 1:  Loss:     1.2955 Validation Accuracy: 0.530405\n",
      "Epoch  8, CIFAR-10 Batch 1:  Loss:     1.2054 Validation Accuracy: 0.564189\n",
      "Epoch  9, CIFAR-10 Batch 1:  Loss:     1.0915 Validation Accuracy: 0.604730\n",
      "Epoch 10, CIFAR-10 Batch 1:  Loss:     0.9983 Validation Accuracy: 0.638514\n",
      "Epoch 11, CIFAR-10 Batch 1:  Loss:     0.9362 Validation Accuracy: 0.689189\n",
      "Epoch 12, CIFAR-10 Batch 1:  Loss:     0.8437 Validation Accuracy: 0.699324\n",
      "Epoch 13, CIFAR-10 Batch 1:  Loss:     0.7634 Validation Accuracy: 0.736486\n",
      "Epoch 14, CIFAR-10 Batch 1:  Loss:     0.6653 Validation Accuracy: 0.763514\n",
      "Epoch 15, CIFAR-10 Batch 1:  Loss:     0.6064 Validation Accuracy: 0.793919\n",
      "Epoch 16, CIFAR-10 Batch 1:  Loss:     0.5516 Validation Accuracy: 0.800676\n",
      "Epoch 17, CIFAR-10 Batch 1:  Loss:     0.4838 Validation Accuracy: 0.851351\n",
      "Epoch 18, CIFAR-10 Batch 1:  Loss:     0.4442 Validation Accuracy: 0.864865\n",
      "Epoch 19, CIFAR-10 Batch 1:  Loss:     0.3774 Validation Accuracy: 0.888514\n",
      "Epoch 20, CIFAR-10 Batch 1:  Loss:     0.3143 Validation Accuracy: 0.915541\n",
      "Epoch 21, CIFAR-10 Batch 1:  Loss:     0.3205 Validation Accuracy: 0.915541\n",
      "Epoch 22, CIFAR-10 Batch 1:  Loss:     0.2696 Validation Accuracy: 0.925676\n",
      "Epoch 23, CIFAR-10 Batch 1:  Loss:     0.2938 Validation Accuracy: 0.908784\n",
      "Epoch 24, CIFAR-10 Batch 1:  Loss:     0.2689 Validation Accuracy: 0.929054\n",
      "Epoch 25, CIFAR-10 Batch 1:  Loss:     0.1907 Validation Accuracy: 0.959459\n",
      "Epoch 26, CIFAR-10 Batch 1:  Loss:     0.1856 Validation Accuracy: 0.939189\n",
      "Epoch 27, CIFAR-10 Batch 1:  Loss:     0.1333 Validation Accuracy: 0.979730\n",
      "Epoch 28, CIFAR-10 Batch 1:  Loss:     0.1889 Validation Accuracy: 0.939189\n",
      "Epoch 29, CIFAR-10 Batch 1:  Loss:     0.1833 Validation Accuracy: 0.945946\n",
      "Epoch 30, CIFAR-10 Batch 1:  Loss:     0.2074 Validation Accuracy: 0.932432\n",
      "Epoch 31, CIFAR-10 Batch 1:  Loss:     0.1319 Validation Accuracy: 0.966216\n",
      "Epoch 32, CIFAR-10 Batch 1:  Loss:     0.0792 Validation Accuracy: 0.986486\n",
      "Epoch 33, CIFAR-10 Batch 1:  Loss:     0.1316 Validation Accuracy: 0.983108\n",
      "Epoch 34, CIFAR-10 Batch 1:  Loss:     0.1341 Validation Accuracy: 0.969595\n",
      "Epoch 35, CIFAR-10 Batch 1:  Loss:     0.0816 Validation Accuracy: 0.986486\n",
      "Epoch 36, CIFAR-10 Batch 1:  Loss:     0.0447 Validation Accuracy: 1.000000\n",
      "Epoch 37, CIFAR-10 Batch 1:  Loss:     0.0468 Validation Accuracy: 0.996622\n",
      "Epoch 38, CIFAR-10 Batch 1:  Loss:     0.0719 Validation Accuracy: 0.996622\n",
      "Epoch 39, CIFAR-10 Batch 1:  Loss:     0.1249 Validation Accuracy: 0.969595\n",
      "Epoch 40, CIFAR-10 Batch 1:  Loss:     0.0351 Validation Accuracy: 0.996622\n",
      "Epoch 41, CIFAR-10 Batch 1:  Loss:     0.0239 Validation Accuracy: 0.996622\n",
      "Epoch 42, CIFAR-10 Batch 1:  Loss:     0.0149 Validation Accuracy: 1.000000\n",
      "Epoch 43, CIFAR-10 Batch 1:  Loss:     0.0129 Validation Accuracy: 1.000000\n",
      "Epoch 44, CIFAR-10 Batch 1:  Loss:     0.0141 Validation Accuracy: 1.000000\n",
      "Epoch 45, CIFAR-10 Batch 1:  Loss:     0.0085 Validation Accuracy: 1.000000\n",
      "Epoch 46, CIFAR-10 Batch 1:  Loss:     0.0108 Validation Accuracy: 1.000000\n",
      "Epoch 47, CIFAR-10 Batch 1:  Loss:     0.0384 Validation Accuracy: 0.993243\n",
      "Epoch 48, CIFAR-10 Batch 1:  Loss:     0.0300 Validation Accuracy: 0.996622\n",
      "Epoch 49, CIFAR-10 Batch 1:  Loss:     0.0233 Validation Accuracy: 0.996622\n",
      "Epoch 50, CIFAR-10 Batch 1:  Loss:     0.0137 Validation Accuracy: 1.000000\n"
     ]
    }
   ],
   "source": [
    "\"\"\"\n",
    "DON'T MODIFY ANYTHING IN THIS CELL\n",
    "\"\"\"\n",
    "print('Checking the Training on a Single Batch...')\n",
    "with tf.Session() as sess:\n",
    "    # Initializing the variables\n",
    "    sess.run(tf.global_variables_initializer())\n",
    "    \n",
    "    # Training cycle\n",
    "    for epoch in range(epochs):\n",
    "        batch_i = 1\n",
    "        for batch_features, batch_labels in helper.load_preprocess_training_batch(batch_i, batch_size):\n",
    "            train_neural_network(sess, optimizer, keep_probability, batch_features, batch_labels)\n",
    "        print('Epoch {:>2}, CIFAR-10 Batch {}:  '.format(epoch + 1, batch_i), end='')\n",
    "        print_stats(sess, batch_features, batch_labels, cost, accuracy)"
   ]
  },
  {
   "cell_type": "markdown",
   "metadata": {},
   "source": [
    "### Fully Train the Model\n",
    "Now that you got a good accuracy with a single CIFAR-10 batch, try it with all five batches."
   ]
  },
  {
   "cell_type": "code",
   "execution_count": 29,
   "metadata": {
    "collapsed": false
   },
   "outputs": [
    {
     "name": "stdout",
     "output_type": "stream",
     "text": [
      "Training...\n",
      "Epoch  1, CIFAR-10 Batch 1:  Loss:     2.2302 Validation Accuracy: 0.172297\n",
      "Epoch  1, CIFAR-10 Batch 2:  Loss:     2.0124 Validation Accuracy: 0.287162\n",
      "Epoch  1, CIFAR-10 Batch 3:  Loss:     1.6783 Validation Accuracy: 0.418919\n",
      "Epoch  1, CIFAR-10 Batch 4:  Loss:     1.5800 Validation Accuracy: 0.368243\n",
      "Epoch  1, CIFAR-10 Batch 5:  Loss:     1.4961 Validation Accuracy: 0.466216\n",
      "Epoch  2, CIFAR-10 Batch 1:  Loss:     1.5448 Validation Accuracy: 0.418919\n",
      "Epoch  2, CIFAR-10 Batch 2:  Loss:     1.3144 Validation Accuracy: 0.547297\n",
      "Epoch  2, CIFAR-10 Batch 3:  Loss:     1.2146 Validation Accuracy: 0.564189\n",
      "Epoch  2, CIFAR-10 Batch 4:  Loss:     1.1783 Validation Accuracy: 0.564189\n",
      "Epoch  2, CIFAR-10 Batch 5:  Loss:     1.1992 Validation Accuracy: 0.574324\n",
      "Epoch  3, CIFAR-10 Batch 1:  Loss:     1.3293 Validation Accuracy: 0.506757\n",
      "Epoch  3, CIFAR-10 Batch 2:  Loss:     1.1649 Validation Accuracy: 0.594595\n",
      "Epoch  3, CIFAR-10 Batch 3:  Loss:     1.0742 Validation Accuracy: 0.587838\n",
      "Epoch  3, CIFAR-10 Batch 4:  Loss:     1.0377 Validation Accuracy: 0.608108\n",
      "Epoch  3, CIFAR-10 Batch 5:  Loss:     1.0624 Validation Accuracy: 0.604730\n",
      "Epoch  4, CIFAR-10 Batch 1:  Loss:     1.1939 Validation Accuracy: 0.560811\n",
      "Epoch  4, CIFAR-10 Batch 2:  Loss:     1.0633 Validation Accuracy: 0.652027\n",
      "Epoch  4, CIFAR-10 Batch 3:  Loss:     0.9760 Validation Accuracy: 0.641892\n",
      "Epoch  4, CIFAR-10 Batch 4:  Loss:     0.9452 Validation Accuracy: 0.658784\n",
      "Epoch  4, CIFAR-10 Batch 5:  Loss:     0.9497 Validation Accuracy: 0.658784\n",
      "Epoch  5, CIFAR-10 Batch 1:  Loss:     1.0784 Validation Accuracy: 0.594595\n",
      "Epoch  5, CIFAR-10 Batch 2:  Loss:     0.9653 Validation Accuracy: 0.662162\n",
      "Epoch  5, CIFAR-10 Batch 3:  Loss:     0.8899 Validation Accuracy: 0.675676\n",
      "Epoch  5, CIFAR-10 Batch 4:  Loss:     0.8451 Validation Accuracy: 0.692568\n",
      "Epoch  5, CIFAR-10 Batch 5:  Loss:     0.8498 Validation Accuracy: 0.682432\n",
      "Epoch  6, CIFAR-10 Batch 1:  Loss:     0.9730 Validation Accuracy: 0.645270\n",
      "Epoch  6, CIFAR-10 Batch 2:  Loss:     0.8970 Validation Accuracy: 0.702703\n",
      "Epoch  6, CIFAR-10 Batch 3:  Loss:     0.8366 Validation Accuracy: 0.679054\n",
      "Epoch  6, CIFAR-10 Batch 4:  Loss:     0.7839 Validation Accuracy: 0.722973\n",
      "Epoch  6, CIFAR-10 Batch 5:  Loss:     0.7730 Validation Accuracy: 0.726351\n",
      "Epoch  7, CIFAR-10 Batch 1:  Loss:     0.8824 Validation Accuracy: 0.692568\n",
      "Epoch  7, CIFAR-10 Batch 2:  Loss:     0.8058 Validation Accuracy: 0.719595\n",
      "Epoch  7, CIFAR-10 Batch 3:  Loss:     0.7117 Validation Accuracy: 0.756757\n",
      "Epoch  7, CIFAR-10 Batch 4:  Loss:     0.7392 Validation Accuracy: 0.712838\n",
      "Epoch  7, CIFAR-10 Batch 5:  Loss:     0.7250 Validation Accuracy: 0.746622\n",
      "Epoch  8, CIFAR-10 Batch 1:  Loss:     0.7971 Validation Accuracy: 0.729730\n",
      "Epoch  8, CIFAR-10 Batch 2:  Loss:     0.7327 Validation Accuracy: 0.760135\n",
      "Epoch  8, CIFAR-10 Batch 3:  Loss:     0.6300 Validation Accuracy: 0.783784\n",
      "Epoch  8, CIFAR-10 Batch 4:  Loss:     0.6462 Validation Accuracy: 0.773649\n",
      "Epoch  8, CIFAR-10 Batch 5:  Loss:     0.6529 Validation Accuracy: 0.780405\n",
      "Epoch  9, CIFAR-10 Batch 1:  Loss:     0.7047 Validation Accuracy: 0.763514\n",
      "Epoch  9, CIFAR-10 Batch 2:  Loss:     0.6814 Validation Accuracy: 0.770270\n",
      "Epoch  9, CIFAR-10 Batch 3:  Loss:     0.5604 Validation Accuracy: 0.790541\n",
      "Epoch  9, CIFAR-10 Batch 4:  Loss:     0.6384 Validation Accuracy: 0.763514\n",
      "Epoch  9, CIFAR-10 Batch 5:  Loss:     0.5884 Validation Accuracy: 0.810811\n",
      "Epoch 10, CIFAR-10 Batch 1:  Loss:     0.6289 Validation Accuracy: 0.787162\n",
      "Epoch 10, CIFAR-10 Batch 2:  Loss:     0.6125 Validation Accuracy: 0.800676\n",
      "Epoch 10, CIFAR-10 Batch 3:  Loss:     0.4937 Validation Accuracy: 0.827703\n",
      "Epoch 10, CIFAR-10 Batch 4:  Loss:     0.5697 Validation Accuracy: 0.793919\n",
      "Epoch 10, CIFAR-10 Batch 5:  Loss:     0.5257 Validation Accuracy: 0.844595\n",
      "Epoch 11, CIFAR-10 Batch 1:  Loss:     0.5442 Validation Accuracy: 0.810811\n",
      "Epoch 11, CIFAR-10 Batch 2:  Loss:     0.5936 Validation Accuracy: 0.800676\n",
      "Epoch 11, CIFAR-10 Batch 3:  Loss:     0.5025 Validation Accuracy: 0.834459\n",
      "Epoch 11, CIFAR-10 Batch 4:  Loss:     0.4573 Validation Accuracy: 0.841216\n",
      "Epoch 11, CIFAR-10 Batch 5:  Loss:     0.4645 Validation Accuracy: 0.878378\n",
      "Epoch 12, CIFAR-10 Batch 1:  Loss:     0.5399 Validation Accuracy: 0.824324\n",
      "Epoch 12, CIFAR-10 Batch 2:  Loss:     0.4918 Validation Accuracy: 0.844595\n",
      "Epoch 12, CIFAR-10 Batch 3:  Loss:     0.4065 Validation Accuracy: 0.878378\n",
      "Epoch 12, CIFAR-10 Batch 4:  Loss:     0.3995 Validation Accuracy: 0.888514\n",
      "Epoch 12, CIFAR-10 Batch 5:  Loss:     0.3714 Validation Accuracy: 0.902027\n",
      "Epoch 13, CIFAR-10 Batch 1:  Loss:     0.4337 Validation Accuracy: 0.871622\n",
      "Epoch 13, CIFAR-10 Batch 2:  Loss:     0.4014 Validation Accuracy: 0.871622\n",
      "Epoch 13, CIFAR-10 Batch 3:  Loss:     0.3373 Validation Accuracy: 0.898649\n",
      "Epoch 13, CIFAR-10 Batch 4:  Loss:     0.3503 Validation Accuracy: 0.902027\n",
      "Epoch 13, CIFAR-10 Batch 5:  Loss:     0.3275 Validation Accuracy: 0.902027\n",
      "Epoch 14, CIFAR-10 Batch 1:  Loss:     0.3721 Validation Accuracy: 0.878378\n",
      "Epoch 14, CIFAR-10 Batch 2:  Loss:     0.3352 Validation Accuracy: 0.912162\n",
      "Epoch 14, CIFAR-10 Batch 3:  Loss:     0.2616 Validation Accuracy: 0.918919\n",
      "Epoch 14, CIFAR-10 Batch 4:  Loss:     0.3043 Validation Accuracy: 0.915541\n",
      "Epoch 14, CIFAR-10 Batch 5:  Loss:     0.2706 Validation Accuracy: 0.935811\n",
      "Epoch 15, CIFAR-10 Batch 1:  Loss:     0.2864 Validation Accuracy: 0.918919\n",
      "Epoch 15, CIFAR-10 Batch 2:  Loss:     0.2626 Validation Accuracy: 0.929054\n",
      "Epoch 15, CIFAR-10 Batch 3:  Loss:     0.2168 Validation Accuracy: 0.935811\n",
      "Epoch 15, CIFAR-10 Batch 4:  Loss:     0.2591 Validation Accuracy: 0.935811\n",
      "Epoch 15, CIFAR-10 Batch 5:  Loss:     0.2325 Validation Accuracy: 0.949324\n",
      "Epoch 16, CIFAR-10 Batch 1:  Loss:     0.2481 Validation Accuracy: 0.935811\n",
      "Epoch 16, CIFAR-10 Batch 2:  Loss:     0.2332 Validation Accuracy: 0.935811\n",
      "Epoch 16, CIFAR-10 Batch 3:  Loss:     0.2094 Validation Accuracy: 0.939189\n",
      "Epoch 16, CIFAR-10 Batch 4:  Loss:     0.2485 Validation Accuracy: 0.929054\n",
      "Epoch 16, CIFAR-10 Batch 5:  Loss:     0.2189 Validation Accuracy: 0.952703\n",
      "Epoch 17, CIFAR-10 Batch 1:  Loss:     0.2290 Validation Accuracy: 0.932432\n",
      "Epoch 17, CIFAR-10 Batch 2:  Loss:     0.2368 Validation Accuracy: 0.929054\n",
      "Epoch 17, CIFAR-10 Batch 3:  Loss:     0.1886 Validation Accuracy: 0.945946\n",
      "Epoch 17, CIFAR-10 Batch 4:  Loss:     0.2275 Validation Accuracy: 0.956081\n",
      "Epoch 17, CIFAR-10 Batch 5:  Loss:     0.2419 Validation Accuracy: 0.952703\n",
      "Epoch 18, CIFAR-10 Batch 1:  Loss:     0.2358 Validation Accuracy: 0.932432\n",
      "Epoch 18, CIFAR-10 Batch 2:  Loss:     0.3000 Validation Accuracy: 0.915541\n",
      "Epoch 18, CIFAR-10 Batch 3:  Loss:     0.2171 Validation Accuracy: 0.942568\n",
      "Epoch 18, CIFAR-10 Batch 4:  Loss:     0.2307 Validation Accuracy: 0.942568\n",
      "Epoch 18, CIFAR-10 Batch 5:  Loss:     0.1959 Validation Accuracy: 0.956081\n",
      "Epoch 19, CIFAR-10 Batch 1:  Loss:     0.2031 Validation Accuracy: 0.952703\n",
      "Epoch 19, CIFAR-10 Batch 2:  Loss:     0.2172 Validation Accuracy: 0.932432\n",
      "Epoch 19, CIFAR-10 Batch 3:  Loss:     0.1798 Validation Accuracy: 0.949324\n",
      "Epoch 19, CIFAR-10 Batch 4:  Loss:     0.2441 Validation Accuracy: 0.929054\n",
      "Epoch 19, CIFAR-10 Batch 5:  Loss:     0.1514 Validation Accuracy: 0.972973\n",
      "Epoch 20, CIFAR-10 Batch 1:  Loss:     0.1912 Validation Accuracy: 0.945946\n",
      "Epoch 20, CIFAR-10 Batch 2:  Loss:     0.1741 Validation Accuracy: 0.959459\n",
      "Epoch 20, CIFAR-10 Batch 3:  Loss:     0.1360 Validation Accuracy: 0.972973\n",
      "Epoch 20, CIFAR-10 Batch 4:  Loss:     0.1497 Validation Accuracy: 0.959459\n",
      "Epoch 20, CIFAR-10 Batch 5:  Loss:     0.1510 Validation Accuracy: 0.969595\n",
      "Epoch 21, CIFAR-10 Batch 1:  Loss:     0.1683 Validation Accuracy: 0.959459\n",
      "Epoch 21, CIFAR-10 Batch 2:  Loss:     0.1518 Validation Accuracy: 0.972973\n",
      "Epoch 21, CIFAR-10 Batch 3:  Loss:     0.1066 Validation Accuracy: 0.983108\n",
      "Epoch 21, CIFAR-10 Batch 4:  Loss:     0.1220 Validation Accuracy: 0.972973\n",
      "Epoch 21, CIFAR-10 Batch 5:  Loss:     0.1064 Validation Accuracy: 0.972973\n",
      "Epoch 22, CIFAR-10 Batch 1:  Loss:     0.1653 Validation Accuracy: 0.959459\n",
      "Epoch 22, CIFAR-10 Batch 2:  Loss:     0.1293 Validation Accuracy: 0.979730\n",
      "Epoch 22, CIFAR-10 Batch 3:  Loss:     0.1267 Validation Accuracy: 0.966216\n",
      "Epoch 22, CIFAR-10 Batch 4:  Loss:     0.1334 Validation Accuracy: 0.969595\n",
      "Epoch 22, CIFAR-10 Batch 5:  Loss:     0.0963 Validation Accuracy: 0.983108\n",
      "Epoch 23, CIFAR-10 Batch 1:  Loss:     0.1456 Validation Accuracy: 0.959459\n",
      "Epoch 23, CIFAR-10 Batch 2:  Loss:     0.1228 Validation Accuracy: 0.969595\n",
      "Epoch 23, CIFAR-10 Batch 3:  Loss:     0.0663 Validation Accuracy: 0.989865\n",
      "Epoch 23, CIFAR-10 Batch 4:  Loss:     0.0851 Validation Accuracy: 0.983108\n",
      "Epoch 23, CIFAR-10 Batch 5:  Loss:     0.0722 Validation Accuracy: 0.983108\n",
      "Epoch 24, CIFAR-10 Batch 1:  Loss:     0.1189 Validation Accuracy: 0.969595\n",
      "Epoch 24, CIFAR-10 Batch 2:  Loss:     0.1196 Validation Accuracy: 0.983108\n",
      "Epoch 24, CIFAR-10 Batch 3:  Loss:     0.0564 Validation Accuracy: 0.986486\n",
      "Epoch 24, CIFAR-10 Batch 4:  Loss:     0.0576 Validation Accuracy: 0.986486\n",
      "Epoch 24, CIFAR-10 Batch 5:  Loss:     0.0547 Validation Accuracy: 0.996622\n",
      "Epoch 25, CIFAR-10 Batch 1:  Loss:     0.0732 Validation Accuracy: 0.986486\n",
      "Epoch 25, CIFAR-10 Batch 2:  Loss:     0.1037 Validation Accuracy: 0.979730\n",
      "Epoch 25, CIFAR-10 Batch 3:  Loss:     0.0523 Validation Accuracy: 0.989865\n",
      "Epoch 25, CIFAR-10 Batch 4:  Loss:     0.0634 Validation Accuracy: 0.979730\n",
      "Epoch 25, CIFAR-10 Batch 5:  Loss:     0.0465 Validation Accuracy: 1.000000\n",
      "Epoch 26, CIFAR-10 Batch 1:  Loss:     0.0552 Validation Accuracy: 0.989865\n",
      "Epoch 26, CIFAR-10 Batch 2:  Loss:     0.0726 Validation Accuracy: 0.993243\n",
      "Epoch 26, CIFAR-10 Batch 3:  Loss:     0.0693 Validation Accuracy: 0.986486\n",
      "Epoch 26, CIFAR-10 Batch 4:  Loss:     0.0411 Validation Accuracy: 0.993243\n",
      "Epoch 26, CIFAR-10 Batch 5:  Loss:     0.0520 Validation Accuracy: 0.986486\n",
      "Epoch 27, CIFAR-10 Batch 1:  Loss:     0.0761 Validation Accuracy: 0.979730\n",
      "Epoch 27, CIFAR-10 Batch 2:  Loss:     0.0948 Validation Accuracy: 0.976351\n",
      "Epoch 27, CIFAR-10 Batch 3:  Loss:     0.0977 Validation Accuracy: 0.979730\n",
      "Epoch 27, CIFAR-10 Batch 4:  Loss:     0.0826 Validation Accuracy: 0.972973\n",
      "Epoch 27, CIFAR-10 Batch 5:  Loss:     0.0428 Validation Accuracy: 0.996622\n",
      "Epoch 28, CIFAR-10 Batch 1:  Loss:     0.0562 Validation Accuracy: 0.979730\n",
      "Epoch 28, CIFAR-10 Batch 2:  Loss:     0.0694 Validation Accuracy: 0.983108\n",
      "Epoch 28, CIFAR-10 Batch 3:  Loss:     0.0369 Validation Accuracy: 0.993243\n",
      "Epoch 28, CIFAR-10 Batch 4:  Loss:     0.0641 Validation Accuracy: 0.979730\n",
      "Epoch 28, CIFAR-10 Batch 5:  Loss:     0.0323 Validation Accuracy: 0.993243\n",
      "Epoch 29, CIFAR-10 Batch 1:  Loss:     0.0478 Validation Accuracy: 0.989865\n",
      "Epoch 29, CIFAR-10 Batch 2:  Loss:     0.0585 Validation Accuracy: 0.986486\n",
      "Epoch 29, CIFAR-10 Batch 3:  Loss:     0.0332 Validation Accuracy: 0.996622\n",
      "Epoch 29, CIFAR-10 Batch 4:  Loss:     0.0394 Validation Accuracy: 0.989865\n",
      "Epoch 29, CIFAR-10 Batch 5:  Loss:     0.0235 Validation Accuracy: 1.000000\n",
      "Epoch 30, CIFAR-10 Batch 1:  Loss:     0.0308 Validation Accuracy: 0.996622\n",
      "Epoch 30, CIFAR-10 Batch 2:  Loss:     0.0463 Validation Accuracy: 0.989865\n",
      "Epoch 30, CIFAR-10 Batch 3:  Loss:     0.0216 Validation Accuracy: 0.996622\n",
      "Epoch 30, CIFAR-10 Batch 4:  Loss:     0.0286 Validation Accuracy: 0.996622\n",
      "Epoch 30, CIFAR-10 Batch 5:  Loss:     0.0284 Validation Accuracy: 0.996622\n",
      "Epoch 31, CIFAR-10 Batch 1:  Loss:     0.0374 Validation Accuracy: 1.000000\n",
      "Epoch 31, CIFAR-10 Batch 2:  Loss:     0.0360 Validation Accuracy: 0.993243\n",
      "Epoch 31, CIFAR-10 Batch 3:  Loss:     0.0237 Validation Accuracy: 0.996622\n",
      "Epoch 31, CIFAR-10 Batch 4:  Loss:     0.0212 Validation Accuracy: 0.996622\n",
      "Epoch 31, CIFAR-10 Batch 5:  Loss:     0.0212 Validation Accuracy: 1.000000\n",
      "Epoch 32, CIFAR-10 Batch 1:  Loss:     0.0196 Validation Accuracy: 1.000000\n",
      "Epoch 32, CIFAR-10 Batch 2:  Loss:     0.0306 Validation Accuracy: 0.989865\n",
      "Epoch 32, CIFAR-10 Batch 3:  Loss:     0.0274 Validation Accuracy: 1.000000\n",
      "Epoch 32, CIFAR-10 Batch 4:  Loss:     0.0184 Validation Accuracy: 0.996622\n",
      "Epoch 32, CIFAR-10 Batch 5:  Loss:     0.0271 Validation Accuracy: 0.996622\n",
      "Epoch 33, CIFAR-10 Batch 1:  Loss:     0.0314 Validation Accuracy: 0.989865\n",
      "Epoch 33, CIFAR-10 Batch 2:  Loss:     0.0336 Validation Accuracy: 0.993243\n",
      "Epoch 33, CIFAR-10 Batch 3:  Loss:     0.0195 Validation Accuracy: 1.000000\n",
      "Epoch 33, CIFAR-10 Batch 4:  Loss:     0.0329 Validation Accuracy: 0.996622\n",
      "Epoch 33, CIFAR-10 Batch 5:  Loss:     0.0244 Validation Accuracy: 0.996622\n",
      "Epoch 34, CIFAR-10 Batch 1:  Loss:     0.0182 Validation Accuracy: 1.000000\n",
      "Epoch 34, CIFAR-10 Batch 2:  Loss:     0.0226 Validation Accuracy: 0.996622\n",
      "Epoch 34, CIFAR-10 Batch 3:  Loss:     0.0191 Validation Accuracy: 1.000000\n",
      "Epoch 34, CIFAR-10 Batch 4:  Loss:     0.0186 Validation Accuracy: 0.996622\n",
      "Epoch 34, CIFAR-10 Batch 5:  Loss:     0.0181 Validation Accuracy: 1.000000\n",
      "Epoch 35, CIFAR-10 Batch 1:  Loss:     0.0170 Validation Accuracy: 0.996622\n",
      "Epoch 35, CIFAR-10 Batch 2:  Loss:     0.0231 Validation Accuracy: 0.996622\n",
      "Epoch 35, CIFAR-10 Batch 3:  Loss:     0.0126 Validation Accuracy: 1.000000\n",
      "Epoch 35, CIFAR-10 Batch 4:  Loss:     0.0232 Validation Accuracy: 0.996622\n",
      "Epoch 35, CIFAR-10 Batch 5:  Loss:     0.0241 Validation Accuracy: 0.993243\n",
      "Epoch 36, CIFAR-10 Batch 1:  Loss:     0.0187 Validation Accuracy: 1.000000\n",
      "Epoch 36, CIFAR-10 Batch 2:  Loss:     0.0113 Validation Accuracy: 1.000000\n",
      "Epoch 36, CIFAR-10 Batch 3:  Loss:     0.0138 Validation Accuracy: 1.000000\n",
      "Epoch 36, CIFAR-10 Batch 4:  Loss:     0.0222 Validation Accuracy: 0.993243\n",
      "Epoch 36, CIFAR-10 Batch 5:  Loss:     0.0125 Validation Accuracy: 1.000000\n",
      "Epoch 37, CIFAR-10 Batch 1:  Loss:     0.0131 Validation Accuracy: 1.000000\n",
      "Epoch 37, CIFAR-10 Batch 2:  Loss:     0.0130 Validation Accuracy: 1.000000\n",
      "Epoch 37, CIFAR-10 Batch 3:  Loss:     0.0144 Validation Accuracy: 1.000000\n",
      "Epoch 37, CIFAR-10 Batch 4:  Loss:     0.0075 Validation Accuracy: 1.000000\n",
      "Epoch 37, CIFAR-10 Batch 5:  Loss:     0.0284 Validation Accuracy: 0.996622\n",
      "Epoch 38, CIFAR-10 Batch 1:  Loss:     0.0194 Validation Accuracy: 1.000000\n",
      "Epoch 38, CIFAR-10 Batch 2:  Loss:     0.0179 Validation Accuracy: 0.996622\n",
      "Epoch 38, CIFAR-10 Batch 3:  Loss:     0.0088 Validation Accuracy: 1.000000\n",
      "Epoch 38, CIFAR-10 Batch 4:  Loss:     0.0126 Validation Accuracy: 0.996622\n",
      "Epoch 38, CIFAR-10 Batch 5:  Loss:     0.0088 Validation Accuracy: 1.000000\n",
      "Epoch 39, CIFAR-10 Batch 1:  Loss:     0.0116 Validation Accuracy: 0.996622\n",
      "Epoch 39, CIFAR-10 Batch 2:  Loss:     0.0147 Validation Accuracy: 0.996622\n",
      "Epoch 39, CIFAR-10 Batch 3:  Loss:     0.0083 Validation Accuracy: 1.000000\n",
      "Epoch 39, CIFAR-10 Batch 4:  Loss:     0.0068 Validation Accuracy: 1.000000\n",
      "Epoch 39, CIFAR-10 Batch 5:  Loss:     0.0093 Validation Accuracy: 1.000000\n",
      "Epoch 40, CIFAR-10 Batch 1:  Loss:     0.0062 Validation Accuracy: 1.000000\n",
      "Epoch 40, CIFAR-10 Batch 2:  Loss:     0.0066 Validation Accuracy: 1.000000\n",
      "Epoch 40, CIFAR-10 Batch 3:  Loss:     0.0054 Validation Accuracy: 1.000000\n",
      "Epoch 40, CIFAR-10 Batch 4:  Loss:     0.0044 Validation Accuracy: 1.000000\n",
      "Epoch 40, CIFAR-10 Batch 5:  Loss:     0.0032 Validation Accuracy: 1.000000\n",
      "Epoch 41, CIFAR-10 Batch 1:  Loss:     0.0041 Validation Accuracy: 1.000000\n",
      "Epoch 41, CIFAR-10 Batch 2:  Loss:     0.0105 Validation Accuracy: 1.000000\n",
      "Epoch 41, CIFAR-10 Batch 3:  Loss:     0.0074 Validation Accuracy: 1.000000\n",
      "Epoch 41, CIFAR-10 Batch 4:  Loss:     0.0047 Validation Accuracy: 1.000000\n",
      "Epoch 41, CIFAR-10 Batch 5:  Loss:     0.0058 Validation Accuracy: 1.000000\n",
      "Epoch 42, CIFAR-10 Batch 1:  Loss:     0.0043 Validation Accuracy: 1.000000\n",
      "Epoch 42, CIFAR-10 Batch 2:  Loss:     0.0081 Validation Accuracy: 1.000000\n",
      "Epoch 42, CIFAR-10 Batch 3:  Loss:     0.0091 Validation Accuracy: 0.996622\n",
      "Epoch 42, CIFAR-10 Batch 4:  Loss:     0.0063 Validation Accuracy: 1.000000\n",
      "Epoch 42, CIFAR-10 Batch 5:  Loss:     0.0060 Validation Accuracy: 1.000000\n",
      "Epoch 43, CIFAR-10 Batch 1:  Loss:     0.0077 Validation Accuracy: 1.000000\n",
      "Epoch 43, CIFAR-10 Batch 2:  Loss:     0.0099 Validation Accuracy: 1.000000\n",
      "Epoch 43, CIFAR-10 Batch 3:  Loss:     0.0065 Validation Accuracy: 1.000000\n",
      "Epoch 43, CIFAR-10 Batch 4:  Loss:     0.0066 Validation Accuracy: 1.000000\n",
      "Epoch 43, CIFAR-10 Batch 5:  Loss:     0.0043 Validation Accuracy: 1.000000\n",
      "Epoch 44, CIFAR-10 Batch 1:  Loss:     0.0047 Validation Accuracy: 1.000000\n",
      "Epoch 44, CIFAR-10 Batch 2:  Loss:     0.0061 Validation Accuracy: 1.000000\n",
      "Epoch 44, CIFAR-10 Batch 3:  Loss:     0.0053 Validation Accuracy: 1.000000\n",
      "Epoch 44, CIFAR-10 Batch 4:  Loss:     0.0055 Validation Accuracy: 1.000000\n",
      "Epoch 44, CIFAR-10 Batch 5:  Loss:     0.0064 Validation Accuracy: 1.000000\n",
      "Epoch 45, CIFAR-10 Batch 1:  Loss:     0.0065 Validation Accuracy: 0.996622\n",
      "Epoch 45, CIFAR-10 Batch 2:  Loss:     0.0053 Validation Accuracy: 1.000000\n",
      "Epoch 45, CIFAR-10 Batch 3:  Loss:     0.0055 Validation Accuracy: 1.000000\n",
      "Epoch 45, CIFAR-10 Batch 4:  Loss:     0.0061 Validation Accuracy: 0.996622\n",
      "Epoch 45, CIFAR-10 Batch 5:  Loss:     0.0044 Validation Accuracy: 1.000000\n",
      "Epoch 46, CIFAR-10 Batch 1:  Loss:     0.0066 Validation Accuracy: 1.000000\n",
      "Epoch 46, CIFAR-10 Batch 2:  Loss:     0.0150 Validation Accuracy: 0.996622\n",
      "Epoch 46, CIFAR-10 Batch 3:  Loss:     0.0038 Validation Accuracy: 1.000000\n",
      "Epoch 46, CIFAR-10 Batch 4:  Loss:     0.0055 Validation Accuracy: 1.000000\n",
      "Epoch 46, CIFAR-10 Batch 5:  Loss:     0.0087 Validation Accuracy: 0.996622\n",
      "Epoch 47, CIFAR-10 Batch 1:  Loss:     0.0098 Validation Accuracy: 1.000000\n",
      "Epoch 47, CIFAR-10 Batch 2:  Loss:     0.0020 Validation Accuracy: 1.000000\n",
      "Epoch 47, CIFAR-10 Batch 3:  Loss:     0.0047 Validation Accuracy: 1.000000\n",
      "Epoch 47, CIFAR-10 Batch 4:  Loss:     0.0064 Validation Accuracy: 0.996622\n",
      "Epoch 47, CIFAR-10 Batch 5:  Loss:     0.0049 Validation Accuracy: 1.000000\n",
      "Epoch 48, CIFAR-10 Batch 1:  Loss:     0.0089 Validation Accuracy: 0.996622\n",
      "Epoch 48, CIFAR-10 Batch 2:  Loss:     0.0045 Validation Accuracy: 1.000000\n",
      "Epoch 48, CIFAR-10 Batch 3:  Loss:     0.0069 Validation Accuracy: 0.996622\n",
      "Epoch 48, CIFAR-10 Batch 4:  Loss:     0.0033 Validation Accuracy: 1.000000\n",
      "Epoch 48, CIFAR-10 Batch 5:  Loss:     0.0056 Validation Accuracy: 0.996622\n",
      "Epoch 49, CIFAR-10 Batch 1:  Loss:     0.0055 Validation Accuracy: 1.000000\n",
      "Epoch 49, CIFAR-10 Batch 2:  Loss:     0.0072 Validation Accuracy: 1.000000\n",
      "Epoch 49, CIFAR-10 Batch 3:  Loss:     0.0058 Validation Accuracy: 1.000000\n",
      "Epoch 49, CIFAR-10 Batch 4:  Loss:     0.0047 Validation Accuracy: 1.000000\n",
      "Epoch 49, CIFAR-10 Batch 5:  Loss:     0.0051 Validation Accuracy: 1.000000\n",
      "Epoch 50, CIFAR-10 Batch 1:  Loss:     0.0061 Validation Accuracy: 1.000000\n",
      "Epoch 50, CIFAR-10 Batch 2:  Loss:     0.0024 Validation Accuracy: 1.000000\n",
      "Epoch 50, CIFAR-10 Batch 3:  Loss:     0.0019 Validation Accuracy: 1.000000\n",
      "Epoch 50, CIFAR-10 Batch 4:  Loss:     0.0029 Validation Accuracy: 1.000000\n",
      "Epoch 50, CIFAR-10 Batch 5:  Loss:     0.0042 Validation Accuracy: 1.000000\n",
      "Epoch 51, CIFAR-10 Batch 1:  Loss:     0.0023 Validation Accuracy: 1.000000\n",
      "Epoch 51, CIFAR-10 Batch 2:  Loss:     0.0027 Validation Accuracy: 1.000000\n",
      "Epoch 51, CIFAR-10 Batch 3:  Loss:     0.0029 Validation Accuracy: 1.000000\n",
      "Epoch 51, CIFAR-10 Batch 4:  Loss:     0.0029 Validation Accuracy: 1.000000\n",
      "Epoch 51, CIFAR-10 Batch 5:  Loss:     0.0024 Validation Accuracy: 1.000000\n",
      "Epoch 52, CIFAR-10 Batch 1:  Loss:     0.0096 Validation Accuracy: 0.996622\n",
      "Epoch 52, CIFAR-10 Batch 2:  Loss:     0.0025 Validation Accuracy: 1.000000\n",
      "Epoch 52, CIFAR-10 Batch 3:  Loss:     0.0026 Validation Accuracy: 1.000000\n",
      "Epoch 52, CIFAR-10 Batch 4:  Loss:     0.0054 Validation Accuracy: 1.000000\n",
      "Epoch 52, CIFAR-10 Batch 5:  Loss:     0.0029 Validation Accuracy: 1.000000\n",
      "Epoch 53, CIFAR-10 Batch 1:  Loss:     0.0054 Validation Accuracy: 0.996622\n",
      "Epoch 53, CIFAR-10 Batch 2:  Loss:     0.0022 Validation Accuracy: 1.000000\n",
      "Epoch 53, CIFAR-10 Batch 3:  Loss:     0.0023 Validation Accuracy: 1.000000\n",
      "Epoch 53, CIFAR-10 Batch 4:  Loss:     0.0024 Validation Accuracy: 1.000000\n",
      "Epoch 53, CIFAR-10 Batch 5:  Loss:     0.0017 Validation Accuracy: 1.000000\n",
      "Epoch 54, CIFAR-10 Batch 1:  Loss:     0.0022 Validation Accuracy: 1.000000\n",
      "Epoch 54, CIFAR-10 Batch 2:  Loss:     0.0014 Validation Accuracy: 1.000000\n",
      "Epoch 54, CIFAR-10 Batch 3:  Loss:     0.0043 Validation Accuracy: 1.000000\n",
      "Epoch 54, CIFAR-10 Batch 4:  Loss:     0.0097 Validation Accuracy: 0.996622\n",
      "Epoch 54, CIFAR-10 Batch 5:  Loss:     0.0050 Validation Accuracy: 1.000000\n",
      "Epoch 55, CIFAR-10 Batch 1:  Loss:     0.0031 Validation Accuracy: 1.000000\n",
      "Epoch 55, CIFAR-10 Batch 2:  Loss:     0.0052 Validation Accuracy: 1.000000\n",
      "Epoch 55, CIFAR-10 Batch 3:  Loss:     0.0024 Validation Accuracy: 1.000000\n",
      "Epoch 55, CIFAR-10 Batch 4:  Loss:     0.0050 Validation Accuracy: 1.000000\n",
      "Epoch 55, CIFAR-10 Batch 5:  Loss:     0.0067 Validation Accuracy: 1.000000\n",
      "Epoch 56, CIFAR-10 Batch 1:  Loss:     0.0029 Validation Accuracy: 1.000000\n",
      "Epoch 56, CIFAR-10 Batch 2:  Loss:     0.0036 Validation Accuracy: 1.000000\n",
      "Epoch 56, CIFAR-10 Batch 3:  Loss:     0.0022 Validation Accuracy: 1.000000\n",
      "Epoch 56, CIFAR-10 Batch 4:  Loss:     0.0031 Validation Accuracy: 1.000000\n",
      "Epoch 56, CIFAR-10 Batch 5:  Loss:     0.0021 Validation Accuracy: 1.000000\n",
      "Epoch 57, CIFAR-10 Batch 1:  Loss:     0.0043 Validation Accuracy: 1.000000\n",
      "Epoch 57, CIFAR-10 Batch 2:  Loss:     0.0070 Validation Accuracy: 1.000000\n",
      "Epoch 57, CIFAR-10 Batch 3:  Loss:     0.0023 Validation Accuracy: 1.000000\n",
      "Epoch 57, CIFAR-10 Batch 4:  Loss:     0.0028 Validation Accuracy: 1.000000\n",
      "Epoch 57, CIFAR-10 Batch 5:  Loss:     0.0020 Validation Accuracy: 1.000000\n",
      "Epoch 58, CIFAR-10 Batch 1:  Loss:     0.0031 Validation Accuracy: 1.000000\n",
      "Epoch 58, CIFAR-10 Batch 2:  Loss:     0.0035 Validation Accuracy: 1.000000\n",
      "Epoch 58, CIFAR-10 Batch 3:  Loss:     0.0047 Validation Accuracy: 1.000000\n",
      "Epoch 58, CIFAR-10 Batch 4:  Loss:     0.0056 Validation Accuracy: 1.000000\n",
      "Epoch 58, CIFAR-10 Batch 5:  Loss:     0.0035 Validation Accuracy: 1.000000\n",
      "Epoch 59, CIFAR-10 Batch 1:  Loss:     0.0044 Validation Accuracy: 1.000000\n",
      "Epoch 59, CIFAR-10 Batch 2:  Loss:     0.0037 Validation Accuracy: 1.000000\n",
      "Epoch 59, CIFAR-10 Batch 3:  Loss:     0.0020 Validation Accuracy: 1.000000\n",
      "Epoch 59, CIFAR-10 Batch 4:  Loss:     0.0022 Validation Accuracy: 1.000000\n",
      "Epoch 59, CIFAR-10 Batch 5:  Loss:     0.0022 Validation Accuracy: 1.000000\n",
      "Epoch 60, CIFAR-10 Batch 1:  Loss:     0.0054 Validation Accuracy: 1.000000\n",
      "Epoch 60, CIFAR-10 Batch 2:  Loss:     0.0021 Validation Accuracy: 1.000000\n",
      "Epoch 60, CIFAR-10 Batch 3:  Loss:     0.0027 Validation Accuracy: 1.000000\n",
      "Epoch 60, CIFAR-10 Batch 4:  Loss:     0.0043 Validation Accuracy: 1.000000\n",
      "Epoch 60, CIFAR-10 Batch 5:  Loss:     0.0018 Validation Accuracy: 1.000000\n",
      "Epoch 61, CIFAR-10 Batch 1:  Loss:     0.0017 Validation Accuracy: 1.000000\n",
      "Epoch 61, CIFAR-10 Batch 2:  Loss:     0.0011 Validation Accuracy: 1.000000\n",
      "Epoch 61, CIFAR-10 Batch 3:  Loss:     0.0034 Validation Accuracy: 1.000000\n",
      "Epoch 61, CIFAR-10 Batch 4:  Loss:     0.0010 Validation Accuracy: 1.000000\n",
      "Epoch 61, CIFAR-10 Batch 5:  Loss:     0.0009 Validation Accuracy: 1.000000\n",
      "Epoch 62, CIFAR-10 Batch 1:  Loss:     0.0014 Validation Accuracy: 1.000000\n",
      "Epoch 62, CIFAR-10 Batch 2:  Loss:     0.0029 Validation Accuracy: 1.000000\n",
      "Epoch 62, CIFAR-10 Batch 3:  Loss:     0.0024 Validation Accuracy: 1.000000\n",
      "Epoch 62, CIFAR-10 Batch 4:  Loss:     0.0022 Validation Accuracy: 1.000000\n",
      "Epoch 62, CIFAR-10 Batch 5:  Loss:     0.0019 Validation Accuracy: 1.000000\n",
      "Epoch 63, CIFAR-10 Batch 1:  Loss:     0.0009 Validation Accuracy: 1.000000\n",
      "Epoch 63, CIFAR-10 Batch 2:  Loss:     0.0030 Validation Accuracy: 1.000000\n",
      "Epoch 63, CIFAR-10 Batch 3:  Loss:     0.0008 Validation Accuracy: 1.000000\n",
      "Epoch 63, CIFAR-10 Batch 4:  Loss:     0.0046 Validation Accuracy: 0.996622\n",
      "Epoch 63, CIFAR-10 Batch 5:  Loss:     0.0021 Validation Accuracy: 1.000000\n",
      "Epoch 64, CIFAR-10 Batch 1:  Loss:     0.0011 Validation Accuracy: 1.000000\n",
      "Epoch 64, CIFAR-10 Batch 2:  Loss:     0.0012 Validation Accuracy: 1.000000\n",
      "Epoch 64, CIFAR-10 Batch 3:  Loss:     0.0015 Validation Accuracy: 1.000000\n",
      "Epoch 64, CIFAR-10 Batch 4:  Loss:     0.0029 Validation Accuracy: 1.000000\n",
      "Epoch 64, CIFAR-10 Batch 5:  Loss:     0.0035 Validation Accuracy: 1.000000\n",
      "Epoch 65, CIFAR-10 Batch 1:  Loss:     0.0034 Validation Accuracy: 1.000000\n",
      "Epoch 65, CIFAR-10 Batch 2:  Loss:     0.0010 Validation Accuracy: 1.000000\n",
      "Epoch 65, CIFAR-10 Batch 3:  Loss:     0.0032 Validation Accuracy: 1.000000\n",
      "Epoch 65, CIFAR-10 Batch 4:  Loss:     0.0024 Validation Accuracy: 1.000000\n",
      "Epoch 65, CIFAR-10 Batch 5:  Loss:     0.0025 Validation Accuracy: 1.000000\n",
      "Epoch 66, CIFAR-10 Batch 1:  Loss:     0.0039 Validation Accuracy: 1.000000\n",
      "Epoch 66, CIFAR-10 Batch 2:  Loss:     0.0013 Validation Accuracy: 1.000000\n",
      "Epoch 66, CIFAR-10 Batch 3:  Loss:     0.0019 Validation Accuracy: 1.000000\n",
      "Epoch 66, CIFAR-10 Batch 4:  Loss:     0.0015 Validation Accuracy: 1.000000\n",
      "Epoch 66, CIFAR-10 Batch 5:  Loss:     0.0014 Validation Accuracy: 1.000000\n",
      "Epoch 67, CIFAR-10 Batch 1:  Loss:     0.0012 Validation Accuracy: 1.000000\n",
      "Epoch 67, CIFAR-10 Batch 2:  Loss:     0.0009 Validation Accuracy: 1.000000\n",
      "Epoch 67, CIFAR-10 Batch 3:  Loss:     0.0013 Validation Accuracy: 1.000000\n",
      "Epoch 67, CIFAR-10 Batch 4:  Loss:     0.0009 Validation Accuracy: 1.000000\n",
      "Epoch 67, CIFAR-10 Batch 5:  Loss:     0.0013 Validation Accuracy: 1.000000\n",
      "Epoch 68, CIFAR-10 Batch 1:  Loss:     0.0018 Validation Accuracy: 1.000000\n",
      "Epoch 68, CIFAR-10 Batch 2:  Loss:     0.0008 Validation Accuracy: 1.000000\n",
      "Epoch 68, CIFAR-10 Batch 3:  Loss:     0.0019 Validation Accuracy: 1.000000\n",
      "Epoch 68, CIFAR-10 Batch 4:  Loss:     0.0028 Validation Accuracy: 1.000000\n",
      "Epoch 68, CIFAR-10 Batch 5:  Loss:     0.0016 Validation Accuracy: 1.000000\n",
      "Epoch 69, CIFAR-10 Batch 1:  Loss:     0.0012 Validation Accuracy: 1.000000\n",
      "Epoch 69, CIFAR-10 Batch 2:  Loss:     0.0048 Validation Accuracy: 1.000000\n",
      "Epoch 69, CIFAR-10 Batch 3:  Loss:     0.0012 Validation Accuracy: 1.000000\n",
      "Epoch 69, CIFAR-10 Batch 4:  Loss:     0.0024 Validation Accuracy: 1.000000\n",
      "Epoch 69, CIFAR-10 Batch 5:  Loss:     0.0009 Validation Accuracy: 1.000000\n",
      "Epoch 70, CIFAR-10 Batch 1:  Loss:     0.0021 Validation Accuracy: 1.000000\n",
      "Epoch 70, CIFAR-10 Batch 2:  Loss:     0.0036 Validation Accuracy: 0.996622\n",
      "Epoch 70, CIFAR-10 Batch 3:  Loss:     0.0016 Validation Accuracy: 1.000000\n",
      "Epoch 70, CIFAR-10 Batch 4:  Loss:     0.0061 Validation Accuracy: 0.996622\n",
      "Epoch 70, CIFAR-10 Batch 5:  Loss:     0.0011 Validation Accuracy: 1.000000\n",
      "Epoch 71, CIFAR-10 Batch 1:  Loss:     0.0023 Validation Accuracy: 1.000000\n",
      "Epoch 71, CIFAR-10 Batch 2:  Loss:     0.0021 Validation Accuracy: 1.000000\n",
      "Epoch 71, CIFAR-10 Batch 3:  Loss:     0.0013 Validation Accuracy: 1.000000\n",
      "Epoch 71, CIFAR-10 Batch 4:  Loss:     0.0028 Validation Accuracy: 1.000000\n",
      "Epoch 71, CIFAR-10 Batch 5:  Loss:     0.0004 Validation Accuracy: 1.000000\n",
      "Epoch 72, CIFAR-10 Batch 1:  Loss:     0.0022 Validation Accuracy: 1.000000\n",
      "Epoch 72, CIFAR-10 Batch 2:  Loss:     0.0082 Validation Accuracy: 0.996622\n",
      "Epoch 72, CIFAR-10 Batch 3:  Loss:     0.0008 Validation Accuracy: 1.000000\n",
      "Epoch 72, CIFAR-10 Batch 4:  Loss:     0.0014 Validation Accuracy: 1.000000\n",
      "Epoch 72, CIFAR-10 Batch 5:  Loss:     0.0032 Validation Accuracy: 1.000000\n",
      "Epoch 73, CIFAR-10 Batch 1:  Loss:     0.0021 Validation Accuracy: 1.000000\n",
      "Epoch 73, CIFAR-10 Batch 2:  Loss:     0.0023 Validation Accuracy: 1.000000\n",
      "Epoch 73, CIFAR-10 Batch 3:  Loss:     0.0013 Validation Accuracy: 1.000000\n",
      "Epoch 73, CIFAR-10 Batch 4:  Loss:     0.0016 Validation Accuracy: 1.000000\n",
      "Epoch 73, CIFAR-10 Batch 5:  Loss:     0.0036 Validation Accuracy: 1.000000\n",
      "Epoch 74, CIFAR-10 Batch 1:  Loss:     0.0020 Validation Accuracy: 1.000000\n",
      "Epoch 74, CIFAR-10 Batch 2:  Loss:     0.0009 Validation Accuracy: 1.000000\n",
      "Epoch 74, CIFAR-10 Batch 3:  Loss:     0.0014 Validation Accuracy: 1.000000\n",
      "Epoch 74, CIFAR-10 Batch 4:  Loss:     0.0009 Validation Accuracy: 1.000000\n",
      "Epoch 74, CIFAR-10 Batch 5:  Loss:     0.0026 Validation Accuracy: 1.000000\n",
      "Epoch 75, CIFAR-10 Batch 1:  Loss:     0.0013 Validation Accuracy: 1.000000\n",
      "Epoch 75, CIFAR-10 Batch 2:  Loss:     0.0009 Validation Accuracy: 1.000000\n",
      "Epoch 75, CIFAR-10 Batch 3:  Loss:     0.0008 Validation Accuracy: 1.000000\n",
      "Epoch 75, CIFAR-10 Batch 4:  Loss:     0.0028 Validation Accuracy: 1.000000\n",
      "Epoch 75, CIFAR-10 Batch 5:  Loss:     0.0008 Validation Accuracy: 1.000000\n"
     ]
    }
   ],
   "source": [
    "\"\"\"\n",
    "DON'T MODIFY ANYTHING IN THIS CELL\n",
    "\"\"\"\n",
    "save_model_path = './image_classification'\n",
    "\n",
    "print('Training...')\n",
    "with tf.Session() as sess:\n",
    "    # Initializing the variables\n",
    "    sess.run(tf.global_variables_initializer())\n",
    "    \n",
    "    # Training cycle\n",
    "    for epoch in range(epochs):\n",
    "        # Loop over all batches\n",
    "        n_batches = 5\n",
    "        for batch_i in range(1, n_batches + 1):\n",
    "            for batch_features, batch_labels in helper.load_preprocess_training_batch(batch_i, batch_size):\n",
    "                train_neural_network(sess, optimizer, keep_probability, batch_features, batch_labels)\n",
    "            print('Epoch {:>2}, CIFAR-10 Batch {}:  '.format(epoch + 1, batch_i), end='')\n",
    "            print_stats(sess, batch_features, batch_labels, cost, accuracy)\n",
    "            \n",
    "    # Save Model\n",
    "    saver = tf.train.Saver()\n",
    "    save_path = saver.save(sess, save_model_path)"
   ]
  },
  {
   "cell_type": "markdown",
   "metadata": {},
   "source": [
    "# Checkpoint\n",
    "The model has been saved to disk.\n",
    "## Test Model\n",
    "Test your model against the test dataset.  This will be your final accuracy. You should have an accuracy greater than 50%. If you don't, keep tweaking the model architecture and parameters."
   ]
  },
  {
   "cell_type": "code",
   "execution_count": 31,
   "metadata": {
    "collapsed": false
   },
   "outputs": [
    {
     "name": "stdout",
     "output_type": "stream",
     "text": [
      "Testing Accuracy: 0.67734375\n",
      "\n"
     ]
    },
    {
     "data": {
      "image/png": "[encoded data removed]",
      "text/plain": [
       "<matplotlib.figure.Figure at 0x16986f15320>"
      ]
     },
     "metadata": {
      "image/png": {
       "height": 319,
       "width": 350
      }
     },
     "output_type": "display_data"
    }
   ],
   "source": [
    "\"\"\"\n",
    "DON'T MODIFY ANYTHING IN THIS CELL\n",
    "\"\"\"\n",
    "%matplotlib inline\n",
    "%config InlineBackend.figure_format = 'retina'\n",
    "\n",
    "import tensorflow as tf\n",
    "import pickle\n",
    "import helper\n",
    "import random\n",
    "\n",
    "# Set batch size if not already set\n",
    "try:\n",
    "    if batch_size:\n",
    "        pass\n",
    "except NameError:\n",
    "    batch_size = 64\n",
    "\n",
    "save_model_path = './image_classification'\n",
    "n_samples = 4\n",
    "top_n_predictions = 3\n",
    "\n",
    "def test_model():\n",
    "    \"\"\"\n",
    "    Test the saved model against the test dataset\n",
    "    \"\"\"\n",
    "\n",
    "    test_features, test_labels = pickle.load(open('preprocess_test.p', mode='rb'))\n",
    "    loaded_graph = tf.Graph()\n",
    "\n",
    "    with tf.Session(graph=loaded_graph) as sess:\n",
    "        # Load model\n",
    "        loader = tf.train.import_meta_graph(save_model_path + '.meta')\n",
    "        loader.restore(sess, save_model_path)\n",
    "\n",
    "        # Get Tensors from loaded model\n",
    "        loaded_x = loaded_graph.get_tensor_by_name('x:0')\n",
    "        loaded_y = loaded_graph.get_tensor_by_name('y:0')\n",
    "        loaded_keep_prob = loaded_graph.get_tensor_by_name('keep_prob:0')\n",
    "        loaded_logits = loaded_graph.get_tensor_by_name('logits:0')\n",
    "        loaded_acc = loaded_graph.get_tensor_by_name('accuracy:0')\n",
    "        \n",
    "        # Get accuracy in batches for memory limitations\n",
    "        test_batch_acc_total = 0\n",
    "        test_batch_count = 0\n",
    "        \n",
    "        for test_feature_batch, test_label_batch in helper.batch_features_labels(test_features, test_labels, batch_size):\n",
    "            test_batch_acc_total += sess.run(\n",
    "                loaded_acc,\n",
    "                feed_dict={loaded_x: test_feature_batch, loaded_y: test_label_batch, loaded_keep_prob: 1.0})\n",
    "            test_batch_count += 1\n",
    "\n",
    "        print('Testing Accuracy: {}\\n'.format(test_batch_acc_total/test_batch_count))\n",
    "\n",
    "        # Print Random Samples\n",
    "        random_test_features, random_test_labels = tuple(zip(*random.sample(list(zip(test_features, test_labels)), n_samples)))\n",
    "        random_test_predictions = sess.run(\n",
    "            tf.nn.top_k(tf.nn.softmax(loaded_logits), top_n_predictions),\n",
    "            feed_dict={loaded_x: random_test_features, loaded_y: random_test_labels, loaded_keep_prob: 1.0})\n",
    "        helper.display_image_predictions(random_test_features, random_test_labels, random_test_predictions)\n",
    "\n",
    "\n",
    "test_model()"
   ]
  },
  {
   "cell_type": "markdown",
   "metadata": {},
   "source": [
    "## Why 50-80% Accuracy?\n",
    "You might be wondering why you can't get an accuracy any higher. First things first, 50% isn't bad for a simple CNN.  Pure guessing would get you 10% accuracy. However, you might notice people are getting scores [well above 80%](http://rodrigob.github.io/are_we_there_yet/build/classification_datasets_results.html#43494641522d3130).  That's because we haven't taught you all there is to know about neural networks. We still need to cover a few more techniques.\n",
    "## Submitting This Project\n",
    "When submitting this project, make sure to run all the cells before saving the notebook.  Save the notebook file as \"dlnd_image_classification.ipynb\" and save it as a HTML file under \"File\" -> \"Download as\".  Include the \"helper.py\" and \"problem_unittests.py\" files in your submission."
   ]
  }
 ],
 "metadata": {
  "kernelspec": {
   "display_name": "Python 3",
   "language": "python",
   "name": "python3"
  },
  "language_info": {
   "codemirror_mode": {
    "name": "ipython",
    "version": 3
   },
   "file_extension": ".py",
   "mimetype": "text/x-python",
   "name": "python",
   "nbconvert_exporter": "python",
   "pygments_lexer": "ipython3",
   "version": "3.5.2"
  }
 },
 "nbformat": 4,
 "nbformat_minor": 1
}
