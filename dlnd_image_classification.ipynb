{
 "cells": [
  {
   "cell_type": "markdown",
   "metadata": {
    "collapsed": true
   },
   "source": [
    "# Image Classification\n",
    "In this project, you'll classify images from the [CIFAR-10 dataset](https://www.cs.toronto.edu/~kriz/cifar.html).  The dataset consists of airplanes, dogs, cats, and other objects. You'll preprocess the images, then train a convolutional neural network on all the samples. The images need to be normalized and the labels need to be one-hot encoded.  You'll get to apply what you learned and build a convolutional, max pooling, dropout, and fully connected layers.  At the end, you'll get to see your neural network's predictions on the sample images.\n",
    "## Get the Data\n",
    "Run the following cell to download the [CIFAR-10 dataset for python](https://www.cs.toronto.edu/~kriz/cifar-10-python.tar.gz)."
   ]
  },
  {
   "cell_type": "code",
   "execution_count": 1,
   "metadata": {
    "collapsed": false
   },
   "outputs": [
    {
     "name": "stdout",
     "output_type": "stream",
     "text": [
      "All files found!\n"
     ]
    }
   ],
   "source": [
    "\"\"\"\n",
    "DON'T MODIFY ANYTHING IN THIS CELL THAT IS BELOW THIS LINE\n",
    "\"\"\"\n",
    "from urllib.request import urlretrieve\n",
    "from os.path import isfile, isdir\n",
    "from tqdm import tqdm\n",
    "import problem_unittests as tests\n",
    "import tarfile\n",
    "\n",
    "cifar10_dataset_folder_path = 'cifar-10-batches-py'\n",
    "\n",
    "# Use Floyd's cifar-10 dataset if present\n",
    "floyd_cifar10_location = '/cifar/cifar-10-python.tar.gz'\n",
    "if isfile(floyd_cifar10_location):\n",
    "    tar_gz_path = floyd_cifar10_location\n",
    "else:\n",
    "    tar_gz_path = 'cifar-10-python.tar.gz'\n",
    "\n",
    "class DLProgress(tqdm):\n",
    "    last_block = 0\n",
    "\n",
    "    def hook(self, block_num=1, block_size=1, total_size=None):\n",
    "        self.total = total_size\n",
    "        self.update((block_num - self.last_block) * block_size)\n",
    "        self.last_block = block_num\n",
    "\n",
    "if not isfile(tar_gz_path):\n",
    "    with DLProgress(unit='B', unit_scale=True, miniters=1, desc='CIFAR-10 Dataset') as pbar:\n",
    "        urlretrieve(\n",
    "            'https://www.cs.toronto.edu/~kriz/cifar-10-python.tar.gz',\n",
    "            tar_gz_path,\n",
    "            pbar.hook)\n",
    "\n",
    "if not isdir(cifar10_dataset_folder_path):\n",
    "    with tarfile.open(tar_gz_path) as tar:\n",
    "        tar.extractall()\n",
    "        tar.close()\n",
    "\n",
    "\n",
    "tests.test_folder_path(cifar10_dataset_folder_path)"
   ]
  },
  {
   "cell_type": "markdown",
   "metadata": {},
   "source": [
    "## Explore the Data\n",
    "The dataset is broken into batches to prevent your machine from running out of memory.  The CIFAR-10 dataset consists of 5 batches, named `data_batch_1`, `data_batch_2`, etc.. Each batch contains the labels and images that are one of the following:\n",
    "* airplane\n",
    "* automobile\n",
    "* bird\n",
    "* cat\n",
    "* deer\n",
    "* dog\n",
    "* frog\n",
    "* horse\n",
    "* ship\n",
    "* truck\n",
    "\n",
    "Understanding a dataset is part of making predictions on the data.  Play around with the code cell below by changing the `batch_id` and `sample_id`. The `batch_id` is the id for a batch (1-5). The `sample_id` is the id for a image and label pair in the batch.\n",
    "\n",
    "Ask yourself \"What are all possible labels?\", \"What is the range of values for the image data?\", \"Are the labels in order or random?\".  Answers to questions like these will help you preprocess the data and end up with better predictions."
   ]
  },
  {
   "cell_type": "code",
   "execution_count": 2,
   "metadata": {
    "collapsed": false
   },
   "outputs": [
    {
     "name": "stdout",
     "output_type": "stream",
     "text": [
      "\n",
      "Stats of batch 4:\n",
      "Samples: 10000\n",
      "Label Counts: {0: 1003, 1: 963, 2: 1041, 3: 976, 4: 1004, 5: 1021, 6: 1004, 7: 981, 8: 1024, 9: 983}\n",
      "First 20 Labels: [0, 6, 0, 2, 7, 2, 1, 2, 4, 1, 5, 6, 6, 3, 1, 3, 5, 5, 8, 1]\n",
      "\n",
      "Example of Image 5:\n",
      "Image - Min Value: 13 Max Value: 169\n",
      "Image - Shape: (32, 32, 3)\n",
      "Label - Label Id: 2 Name: bird\n"
     ]
    },
    {
     "data": {
      "image/png": "[encoded data removed]",
      "text/plain": [
       "<matplotlib.figure.Figure at 0x21671004198>"
      ]
     },
     "metadata": {
      "image/png": {
       "height": 250,
       "width": 253
      }
     },
     "output_type": "display_data"
    }
   ],
   "source": [
    "%matplotlib inline\n",
    "%config InlineBackend.figure_format = 'retina'\n",
    "\n",
    "import helper\n",
    "import numpy as np\n",
    "\n",
    "# Explore the dataset\n",
    "batch_id = 4\n",
    "sample_id = 5\n",
    "helper.display_stats(cifar10_dataset_folder_path, batch_id, sample_id)"
   ]
  },
  {
   "cell_type": "markdown",
   "metadata": {},
   "source": [
    "## Implement Preprocess Functions\n",
    "### Normalize\n",
    "In the cell below, implement the `normalize` function to take in image data, `x`, and return it as a normalized Numpy array. The values should be in the range of 0 to 1, inclusive.  The return object should be the same shape as `x`."
   ]
  },
  {
   "cell_type": "code",
   "execution_count": 3,
   "metadata": {
    "collapsed": false
   },
   "outputs": [
    {
     "name": "stdout",
     "output_type": "stream",
     "text": [
      "Tests Passed\n"
     ]
    }
   ],
   "source": [
    "def normalize(x):\n",
    "    \"\"\"\n",
    "    Normalize a list of sample image data in the range of 0 to 1\n",
    "    : x: List of image data.  The image shape is (32, 32, 3)\n",
    "    : return: Numpy array of normalize data\n",
    "    \"\"\"\n",
    "    # TODO: Implement Function\n",
    "    return x/256\n",
    "\n",
    "\n",
    "\"\"\"\n",
    "DON'T MODIFY ANYTHING IN THIS CELL THAT IS BELOW THIS LINE\n",
    "\"\"\"\n",
    "tests.test_normalize(normalize)"
   ]
  },
  {
   "cell_type": "markdown",
   "metadata": {},
   "source": [
    "### One-hot encode\n",
    "Just like the previous code cell, you'll be implementing a function for preprocessing.  This time, you'll implement the `one_hot_encode` function. The input, `x`, are a list of labels.  Implement the function to return the list of labels as One-Hot encoded Numpy array.  The possible values for labels are 0 to 9. The one-hot encoding function should return the same encoding for each value between each call to `one_hot_encode`.  Make sure to save the map of encodings outside the function.\n",
    "\n",
    "Hint: Don't reinvent the wheel."
   ]
  },
  {
   "cell_type": "code",
   "execution_count": 4,
   "metadata": {
    "collapsed": false
   },
   "outputs": [
    {
     "name": "stdout",
     "output_type": "stream",
     "text": [
      "Tests Passed\n"
     ]
    }
   ],
   "source": [
    "def one_hot_encode(x):\n",
    "    \"\"\"\n",
    "    One hot encode a list of sample labels. Return a one-hot encoded vector for each label.\n",
    "    : x: List of sample Labels\n",
    "    : return: Numpy array of one-hot encoded labels\n",
    "    \"\"\"\n",
    "    result = np.zeros((len(x),10))\n",
    "    for i, label in enumerate(x):\n",
    "        result[i][label] = 1\n",
    "                              \n",
    "    return result\n",
    "\n",
    "\"\"\"\n",
    "DON'T MODIFY ANYTHING IN THIS CELL THAT IS BELOW THIS LINE\n",
    "\"\"\"\n",
    "tests.test_one_hot_encode(one_hot_encode)"
   ]
  },
  {
   "cell_type": "markdown",
   "metadata": {},
   "source": [
    "### Randomize Data\n",
    "As you saw from exploring the data above, the order of the samples are randomized.  It doesn't hurt to randomize it again, but you don't need to for this dataset."
   ]
  },
  {
   "cell_type": "markdown",
   "metadata": {},
   "source": [
    "## Preprocess all the data and save it\n",
    "Running the code cell below will preprocess all the CIFAR-10 data and save it to file. The code below also uses 10% of the training data for validation."
   ]
  },
  {
   "cell_type": "code",
   "execution_count": 5,
   "metadata": {
    "collapsed": false
   },
   "outputs": [
    {
     "name": "stdout",
     "output_type": "stream",
     "text": [
      "Completed\n"
     ]
    }
   ],
   "source": [
    "\"\"\"\n",
    "DON'T MODIFY ANYTHING IN THIS CELL\n",
    "\"\"\"\n",
    "# Preprocess Training, Validation, and Testing Data\n",
    "helper.preprocess_and_save_data(cifar10_dataset_folder_path, normalize, one_hot_encode)\n",
    "print(\"Completed\")"
   ]
  },
  {
   "cell_type": "markdown",
   "metadata": {},
   "source": [
    "# Check Point\n",
    "This is your first checkpoint.  If you ever decide to come back to this notebook or have to restart the notebook, you can start from here.  The preprocessed data has been saved to disk."
   ]
  },
  {
   "cell_type": "code",
   "execution_count": 1,
   "metadata": {
    "collapsed": false
   },
   "outputs": [],
   "source": [
    "\"\"\"\n",
    "DON'T MODIFY ANYTHING IN THIS CELL\n",
    "\"\"\"\n",
    "import pickle\n",
    "import problem_unittests as tests\n",
    "import helper\n",
    "\n",
    "# Load the Preprocessed Validation data\n",
    "valid_features, valid_labels = pickle.load(open('preprocess_validation.p', mode='rb'))\n",
    "\n",
    "#valid_features[:1], valid_labels[:1]"
   ]
  },
  {
   "cell_type": "markdown",
   "metadata": {},
   "source": [
    "## Build the network\n",
    "For the neural network, you'll build each layer into a function.  Most of the code you've seen has been outside of functions. To test your code more thoroughly, we require that you put each layer in a function.  This allows us to give you better feedback and test for simple mistakes using our unittests before you submit your project.\n",
    "\n",
    ">**Note:** If you're finding it hard to dedicate enough time for this course each week, we've provided a small shortcut to this part of the project. In the next couple of problems, you'll have the option to use classes from the [TensorFlow Layers](https://www.tensorflow.org/api_docs/python/tf/layers) or [TensorFlow Layers (contrib)](https://www.tensorflow.org/api_guides/python/contrib.layers) packages to build each layer, except the layers you build in the \"Convolutional and Max Pooling Layer\" section.  TF Layers is similar to Keras's and TFLearn's abstraction to layers, so it's easy to pickup.\n",
    "\n",
    ">However, if you would like to get the most out of this course, try to solve all the problems _without_ using anything from the TF Layers packages. You **can** still use classes from other packages that happen to have the same name as ones you find in TF Layers! For example, instead of using the TF Layers version of the `conv2d` class, [tf.layers.conv2d](https://www.tensorflow.org/api_docs/python/tf/layers/conv2d), you would want to use the TF Neural Network version of `conv2d`, [tf.nn.conv2d](https://www.tensorflow.org/api_docs/python/tf/nn/conv2d). \n",
    "\n",
    "Let's begin!\n",
    "\n",
    "### Input\n",
    "The neural network needs to read the image data, one-hot encoded labels, and dropout keep probability. Implement the following functions\n",
    "* Implement `neural_net_image_input`\n",
    " * Return a [TF Placeholder](https://www.tensorflow.org/api_docs/python/tf/placeholder)\n",
    " * Set the shape using `image_shape` with batch size set to `None`.\n",
    " * Name the TensorFlow placeholder \"x\" using the TensorFlow `name` parameter in the [TF Placeholder](https://www.tensorflow.org/api_docs/python/tf/placeholder).\n",
    "* Implement `neural_net_label_input`\n",
    " * Return a [TF Placeholder](https://www.tensorflow.org/api_docs/python/tf/placeholder)\n",
    " * Set the shape using `n_classes` with batch size set to `None`.\n",
    " * Name the TensorFlow placeholder \"y\" using the TensorFlow `name` parameter in the [TF Placeholder](https://www.tensorflow.org/api_docs/python/tf/placeholder).\n",
    "* Implement `neural_net_keep_prob_input`\n",
    " * Return a [TF Placeholder](https://www.tensorflow.org/api_docs/python/tf/placeholder) for dropout keep probability.\n",
    " * Name the TensorFlow placeholder \"keep_prob\" using the TensorFlow `name` parameter in the [TF Placeholder](https://www.tensorflow.org/api_docs/python/tf/placeholder).\n",
    "\n",
    "These names will be used at the end of the project to load your saved model.\n",
    "\n",
    "Note: `None` for shapes in TensorFlow allow for a dynamic size."
   ]
  },
  {
   "cell_type": "code",
   "execution_count": 2,
   "metadata": {
    "collapsed": false
   },
   "outputs": [
    {
     "name": "stdout",
     "output_type": "stream",
     "text": [
      "Image Input Tests Passed.\n",
      "Label Input Tests Passed.\n",
      "Keep Prob Tests Passed.\n"
     ]
    }
   ],
   "source": [
    "import tensorflow as tf\n",
    "\n",
    "def neural_net_image_input(image_shape):\n",
    "    \"\"\"\n",
    "    Return a Tensor for a batch of image input\n",
    "    : image_shape: Shape of the images\n",
    "    : return: Tensor for image input.\n",
    "    \"\"\"\n",
    "    # TODO: Implement Function\n",
    "    return tf.placeholder(tf.float32, shape=[None,32,32,3], name='x')\n",
    "\n",
    "\n",
    "def neural_net_label_input(n_classes):\n",
    "    \"\"\"\n",
    "    Return a Tensor for a batch of label input\n",
    "    : n_classes: Number of classes\n",
    "    : return: Tensor for label input.\n",
    "    \"\"\"\n",
    "    # TODO: Implement Function\n",
    "    return tf.placeholder(tf.uint8, shape=[None, 10], name='y')\n",
    "\n",
    "\n",
    "def neural_net_keep_prob_input():\n",
    "    \"\"\"\n",
    "    Return a Tensor for keep probability\n",
    "    : return: Tensor for keep probability.\n",
    "    \"\"\"\n",
    "    # TODO: Implement Function\n",
    "    return tf.placeholder(tf.float32, name='keep_prob')\n",
    "\n",
    "\n",
    "\"\"\"\n",
    "DON'T MODIFY ANYTHING IN THIS CELL THAT IS BELOW THIS LINE\n",
    "\"\"\"\n",
    "tf.reset_default_graph()\n",
    "tests.test_nn_image_inputs(neural_net_image_input)\n",
    "tests.test_nn_label_inputs(neural_net_label_input)\n",
    "tests.test_nn_keep_prob_inputs(neural_net_keep_prob_input)"
   ]
  },
  {
   "cell_type": "markdown",
   "metadata": {},
   "source": [
    "### Convolution and Max Pooling Layer\n",
    "Convolution layers have a lot of success with images. For this code cell, you should implement the function `conv2d_maxpool` to apply convolution then max pooling:\n",
    "* Create the weight and bias using `conv_ksize`, `conv_num_outputs` and the shape of `x_tensor`.\n",
    "* Apply a convolution to `x_tensor` using weight and `conv_strides`.\n",
    " * We recommend you use same padding, but you're welcome to use any padding.\n",
    "* Add bias\n",
    "* Add a nonlinear activation to the convolution.\n",
    "* Apply Max Pooling using `pool_ksize` and `pool_strides`.\n",
    " * We recommend you use same padding, but you're welcome to use any padding.\n",
    "\n",
    "**Note:** You **can't** use [TensorFlow Layers](https://www.tensorflow.org/api_docs/python/tf/layers) or [TensorFlow Layers (contrib)](https://www.tensorflow.org/api_guides/python/contrib.layers) for **this** layer, but you can still use TensorFlow's [Neural Network](https://www.tensorflow.org/api_docs/python/tf/nn) package. You may still use the shortcut option for all the **other** layers."
   ]
  },
  {
   "cell_type": "code",
   "execution_count": 3,
   "metadata": {
    "collapsed": false
   },
   "outputs": [
    {
     "name": "stdout",
     "output_type": "stream",
     "text": [
      "Tests Passed\n"
     ]
    }
   ],
   "source": [
    "def conv2d_maxpool(x_tensor, conv_num_outputs, conv_ksize, conv_strides, pool_ksize, pool_strides):\n",
    "    \"\"\"\n",
    "    Apply convolution then max pooling to x_tensor\n",
    "    :param x_tensor: TensorFlow Tensor\n",
    "    :param conv_num_outputs: Number of outputs for the convolutional layer\n",
    "    :param conv_ksize: kernal size 2-D Tuple for the convolutional layer\n",
    "    :param conv_strides: Stride 2-D Tuple for convolution\n",
    "    :param pool_ksize: kernal size 2-D Tuple for pool\n",
    "    :param pool_strides: Stride 2-D Tuple for pool\n",
    "    : return: A tensor that represents convolution and max pooling of x_tensor\n",
    "    \"\"\"\n",
    "    # TODO: Implement Function\n",
    "    # Convolution Weights and Bias\n",
    "    conv_weights = tf.Variable(tf.truncated_normal([conv_ksize[1], conv_ksize[0], \n",
    "                                                  x_tensor.get_shape().as_list()[3], conv_num_outputs ],stddev=0.1))\n",
    "    conv_bias = tf.Variable(tf.zeros(conv_num_outputs))\n",
    "    \n",
    "    # Convolution Layer\n",
    "    conv_layer=tf.nn.conv2d(x_tensor, conv_weights, strides=[1,conv_strides[1], conv_strides[0],1], padding='SAME')\n",
    "    conv_layer=tf.nn.bias_add(conv_layer,conv_bias)\n",
    "    conv_layer=tf.nn.relu(conv_layer)\n",
    "    \n",
    "    #Pooling Layer\n",
    "    pooling_layer=tf.nn.max_pool(conv_layer, ksize=[1,pool_ksize[1], pool_ksize[1],1], \n",
    "                                 strides=[1,pool_strides[1], pool_strides[0],1], padding='SAME')\n",
    "    \n",
    "    return pooling_layer \n",
    "\n",
    "\n",
    "\"\"\"\n",
    "DON'T MODIFY ANYTHING IN THIS CELL THAT IS BELOW THIS LINE\n",
    "\"\"\"\n",
    "tests.test_con_pool(conv2d_maxpool)"
   ]
  },
  {
   "cell_type": "markdown",
   "metadata": {},
   "source": [
    "### Flatten Layer\n",
    "Implement the `flatten` function to change the dimension of `x_tensor` from a 4-D tensor to a 2-D tensor.  The output should be the shape (*Batch Size*, *Flattened Image Size*). Shortcut option: you can use classes from the [TensorFlow Layers](https://www.tensorflow.org/api_docs/python/tf/layers) or [TensorFlow Layers (contrib)](https://www.tensorflow.org/api_guides/python/contrib.layers) packages for this layer. For more of a challenge, only use other TensorFlow packages."
   ]
  },
  {
   "cell_type": "code",
   "execution_count": 4,
   "metadata": {
    "collapsed": false
   },
   "outputs": [
    {
     "name": "stdout",
     "output_type": "stream",
     "text": [
      "Tests Passed\n"
     ]
    }
   ],
   "source": [
    "def flatten(x_tensor):\n",
    "    \"\"\"\n",
    "    Flatten x_tensor to (Batch Size, Flattened Image Size)\n",
    "    : x_tensor: A tensor of size (Batch Size, ...), where ... are the image dimensions.\n",
    "    : return: A tensor of size (Batch Size, Flattened Image Size).\n",
    "    \"\"\"\n",
    "    # TODO: Implement Function\n",
    "    shape_l = x_tensor.get_shape().as_list()\n",
    "    fc1 = tf.reshape(x_tensor, shape=[-1, shape_l[1]*shape_l[2]*shape_l[3]])\n",
    "    return fc1\n",
    "\n",
    "\n",
    "\"\"\"\n",
    "DON'T MODIFY ANYTHING IN THIS CELL THAT IS BELOW THIS LINE\n",
    "\"\"\"\n",
    "tests.test_flatten(flatten)"
   ]
  },
  {
   "cell_type": "markdown",
   "metadata": {},
   "source": [
    "### Fully-Connected Layer\n",
    "Implement the `fully_conn` function to apply a fully connected layer to `x_tensor` with the shape (*Batch Size*, *num_outputs*). Shortcut option: you can use classes from the [TensorFlow Layers](https://www.tensorflow.org/api_docs/python/tf/layers) or [TensorFlow Layers (contrib)](https://www.tensorflow.org/api_guides/python/contrib.layers) packages for this layer. For more of a challenge, only use other TensorFlow packages."
   ]
  },
  {
   "cell_type": "code",
   "execution_count": 5,
   "metadata": {
    "collapsed": false
   },
   "outputs": [
    {
     "name": "stdout",
     "output_type": "stream",
     "text": [
      "Tests Passed\n"
     ]
    }
   ],
   "source": [
    "def fully_conn(x_tensor, num_outputs):\n",
    "    \"\"\"\n",
    "    Apply a fully connected layer to x_tensor using weight and bias\n",
    "    : x_tensor: A 2-D tensor where the first dimension is batch size.\n",
    "    : num_outputs: The number of output that the new tensor should be.\n",
    "    : return: A 2-D tensor where the second dimension is num_outputs.\n",
    "    \"\"\"\n",
    "    shape_l = x_tensor.get_shape().as_list()\n",
    "    weights = tf.Variable(tf.truncated_normal([shape_l[1], num_outputs],stddev=0.1))\n",
    "    bias = tf.Variable(tf.random_normal([num_outputs]))\n",
    "\n",
    "    # Logits - xW + b\n",
    "    fc = tf.add(tf.matmul(x_tensor, weights), bias)\n",
    "    fc = tf.nn.relu(fc)\n",
    "\n",
    "    return fc\n",
    "\n",
    "\n",
    "\"\"\"\n",
    "DON'T MODIFY ANYTHING IN THIS CELL THAT IS BELOW THIS LINE\n",
    "\"\"\"\n",
    "tests.test_fully_conn(fully_conn)"
   ]
  },
  {
   "cell_type": "markdown",
   "metadata": {},
   "source": [
    "### Output Layer\n",
    "Implement the `output` function to apply a fully connected layer to `x_tensor` with the shape (*Batch Size*, *num_outputs*). Shortcut option: you can use classes from the [TensorFlow Layers](https://www.tensorflow.org/api_docs/python/tf/layers) or [TensorFlow Layers (contrib)](https://www.tensorflow.org/api_guides/python/contrib.layers) packages for this layer. For more of a challenge, only use other TensorFlow packages.\n",
    "\n",
    "**Note:** Activation, softmax, or cross entropy should **not** be applied to this."
   ]
  },
  {
   "cell_type": "code",
   "execution_count": 6,
   "metadata": {
    "collapsed": false
   },
   "outputs": [
    {
     "name": "stdout",
     "output_type": "stream",
     "text": [
      "Tests Passed\n"
     ]
    }
   ],
   "source": [
    "def output(x_tensor, num_outputs):\n",
    "    \"\"\"\n",
    "    Apply a output layer to x_tensor using weight and bias\n",
    "    : x_tensor: A 2-D tensor where the first dimension is batch size.\n",
    "    : num_outputs: The number of output that the new tensor should be.\n",
    "    : return: A 2-D tensor where the second dimension is num_outputs.\n",
    "    \"\"\"\n",
    "    shape_l = x_tensor.get_shape().as_list()\n",
    "    weights = tf.Variable(tf.truncated_normal([shape_l[1], num_outputs],stddev=0.1))\n",
    "    bias = tf.Variable(tf.random_normal([num_outputs]))\n",
    "\n",
    "    # Logits - xW + b\n",
    "    return tf.add(tf.matmul(x_tensor, weights), bias)\n",
    "\n",
    "\n",
    "\n",
    "\"\"\"\n",
    "DON'T MODIFY ANYTHING IN THIS CELL THAT IS BELOW THIS LINE\n",
    "\"\"\"\n",
    "tests.test_output(output)"
   ]
  },
  {
   "cell_type": "markdown",
   "metadata": {},
   "source": [
    "### Create Convolutional Model\n",
    "Implement the function `conv_net` to create a convolutional neural network model. The function takes in a batch of images, `x`, and outputs logits.  Use the layers you created above to create this model:\n",
    "\n",
    "* Apply 1, 2, or 3 Convolution and Max Pool layers\n",
    "* Apply a Flatten Layer\n",
    "* Apply 1, 2, or 3 Fully Connected Layers\n",
    "* Apply an Output Layer\n",
    "* Return the output\n",
    "* Apply [TensorFlow's Dropout](https://www.tensorflow.org/api_docs/python/tf/nn/dropout) to one or more layers in the model using `keep_prob`. "
   ]
  },
  {
   "cell_type": "code",
   "execution_count": 7,
   "metadata": {
    "collapsed": false
   },
   "outputs": [
    {
     "name": "stdout",
     "output_type": "stream",
     "text": [
      "Neural Network Built!\n"
     ]
    }
   ],
   "source": [
    "def conv_net(x, keep_prob):\n",
    "    \"\"\"\n",
    "    Create a convolutional neural network model\n",
    "    : x: Placeholder tensor that holds image data.\n",
    "    : keep_prob: Placeholder tensor that hold dropout keep probability.\n",
    "    : return: Tensor that represents logits\n",
    "    \"\"\"\n",
    "    # TODO: Apply 1, 2, or 3 Convolution and Max Pool layers\n",
    "    #    Play around with different number of outputs, kernel size and stride\n",
    "    # Function Definition from Above:\n",
    "    #    conv2d_maxpool(x_tensor, conv_num_outputs, conv_ksize, conv_strides, pool_ksize, pool_strides)\n",
    "    \n",
    "    # Layer 1 - 32*32*3 to 16*16*32\n",
    "\n",
    "    cov_net = conv2d_maxpool(x, 32,(2,2), (2,2), (2,2), (1,1))\n",
    "    cov_net = conv2d_maxpool(cov_net, 64,(2,2), (2,2), (2,2), (1,1))\n",
    "    cov_net = conv2d_maxpool(cov_net, 128,(2,2), (2,2), (2,2), (1,1))\n",
    "            \n",
    "    # TODO: Apply a Flatten Layer\n",
    "    # Function Definition from Above:\n",
    "    #   flatten(x_tensor)\n",
    "    cov_net=flatten(cov_net)\n",
    "\n",
    "    # TODO: Apply 1, 2, or 3 Fully Connected Layers\n",
    "    #    Play around with different number of outputs\n",
    "    # Function Definition from Above:\n",
    "    #   fully_conn(x_tensor, num_outputs)\n",
    "    cov_net = fully_conn(cov_net, 1024)\n",
    "    cov_net = tf.nn.dropout(cov_net,keep_prob)\n",
    "\n",
    "    cov_net = fully_conn(cov_net, 512)    \n",
    "    cov_net = fully_conn(cov_net, 256)\n",
    "    \n",
    "    # TODO: Apply an Output Layer\n",
    "    #    Set this to the number of classes\n",
    "    # Function Definition from Above:\n",
    "    #   output(x_tensor, num_outputs)\n",
    "    \n",
    "    cov_net = output(cov_net,10)\n",
    "    # TODO: return output\n",
    "    return cov_net\n",
    "\n",
    "\n",
    "\"\"\"\n",
    "DON'T MODIFY ANYTHING IN THIS CELL THAT IS BELOW THIS LINE\n",
    "\"\"\"\n",
    "\n",
    "##############################\n",
    "## Build the Neural Network ##\n",
    "##############################\n",
    "\n",
    "# Remove previous weights, bias, inputs, etc..\n",
    "tf.reset_default_graph()\n",
    "\n",
    "# Inputs\n",
    "x = neural_net_image_input((32, 32, 3))\n",
    "y = neural_net_label_input(10)\n",
    "keep_prob = neural_net_keep_prob_input()\n",
    "\n",
    "# Model\n",
    "logits = conv_net(x, keep_prob)\n",
    "\n",
    "# Name logits Tensor, so that is can be loaded from disk after training\n",
    "logits = tf.identity(logits, name='logits')\n",
    "\n",
    "# Loss and Optimizer\n",
    "cost = tf.reduce_mean(tf.nn.softmax_cross_entropy_with_logits(logits=logits, labels=y))\n",
    "optimizer = tf.train.AdamOptimizer().minimize(cost)\n",
    "\n",
    "# Accuracy\n",
    "correct_pred = tf.equal(tf.argmax(logits, 1), tf.argmax(y, 1))\n",
    "accuracy = tf.reduce_mean(tf.cast(correct_pred, tf.float32), name='accuracy')\n",
    "\n",
    "tests.test_conv_net(conv_net)"
   ]
  },
  {
   "cell_type": "markdown",
   "metadata": {},
   "source": [
    "## Train the Neural Network\n",
    "### Single Optimization\n",
    "Implement the function `train_neural_network` to do a single optimization.  The optimization should use `optimizer` to optimize in `session` with a `feed_dict` of the following:\n",
    "* `x` for image input\n",
    "* `y` for labels\n",
    "* `keep_prob` for keep probability for dropout\n",
    "\n",
    "This function will be called for each batch, so `tf.global_variables_initializer()` has already been called.\n",
    "\n",
    "Note: Nothing needs to be returned. This function is only optimizing the neural network."
   ]
  },
  {
   "cell_type": "code",
   "execution_count": 8,
   "metadata": {
    "collapsed": false
   },
   "outputs": [
    {
     "name": "stdout",
     "output_type": "stream",
     "text": [
      "Tests Passed\n"
     ]
    }
   ],
   "source": [
    "def train_neural_network(session, optimizer, keep_probability, feature_batch, label_batch):\n",
    "    \"\"\"\n",
    "    Optimize the session on a batch of images and labels\n",
    "    : session: Current TensorFlow session\n",
    "    : optimizer: TensorFlow optimizer function\n",
    "    : keep_probability: keep probability\n",
    "    : feature_batch: Batch of Numpy image data\n",
    "    : label_batch: Batch of Numpy label data\n",
    "    \"\"\"\n",
    "    # TODO: Implement Function\n",
    "\n",
    "    session.run(optimizer, feed_dict={x: feature_batch, y: label_batch, keep_prob: keep_probability})\n",
    "\n",
    "\n",
    "\n",
    "\n",
    "\"\"\"\n",
    "DON'T MODIFY ANYTHING IN THIS CELL THAT IS BELOW THIS LINE\n",
    "\"\"\"\n",
    "tests.test_train_nn(train_neural_network)"
   ]
  },
  {
   "cell_type": "markdown",
   "metadata": {},
   "source": [
    "### Show Stats\n",
    "Implement the function `print_stats` to print loss and validation accuracy.  Use the global variables `valid_features` and `valid_labels` to calculate validation accuracy.  Use a keep probability of `1.0` to calculate the loss and validation accuracy."
   ]
  },
  {
   "cell_type": "code",
   "execution_count": 9,
   "metadata": {
    "collapsed": true
   },
   "outputs": [],
   "source": [
    "def print_stats(session, feature_batch, label_batch, cost, accuracy):\n",
    "    \"\"\"\n",
    "    Print information about loss and validation accuracy\n",
    "    : session: Current TensorFlow session\n",
    "    : feature_batch: Batch of Numpy image data\n",
    "    : label_batch: Batch of Numpy label data\n",
    "    : cost: TensorFlow cost function\n",
    "    : accuracy: TensorFlow accuracy function\n",
    "    \"\"\"\n",
    "    # TODO: Implement Function\n",
    "    loss = session.run(cost, feed_dict={x: feature_batch, y: label_batch, keep_prob: 1.})\n",
    "    acc = session.run(accuracy, feed_dict={\n",
    "        x: feature_batch,\n",
    "        y: label_batch,\n",
    "        keep_prob: 1.})\n",
    "\n",
    "    print('Loss: {:>10.4f} Validation Accuracy: {:.6f}'.format(\n",
    "        loss,\n",
    "        acc))\n",
    "    #sys.stdout.write(\"\\r\" + 'Epoch {:>2}, Batch {:>3} - Loss: {:>10.4f} Validation Accuracy: {:.6f}'.format(\n",
    "    #    epoch + 1,\n",
    "    #    batch + 1,\n",
    "    #    loss,\n",
    "    #    valid_acc))\n",
    "    #sys.stdout.flush()"
   ]
  },
  {
   "cell_type": "markdown",
   "metadata": {},
   "source": [
    "### Hyperparameters\n",
    "Tune the following parameters:\n",
    "* Set `epochs` to the number of iterations until the network stops learning or start overfitting\n",
    "* Set `batch_size` to the highest number that your machine has memory for.  Most people set them to common sizes of memory:\n",
    " * 64\n",
    " * 128\n",
    " * 256\n",
    " * ...\n",
    "* Set `keep_probability` to the probability of keeping a node using dropout"
   ]
  },
  {
   "cell_type": "code",
   "execution_count": 10,
   "metadata": {
    "collapsed": true
   },
   "outputs": [],
   "source": [
    "# TODO: Tune Parameters\n",
    "epochs = 20\n",
    "batch_size = 512\n",
    "keep_probability = 0.90"
   ]
  },
  {
   "cell_type": "markdown",
   "metadata": {},
   "source": [
    "### Train on a Single CIFAR-10 Batch\n",
    "Instead of training the neural network on all the CIFAR-10 batches of data, let's use a single batch. This should save time while you iterate on the model to get a better accuracy.  Once the final validation accuracy is 50% or greater, run the model on all the data in the next section."
   ]
  },
  {
   "cell_type": "code",
   "execution_count": 11,
   "metadata": {
    "collapsed": false
   },
   "outputs": [
    {
     "name": "stdout",
     "output_type": "stream",
     "text": [
      "Checking the Training on a Single Batch...\n",
      "Epoch  1, CIFAR-10 Batch 1:  Loss:     2.3718 Validation Accuracy: 0.104730\n",
      "Epoch  2, CIFAR-10 Batch 1:  Loss:     2.0496 Validation Accuracy: 0.277027\n",
      "Epoch  3, CIFAR-10 Batch 1:  Loss:     1.8793 Validation Accuracy: 0.341216\n",
      "Epoch  4, CIFAR-10 Batch 1:  Loss:     1.7433 Validation Accuracy: 0.398649\n",
      "Epoch  5, CIFAR-10 Batch 1:  Loss:     1.6005 Validation Accuracy: 0.415541\n",
      "Epoch  6, CIFAR-10 Batch 1:  Loss:     1.5192 Validation Accuracy: 0.459459\n",
      "Epoch  7, CIFAR-10 Batch 1:  Loss:     1.4214 Validation Accuracy: 0.496622\n",
      "Epoch  8, CIFAR-10 Batch 1:  Loss:     1.3515 Validation Accuracy: 0.503378\n",
      "Epoch  9, CIFAR-10 Batch 1:  Loss:     1.2665 Validation Accuracy: 0.527027\n",
      "Epoch 10, CIFAR-10 Batch 1:  Loss:     1.2473 Validation Accuracy: 0.560811\n",
      "Epoch 11, CIFAR-10 Batch 1:  Loss:     1.1609 Validation Accuracy: 0.587838\n",
      "Epoch 12, CIFAR-10 Batch 1:  Loss:     1.0769 Validation Accuracy: 0.628378\n",
      "Epoch 13, CIFAR-10 Batch 1:  Loss:     0.9882 Validation Accuracy: 0.672297\n",
      "Epoch 14, CIFAR-10 Batch 1:  Loss:     0.9501 Validation Accuracy: 0.672297\n",
      "Epoch 15, CIFAR-10 Batch 1:  Loss:     0.8741 Validation Accuracy: 0.695946\n",
      "Epoch 16, CIFAR-10 Batch 1:  Loss:     0.8083 Validation Accuracy: 0.736486\n",
      "Epoch 17, CIFAR-10 Batch 1:  Loss:     0.7631 Validation Accuracy: 0.733108\n",
      "Epoch 18, CIFAR-10 Batch 1:  Loss:     0.7090 Validation Accuracy: 0.766892\n",
      "Epoch 19, CIFAR-10 Batch 1:  Loss:     0.6361 Validation Accuracy: 0.787162\n",
      "Epoch 20, CIFAR-10 Batch 1:  Loss:     0.6348 Validation Accuracy: 0.814189\n"
     ]
    }
   ],
   "source": [
    "\"\"\"\n",
    "DON'T MODIFY ANYTHING IN THIS CELL\n",
    "\"\"\"\n",
    "print('Checking the Training on a Single Batch...')\n",
    "with tf.Session() as sess:\n",
    "    # Initializing the variables\n",
    "    sess.run(tf.global_variables_initializer())\n",
    "    \n",
    "    # Training cycle\n",
    "    for epoch in range(epochs):\n",
    "        batch_i = 1\n",
    "        for batch_features, batch_labels in helper.load_preprocess_training_batch(batch_i, batch_size):\n",
    "            train_neural_network(sess, optimizer, keep_probability, batch_features, batch_labels)\n",
    "        print('Epoch {:>2}, CIFAR-10 Batch {}:  '.format(epoch + 1, batch_i), end='')\n",
    "        print_stats(sess, batch_features, batch_labels, cost, accuracy)"
   ]
  },
  {
   "cell_type": "code",
   "execution_count": 14,
   "metadata": {
    "collapsed": true
   },
   "outputs": [],
   "source": [
    "# TODO: Tune Parameters\n",
    "epochs = 75\n",
    "batch_size = 512\n",
    "keep_probability = 0.9"
   ]
  },
  {
   "cell_type": "code",
   "execution_count": 16,
   "metadata": {
    "collapsed": false
   },
   "outputs": [
    {
     "name": "stdout",
     "output_type": "stream",
     "text": [
      "Checking the Training on a Single Batch...\n",
      "Epoch  1, CIFAR-10 Batch 1:  Loss: 375052.0938 Validation Accuracy: 0.172297\n",
      "Epoch  2, CIFAR-10 Batch 1:  Loss: 316793.8750 Validation Accuracy: 0.145270\n",
      "Epoch  3, CIFAR-10 Batch 1:  Loss: 205847.0312 Validation Accuracy: 0.209459\n",
      "Epoch  4, CIFAR-10 Batch 1:  Loss: 166888.5469 Validation Accuracy: 0.222973\n",
      "Epoch  5, CIFAR-10 Batch 1:  Loss: 136358.9062 Validation Accuracy: 0.239865\n",
      "Epoch  6, CIFAR-10 Batch 1:  Loss: 117444.2188 Validation Accuracy: 0.270270\n",
      "Epoch  7, CIFAR-10 Batch 1:  Loss: 104576.2031 Validation Accuracy: 0.293919\n",
      "Epoch  8, CIFAR-10 Batch 1:  Loss: 93355.3906 Validation Accuracy: 0.273649\n",
      "Epoch  9, CIFAR-10 Batch 1:  Loss: 80611.1562 Validation Accuracy: 0.300676\n",
      "Epoch 10, CIFAR-10 Batch 1:  Loss: 71117.9766 Validation Accuracy: 0.324324\n",
      "Epoch 11, CIFAR-10 Batch 1:  Loss: 61999.5625 Validation Accuracy: 0.317568\n",
      "Epoch 12, CIFAR-10 Batch 1:  Loss: 54669.7383 Validation Accuracy: 0.351351\n",
      "Epoch 13, CIFAR-10 Batch 1:  Loss: 48510.7891 Validation Accuracy: 0.358108\n",
      "Epoch 14, CIFAR-10 Batch 1:  Loss: 43607.4336 Validation Accuracy: 0.358108\n",
      "Epoch 15, CIFAR-10 Batch 1:  Loss: 38654.9922 Validation Accuracy: 0.368243\n",
      "Epoch 16, CIFAR-10 Batch 1:  Loss: 33957.3047 Validation Accuracy: 0.395270\n",
      "Epoch 17, CIFAR-10 Batch 1:  Loss: 30939.5684 Validation Accuracy: 0.412162\n",
      "Epoch 18, CIFAR-10 Batch 1:  Loss: 28790.5820 Validation Accuracy: 0.402027\n",
      "Epoch 19, CIFAR-10 Batch 1:  Loss: 26337.3066 Validation Accuracy: 0.425676\n",
      "Epoch 20, CIFAR-10 Batch 1:  Loss: 23741.2871 Validation Accuracy: 0.442568\n",
      "Epoch 21, CIFAR-10 Batch 1:  Loss: 21287.0195 Validation Accuracy: 0.466216\n",
      "Epoch 22, CIFAR-10 Batch 1:  Loss: 19877.5176 Validation Accuracy: 0.472973\n",
      "Epoch 23, CIFAR-10 Batch 1:  Loss: 18117.3555 Validation Accuracy: 0.462838\n",
      "Epoch 24, CIFAR-10 Batch 1:  Loss: 16145.1895 Validation Accuracy: 0.510135\n",
      "Epoch 25, CIFAR-10 Batch 1:  Loss: 14561.5996 Validation Accuracy: 0.527027\n",
      "Epoch 26, CIFAR-10 Batch 1:  Loss: 12995.0615 Validation Accuracy: 0.547297\n",
      "Epoch 27, CIFAR-10 Batch 1:  Loss: 12160.0596 Validation Accuracy: 0.543919\n",
      "Epoch 28, CIFAR-10 Batch 1:  Loss: 10728.6182 Validation Accuracy: 0.554054\n",
      "Epoch 29, CIFAR-10 Batch 1:  Loss:  9719.1240 Validation Accuracy: 0.591216\n",
      "Epoch 30, CIFAR-10 Batch 1:  Loss:  9029.1543 Validation Accuracy: 0.560811\n",
      "Epoch 31, CIFAR-10 Batch 1:  Loss:  8258.7529 Validation Accuracy: 0.597973\n",
      "Epoch 32, CIFAR-10 Batch 1:  Loss:  8024.0117 Validation Accuracy: 0.597973\n",
      "Epoch 33, CIFAR-10 Batch 1:  Loss:  7193.9604 Validation Accuracy: 0.618243\n",
      "Epoch 34, CIFAR-10 Batch 1:  Loss:  6616.2788 Validation Accuracy: 0.621622\n",
      "Epoch 35, CIFAR-10 Batch 1:  Loss:  6379.2998 Validation Accuracy: 0.601351\n",
      "Epoch 36, CIFAR-10 Batch 1:  Loss:  5946.3882 Validation Accuracy: 0.638514\n",
      "Epoch 37, CIFAR-10 Batch 1:  Loss:  5088.1367 Validation Accuracy: 0.658784\n",
      "Epoch 38, CIFAR-10 Batch 1:  Loss:  4722.1216 Validation Accuracy: 0.672297\n",
      "Epoch 39, CIFAR-10 Batch 1:  Loss:  4805.4385 Validation Accuracy: 0.685811\n",
      "Epoch 40, CIFAR-10 Batch 1:  Loss:  4707.7949 Validation Accuracy: 0.682432\n",
      "Epoch 41, CIFAR-10 Batch 1:  Loss:  4448.0640 Validation Accuracy: 0.689189\n",
      "Epoch 42, CIFAR-10 Batch 1:  Loss:  3981.0938 Validation Accuracy: 0.706081\n",
      "Epoch 43, CIFAR-10 Batch 1:  Loss:  3752.4351 Validation Accuracy: 0.706081\n",
      "Epoch 44, CIFAR-10 Batch 1:  Loss:  3496.6060 Validation Accuracy: 0.712838\n",
      "Epoch 45, CIFAR-10 Batch 1:  Loss:  3256.1943 Validation Accuracy: 0.736486\n",
      "Epoch 46, CIFAR-10 Batch 1:  Loss:  2951.7603 Validation Accuracy: 0.743243\n",
      "Epoch 47, CIFAR-10 Batch 1:  Loss:  2828.3694 Validation Accuracy: 0.729730\n",
      "Epoch 48, CIFAR-10 Batch 1:  Loss:  2764.6465 Validation Accuracy: 0.743243\n",
      "Epoch 49, CIFAR-10 Batch 1:  Loss:  2638.3081 Validation Accuracy: 0.756757\n",
      "Epoch 50, CIFAR-10 Batch 1:  Loss:  2553.9368 Validation Accuracy: 0.760135\n",
      "Epoch 51, CIFAR-10 Batch 1:  Loss:  2399.5095 Validation Accuracy: 0.753378\n",
      "Epoch 52, CIFAR-10 Batch 1:  Loss:  2109.0439 Validation Accuracy: 0.766892\n",
      "Epoch 53, CIFAR-10 Batch 1:  Loss:  2308.7236 Validation Accuracy: 0.739865\n",
      "Epoch 54, CIFAR-10 Batch 1:  Loss:  2180.5005 Validation Accuracy: 0.777027\n",
      "Epoch 55, CIFAR-10 Batch 1:  Loss:  1917.2456 Validation Accuracy: 0.800676\n",
      "Epoch 56, CIFAR-10 Batch 1:  Loss:  1876.8649 Validation Accuracy: 0.780405\n",
      "Epoch 57, CIFAR-10 Batch 1:  Loss:  1675.6267 Validation Accuracy: 0.790541\n",
      "Epoch 58, CIFAR-10 Batch 1:  Loss:  1611.4919 Validation Accuracy: 0.810811\n",
      "Epoch 59, CIFAR-10 Batch 1:  Loss:  1587.7759 Validation Accuracy: 0.810811\n",
      "Epoch 60, CIFAR-10 Batch 1:  Loss:  1383.3503 Validation Accuracy: 0.834459\n",
      "Epoch 61, CIFAR-10 Batch 1:  Loss:  1339.2291 Validation Accuracy: 0.807432\n",
      "Epoch 62, CIFAR-10 Batch 1:  Loss:  1393.0139 Validation Accuracy: 0.831081\n",
      "Epoch 63, CIFAR-10 Batch 1:  Loss:  1240.5264 Validation Accuracy: 0.841216\n",
      "Epoch 64, CIFAR-10 Batch 1:  Loss:  1070.6921 Validation Accuracy: 0.841216\n",
      "Epoch 65, CIFAR-10 Batch 1:  Loss:  1096.4694 Validation Accuracy: 0.847973\n",
      "Epoch 66, CIFAR-10 Batch 1:  Loss:  1058.2314 Validation Accuracy: 0.847973\n",
      "Epoch 67, CIFAR-10 Batch 1:  Loss:  1020.1566 Validation Accuracy: 0.851351\n",
      "Epoch 68, CIFAR-10 Batch 1:  Loss:   920.1385 Validation Accuracy: 0.868243\n",
      "Epoch 69, CIFAR-10 Batch 1:  Loss:   918.3158 Validation Accuracy: 0.868243\n",
      "Epoch 70, CIFAR-10 Batch 1:  Loss:   863.4974 Validation Accuracy: 0.858108\n",
      "Epoch 71, CIFAR-10 Batch 1:  Loss:   879.6995 Validation Accuracy: 0.864865\n",
      "Epoch 72, CIFAR-10 Batch 1:  Loss:   870.7590 Validation Accuracy: 0.871622\n",
      "Epoch 73, CIFAR-10 Batch 1:  Loss:   750.5920 Validation Accuracy: 0.891892\n",
      "Epoch 74, CIFAR-10 Batch 1:  Loss:   670.3511 Validation Accuracy: 0.885135\n",
      "Epoch 75, CIFAR-10 Batch 1:  Loss:   702.1887 Validation Accuracy: 0.881757\n"
     ]
    }
   ],
   "source": [
    "\"\"\"\n",
    "DON'T MODIFY ANYTHING IN THIS CELL\n",
    "\"\"\"\n",
    "print('Checking the Training on a Single Batch...')\n",
    "with tf.Session() as sess:\n",
    "    # Initializing the variables\n",
    "    sess.run(tf.global_variables_initializer())\n",
    "    \n",
    "    # Training cycle\n",
    "    for epoch in range(epochs):\n",
    "        batch_i = 1\n",
    "        for batch_features, batch_labels in helper.load_preprocess_training_batch(batch_i, batch_size):\n",
    "            train_neural_network(sess, optimizer, keep_probability, batch_features, batch_labels)\n",
    "        print('Epoch {:>2}, CIFAR-10 Batch {}:  '.format(epoch + 1, batch_i), end='')\n",
    "        print_stats(sess, batch_features, batch_labels, cost, accuracy)"
   ]
  },
  {
   "cell_type": "markdown",
   "metadata": {},
   "source": [
    "### Fully Train the Model\n",
    "Now that you got a good accuracy with a single CIFAR-10 batch, try it with all five batches."
   ]
  },
  {
   "cell_type": "code",
   "execution_count": 12,
   "metadata": {
    "collapsed": false
   },
   "outputs": [
    {
     "name": "stdout",
     "output_type": "stream",
     "text": [
      "Training...\n",
      "Epoch  1, CIFAR-10 Batch 1:  Loss:     2.4460 Validation Accuracy: 0.108108\n",
      "Epoch  1, CIFAR-10 Batch 2:  Loss:     2.1358 Validation Accuracy: 0.239865\n",
      "Epoch  1, CIFAR-10 Batch 3:  Loss:     1.8810 Validation Accuracy: 0.310811\n",
      "Epoch  1, CIFAR-10 Batch 4:  Loss:     1.7009 Validation Accuracy: 0.385135\n",
      "Epoch  1, CIFAR-10 Batch 5:  Loss:     1.6243 Validation Accuracy: 0.415541\n",
      "Epoch  2, CIFAR-10 Batch 1:  Loss:     1.6654 Validation Accuracy: 0.388514\n",
      "Epoch  2, CIFAR-10 Batch 2:  Loss:     1.5124 Validation Accuracy: 0.472973\n",
      "Epoch  2, CIFAR-10 Batch 3:  Loss:     1.3856 Validation Accuracy: 0.479730\n",
      "Epoch  2, CIFAR-10 Batch 4:  Loss:     1.3511 Validation Accuracy: 0.496622\n",
      "Epoch  2, CIFAR-10 Batch 5:  Loss:     1.4041 Validation Accuracy: 0.510135\n",
      "Epoch  3, CIFAR-10 Batch 1:  Loss:     1.4264 Validation Accuracy: 0.486486\n",
      "Epoch  3, CIFAR-10 Batch 2:  Loss:     1.3493 Validation Accuracy: 0.533784\n",
      "Epoch  3, CIFAR-10 Batch 3:  Loss:     1.2380 Validation Accuracy: 0.543919\n",
      "Epoch  3, CIFAR-10 Batch 4:  Loss:     1.1726 Validation Accuracy: 0.594595\n",
      "Epoch  3, CIFAR-10 Batch 5:  Loss:     1.2110 Validation Accuracy: 0.557432\n",
      "Epoch  4, CIFAR-10 Batch 1:  Loss:     1.2428 Validation Accuracy: 0.554054\n",
      "Epoch  4, CIFAR-10 Batch 2:  Loss:     1.2424 Validation Accuracy: 0.577703\n",
      "Epoch  4, CIFAR-10 Batch 3:  Loss:     1.1130 Validation Accuracy: 0.641892\n",
      "Epoch  4, CIFAR-10 Batch 4:  Loss:     1.0421 Validation Accuracy: 0.631757\n",
      "Epoch  4, CIFAR-10 Batch 5:  Loss:     1.1113 Validation Accuracy: 0.581081\n",
      "Epoch  5, CIFAR-10 Batch 1:  Loss:     1.1507 Validation Accuracy: 0.621622\n",
      "Epoch  5, CIFAR-10 Batch 2:  Loss:     1.1516 Validation Accuracy: 0.597973\n",
      "Epoch  5, CIFAR-10 Batch 3:  Loss:     1.0099 Validation Accuracy: 0.665541\n",
      "Epoch  5, CIFAR-10 Batch 4:  Loss:     0.9585 Validation Accuracy: 0.658784\n",
      "Epoch  5, CIFAR-10 Batch 5:  Loss:     1.0148 Validation Accuracy: 0.655405\n",
      "Epoch  6, CIFAR-10 Batch 1:  Loss:     1.0458 Validation Accuracy: 0.645270\n",
      "Epoch  6, CIFAR-10 Batch 2:  Loss:     1.0435 Validation Accuracy: 0.652027\n",
      "Epoch  6, CIFAR-10 Batch 3:  Loss:     0.9444 Validation Accuracy: 0.668919\n",
      "Epoch  6, CIFAR-10 Batch 4:  Loss:     0.8915 Validation Accuracy: 0.689189\n",
      "Epoch  6, CIFAR-10 Batch 5:  Loss:     0.9508 Validation Accuracy: 0.648649\n",
      "Epoch  7, CIFAR-10 Batch 1:  Loss:     0.9676 Validation Accuracy: 0.662162\n",
      "Epoch  7, CIFAR-10 Batch 2:  Loss:     0.9844 Validation Accuracy: 0.675676\n",
      "Epoch  7, CIFAR-10 Batch 3:  Loss:     0.8609 Validation Accuracy: 0.702703\n",
      "Epoch  7, CIFAR-10 Batch 4:  Loss:     0.8118 Validation Accuracy: 0.726351\n",
      "Epoch  7, CIFAR-10 Batch 5:  Loss:     0.8931 Validation Accuracy: 0.695946\n",
      "Epoch  8, CIFAR-10 Batch 1:  Loss:     0.9087 Validation Accuracy: 0.679054\n",
      "Epoch  8, CIFAR-10 Batch 2:  Loss:     0.9193 Validation Accuracy: 0.702703\n",
      "Epoch  8, CIFAR-10 Batch 3:  Loss:     0.7936 Validation Accuracy: 0.733108\n",
      "Epoch  8, CIFAR-10 Batch 4:  Loss:     0.7372 Validation Accuracy: 0.746622\n",
      "Epoch  8, CIFAR-10 Batch 5:  Loss:     0.8137 Validation Accuracy: 0.739865\n",
      "Epoch  9, CIFAR-10 Batch 1:  Loss:     0.8285 Validation Accuracy: 0.729730\n",
      "Epoch  9, CIFAR-10 Batch 2:  Loss:     0.8603 Validation Accuracy: 0.706081\n",
      "Epoch  9, CIFAR-10 Batch 3:  Loss:     0.7152 Validation Accuracy: 0.780405\n",
      "Epoch  9, CIFAR-10 Batch 4:  Loss:     0.6905 Validation Accuracy: 0.760135\n",
      "Epoch  9, CIFAR-10 Batch 5:  Loss:     0.7653 Validation Accuracy: 0.746622\n",
      "Epoch 10, CIFAR-10 Batch 1:  Loss:     0.7845 Validation Accuracy: 0.739865\n",
      "Epoch 10, CIFAR-10 Batch 2:  Loss:     0.8350 Validation Accuracy: 0.722973\n",
      "Epoch 10, CIFAR-10 Batch 3:  Loss:     0.6690 Validation Accuracy: 0.787162\n",
      "Epoch 10, CIFAR-10 Batch 4:  Loss:     0.6305 Validation Accuracy: 0.783784\n",
      "Epoch 10, CIFAR-10 Batch 5:  Loss:     0.6797 Validation Accuracy: 0.777027\n",
      "Epoch 11, CIFAR-10 Batch 1:  Loss:     0.6952 Validation Accuracy: 0.753378\n",
      "Epoch 11, CIFAR-10 Batch 2:  Loss:     0.7689 Validation Accuracy: 0.746622\n",
      "Epoch 11, CIFAR-10 Batch 3:  Loss:     0.6314 Validation Accuracy: 0.807432\n",
      "Epoch 11, CIFAR-10 Batch 4:  Loss:     0.6196 Validation Accuracy: 0.777027\n",
      "Epoch 11, CIFAR-10 Batch 5:  Loss:     0.6466 Validation Accuracy: 0.793919\n",
      "Epoch 12, CIFAR-10 Batch 1:  Loss:     0.6719 Validation Accuracy: 0.750000\n",
      "Epoch 12, CIFAR-10 Batch 2:  Loss:     0.7002 Validation Accuracy: 0.750000\n",
      "Epoch 12, CIFAR-10 Batch 3:  Loss:     0.5658 Validation Accuracy: 0.814189\n",
      "Epoch 12, CIFAR-10 Batch 4:  Loss:     0.5699 Validation Accuracy: 0.810811\n",
      "Epoch 12, CIFAR-10 Batch 5:  Loss:     0.5692 Validation Accuracy: 0.800676\n",
      "Epoch 13, CIFAR-10 Batch 1:  Loss:     0.6143 Validation Accuracy: 0.807432\n",
      "Epoch 13, CIFAR-10 Batch 2:  Loss:     0.6695 Validation Accuracy: 0.733108\n",
      "Epoch 13, CIFAR-10 Batch 3:  Loss:     0.5049 Validation Accuracy: 0.847973\n",
      "Epoch 13, CIFAR-10 Batch 4:  Loss:     0.5247 Validation Accuracy: 0.824324\n",
      "Epoch 13, CIFAR-10 Batch 5:  Loss:     0.5246 Validation Accuracy: 0.844595\n",
      "Epoch 14, CIFAR-10 Batch 1:  Loss:     0.5767 Validation Accuracy: 0.810811\n",
      "Epoch 14, CIFAR-10 Batch 2:  Loss:     0.5584 Validation Accuracy: 0.793919\n",
      "Epoch 14, CIFAR-10 Batch 3:  Loss:     0.4837 Validation Accuracy: 0.844595\n",
      "Epoch 14, CIFAR-10 Batch 4:  Loss:     0.4845 Validation Accuracy: 0.837838\n",
      "Epoch 14, CIFAR-10 Batch 5:  Loss:     0.4847 Validation Accuracy: 0.864865\n",
      "Epoch 15, CIFAR-10 Batch 1:  Loss:     0.4745 Validation Accuracy: 0.841216\n",
      "Epoch 15, CIFAR-10 Batch 2:  Loss:     0.5020 Validation Accuracy: 0.820946\n",
      "Epoch 15, CIFAR-10 Batch 3:  Loss:     0.4380 Validation Accuracy: 0.871622\n",
      "Epoch 15, CIFAR-10 Batch 4:  Loss:     0.4860 Validation Accuracy: 0.824324\n",
      "Epoch 15, CIFAR-10 Batch 5:  Loss:     0.4476 Validation Accuracy: 0.875000\n",
      "Epoch 16, CIFAR-10 Batch 1:  Loss:     0.4757 Validation Accuracy: 0.854730\n",
      "Epoch 16, CIFAR-10 Batch 2:  Loss:     0.5165 Validation Accuracy: 0.814189\n",
      "Epoch 16, CIFAR-10 Batch 3:  Loss:     0.3710 Validation Accuracy: 0.898649\n",
      "Epoch 16, CIFAR-10 Batch 4:  Loss:     0.3821 Validation Accuracy: 0.891892\n",
      "Epoch 16, CIFAR-10 Batch 5:  Loss:     0.4530 Validation Accuracy: 0.864865\n",
      "Epoch 17, CIFAR-10 Batch 1:  Loss:     0.4044 Validation Accuracy: 0.888514\n",
      "Epoch 17, CIFAR-10 Batch 2:  Loss:     0.4296 Validation Accuracy: 0.847973\n",
      "Epoch 17, CIFAR-10 Batch 3:  Loss:     0.3515 Validation Accuracy: 0.905405\n",
      "Epoch 17, CIFAR-10 Batch 4:  Loss:     0.3669 Validation Accuracy: 0.891892\n",
      "Epoch 17, CIFAR-10 Batch 5:  Loss:     0.3863 Validation Accuracy: 0.871622\n",
      "Epoch 18, CIFAR-10 Batch 1:  Loss:     0.3578 Validation Accuracy: 0.888514\n",
      "Epoch 18, CIFAR-10 Batch 2:  Loss:     0.4499 Validation Accuracy: 0.851351\n",
      "Epoch 18, CIFAR-10 Batch 3:  Loss:     0.3303 Validation Accuracy: 0.908784\n",
      "Epoch 18, CIFAR-10 Batch 4:  Loss:     0.3657 Validation Accuracy: 0.895270\n",
      "Epoch 18, CIFAR-10 Batch 5:  Loss:     0.3435 Validation Accuracy: 0.905405\n",
      "Epoch 19, CIFAR-10 Batch 1:  Loss:     0.3222 Validation Accuracy: 0.902027\n",
      "Epoch 19, CIFAR-10 Batch 2:  Loss:     0.3912 Validation Accuracy: 0.878378\n",
      "Epoch 19, CIFAR-10 Batch 3:  Loss:     0.3633 Validation Accuracy: 0.878378\n",
      "Epoch 19, CIFAR-10 Batch 4:  Loss:     0.3283 Validation Accuracy: 0.881757\n",
      "Epoch 19, CIFAR-10 Batch 5:  Loss:     0.3301 Validation Accuracy: 0.912162\n",
      "Epoch 20, CIFAR-10 Batch 1:  Loss:     0.3472 Validation Accuracy: 0.878378\n",
      "Epoch 20, CIFAR-10 Batch 2:  Loss:     0.4143 Validation Accuracy: 0.868243\n",
      "Epoch 20, CIFAR-10 Batch 3:  Loss:     0.3091 Validation Accuracy: 0.908784\n",
      "Epoch 20, CIFAR-10 Batch 4:  Loss:     0.3097 Validation Accuracy: 0.908784\n",
      "Epoch 20, CIFAR-10 Batch 5:  Loss:     0.3565 Validation Accuracy: 0.881757\n"
     ]
    }
   ],
   "source": [
    "\"\"\"\n",
    "DON'T MODIFY ANYTHING IN THIS CELL\n",
    "\"\"\"\n",
    "save_model_path = './image_classification'\n",
    "\n",
    "print('Training...')\n",
    "with tf.Session() as sess:\n",
    "    # Initializing the variables\n",
    "    sess.run(tf.global_variables_initializer())\n",
    "    \n",
    "    # Training cycle\n",
    "    for epoch in range(epochs):\n",
    "        # Loop over all batches\n",
    "        n_batches = 5\n",
    "        for batch_i in range(1, n_batches + 1):\n",
    "            for batch_features, batch_labels in helper.load_preprocess_training_batch(batch_i, batch_size):\n",
    "                train_neural_network(sess, optimizer, keep_probability, batch_features, batch_labels)\n",
    "            print('Epoch {:>2}, CIFAR-10 Batch {}:  '.format(epoch + 1, batch_i), end='')\n",
    "            print_stats(sess, batch_features, batch_labels, cost, accuracy)\n",
    "            \n",
    "    # Save Model\n",
    "    saver = tf.train.Saver()\n",
    "    save_path = saver.save(sess, save_model_path)"
   ]
  },
  {
   "cell_type": "markdown",
   "metadata": {},
   "source": [
    "# Checkpoint\n",
    "The model has been saved to disk.\n",
    "## Test Model\n",
    "Test your model against the test dataset.  This will be your final accuracy. You should have an accuracy greater than 50%. If you don't, keep tweaking the model architecture and parameters."
   ]
  },
  {
   "cell_type": "code",
   "execution_count": 16,
   "metadata": {
    "collapsed": false
   },
   "outputs": [
    {
     "name": "stdout",
     "output_type": "stream",
     "text": [
      "Testing Accuracy: 0.6400677859783173\n",
      "\n"
     ]
    },
    {
     "data": {
      "image/png": "[encoded data removed]",
      "text/plain": [
       "<matplotlib.figure.Figure at 0x1878816e630>"
      ]
     },
     "metadata": {
      "image/png": {
       "height": 319,
       "width": 355
      }
     },
     "output_type": "display_data"
    }
   ],
   "source": [
    "\"\"\"\n",
    "DON'T MODIFY ANYTHING IN THIS CELL\n",
    "\"\"\"\n",
    "%matplotlib inline\n",
    "%config InlineBackend.figure_format = 'retina'\n",
    "\n",
    "import tensorflow as tf\n",
    "import pickle\n",
    "import helper\n",
    "import random\n",
    "\n",
    "# Set batch size if not already set\n",
    "try:\n",
    "    if batch_size:\n",
    "        pass\n",
    "except NameError:\n",
    "    batch_size = 64\n",
    "\n",
    "save_model_path = './image_classification'\n",
    "n_samples = 4\n",
    "top_n_predictions = 3\n",
    "\n",
    "def test_model():\n",
    "    \"\"\"\n",
    "    Test the saved model against the test dataset\n",
    "    \"\"\"\n",
    "\n",
    "    test_features, test_labels = pickle.load(open('preprocess_test.p', mode='rb'))\n",
    "    loaded_graph = tf.Graph()\n",
    "\n",
    "    with tf.Session(graph=loaded_graph) as sess:\n",
    "        # Load model\n",
    "        loader = tf.train.import_meta_graph(save_model_path + '.meta')\n",
    "        loader.restore(sess, save_model_path)\n",
    "\n",
    "        # Get Tensors from loaded model\n",
    "        loaded_x = loaded_graph.get_tensor_by_name('x:0')\n",
    "        loaded_y = loaded_graph.get_tensor_by_name('y:0')\n",
    "        loaded_keep_prob = loaded_graph.get_tensor_by_name('keep_prob:0')\n",
    "        loaded_logits = loaded_graph.get_tensor_by_name('logits:0')\n",
    "        loaded_acc = loaded_graph.get_tensor_by_name('accuracy:0')\n",
    "        \n",
    "        # Get accuracy in batches for memory limitations\n",
    "        test_batch_acc_total = 0\n",
    "        test_batch_count = 0\n",
    "        \n",
    "        for test_feature_batch, test_label_batch in helper.batch_features_labels(test_features, test_labels, batch_size):\n",
    "            test_batch_acc_total += sess.run(\n",
    "                loaded_acc,\n",
    "                feed_dict={loaded_x: test_feature_batch, loaded_y: test_label_batch, loaded_keep_prob: 1.0})\n",
    "            test_batch_count += 1\n",
    "\n",
    "        print('Testing Accuracy: {}\\n'.format(test_batch_acc_total/test_batch_count))\n",
    "\n",
    "        # Print Random Samples\n",
    "        random_test_features, random_test_labels = tuple(zip(*random.sample(list(zip(test_features, test_labels)), n_samples)))\n",
    "        random_test_predictions = sess.run(\n",
    "            tf.nn.top_k(tf.nn.softmax(loaded_logits), top_n_predictions),\n",
    "            feed_dict={loaded_x: random_test_features, loaded_y: random_test_labels, loaded_keep_prob: 1.0})\n",
    "        helper.display_image_predictions(random_test_features, random_test_labels, random_test_predictions)\n",
    "\n",
    "\n",
    "test_model()"
   ]
  },
  {
   "cell_type": "markdown",
   "metadata": {},
   "source": [
    "## Why 50-80% Accuracy?\n",
    "You might be wondering why you can't get an accuracy any higher. First things first, 50% isn't bad for a simple CNN.  Pure guessing would get you 10% accuracy. However, you might notice people are getting scores [well above 80%](http://rodrigob.github.io/are_we_there_yet/build/classification_datasets_results.html#43494641522d3130).  That's because we haven't taught you all there is to know about neural networks. We still need to cover a few more techniques.\n",
    "## Submitting This Project\n",
    "When submitting this project, make sure to run all the cells before saving the notebook.  Save the notebook file as \"dlnd_image_classification.ipynb\" and save it as a HTML file under \"File\" -> \"Download as\".  Include the \"helper.py\" and \"problem_unittests.py\" files in your submission."
   ]
  }
 ],
 "metadata": {
  "kernelspec": {
   "display_name": "Python 3",
   "language": "python",
   "name": "python3"
  },
  "language_info": {
   "codemirror_mode": {
    "name": "ipython",
    "version": 3
   },
   "file_extension": ".py",
   "mimetype": "text/x-python",
   "name": "python",
   "nbconvert_exporter": "python",
   "pygments_lexer": "ipython3",
   "version": "3.5.2"
  }
 },
 "nbformat": 4,
 "nbformat_minor": 1
}
